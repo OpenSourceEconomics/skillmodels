{
 "cells": [
  {
   "cell_type": "markdown",
   "metadata": {},
   "source": [
    "# Skillmodels Quickstart"
   ]
  },
  {
   "cell_type": "code",
   "execution_count": 1,
   "metadata": {},
   "outputs": [],
   "source": [
    "from skillmodels.likelihood_function import get_maximization_inputs\n",
    "from skillmodels.config import TEST_DIR\n",
    "import pandas as pd\n",
    "import numpy as np\n",
    "import yaml\n",
    "from time import time\n",
    "from estimagic import maximize"
   ]
  },
  {
   "cell_type": "markdown",
   "metadata": {},
   "source": [
    "## Loading Model Specification and Data\n",
    "\n",
    "Model specifications are python dictionaries that can be safed in yaml or json files. For a moment, just assume you know how to write a model specification and have a skillmodels compatible dataset. Both are \n",
    "explained in different tutorials.\n",
    "\n",
    "Next we load the model specification and the dataset. "
   ]
  },
  {
   "cell_type": "code",
   "execution_count": 2,
   "metadata": {},
   "outputs": [],
   "source": [
    "with open(TEST_DIR / \"model2.yaml\") as y:\n",
    "    model_dict = yaml.load(y, Loader=yaml.SafeLoader)"
   ]
  },
  {
   "cell_type": "code",
   "execution_count": 3,
   "metadata": {},
   "outputs": [],
   "source": [
    "data = pd.read_stata(TEST_DIR / \"model2_simulated_data.dta\")\n",
    "data.set_index([\"caseid\", \"period\"], inplace=True)"
   ]
  },
  {
   "cell_type": "markdown",
   "metadata": {},
   "source": [
    "## Getting the inputs for ``estimagic.maximize``\n",
    "\n",
    "Skillmodels basically just has one public function called ``get_maximization_inputs``. When called with a model specification and a dataset it contains a dictionary with everything you need to maximize the likelihood function using estimagic. \n",
    "\n",
    "By everything you need I mean everything model specific. You should still use the optional arguments of ``maximize`` to tune the optimization."
   ]
  },
  {
   "cell_type": "code",
   "execution_count": 4,
   "metadata": {},
   "outputs": [
    {
     "name": "stderr",
     "output_type": "stream",
     "text": [
      "WARNING:absl:No GPU/TPU found, falling back to CPU. (Set TF_CPP_MIN_LOG_LEVEL=0 and rerun for more info.)\n"
     ]
    }
   ],
   "source": [
    "max_inputs = get_maximization_inputs(model_dict, data)"
   ]
  },
  {
   "cell_type": "markdown",
   "metadata": {},
   "source": [
    "## Filling the Params Template\n",
    "\n",
    "Often you can greatly reduce estimation time by choosing good start parameters. What are good start parameters depends strongly on the model specifications, the scaling of your variables and the normalizations you make. \n",
    "\n",
    "If you have strong difficulties to pick good start values, you probably want to think again about the interpretability of your model parameters and possibly change the normalizations and scaling of your \n",
    "measurements. \n",
    "\n",
    "As a rule of thumb: If all measurements are standardized and, all fixed loadings are 1 and all fixed intercepts are 0 then one is a good start value for all free loadings and 0 is a good start value for all free intercepts. \n",
    "\n",
    "Measurement and shock standard deviations are better started slightly larger than you would expect them. \n",
    "\n",
    "Below I just load start parameters for the CHS example model that I filled out manually. "
   ]
  },
  {
   "cell_type": "code",
   "execution_count": 5,
   "metadata": {},
   "outputs": [
    {
     "data": {
      "text/html": [
       "<div>\n",
       "<style scoped>\n",
       "    .dataframe tbody tr th:only-of-type {\n",
       "        vertical-align: middle;\n",
       "    }\n",
       "\n",
       "    .dataframe tbody tr th {\n",
       "        vertical-align: top;\n",
       "    }\n",
       "\n",
       "    .dataframe thead th {\n",
       "        text-align: right;\n",
       "    }\n",
       "</style>\n",
       "<table border=\"1\" class=\"dataframe\">\n",
       "  <thead>\n",
       "    <tr style=\"text-align: right;\">\n",
       "      <th></th>\n",
       "      <th></th>\n",
       "      <th></th>\n",
       "      <th></th>\n",
       "      <th>value</th>\n",
       "      <th>lower_bound</th>\n",
       "    </tr>\n",
       "    <tr>\n",
       "      <th>category</th>\n",
       "      <th>period</th>\n",
       "      <th>name1</th>\n",
       "      <th>name2</th>\n",
       "      <th></th>\n",
       "      <th></th>\n",
       "    </tr>\n",
       "  </thead>\n",
       "  <tbody>\n",
       "    <tr>\n",
       "      <th rowspan=\"5\" valign=\"top\">controls</th>\n",
       "      <th rowspan=\"5\" valign=\"top\">0</th>\n",
       "      <th rowspan=\"2\" valign=\"top\">y1</th>\n",
       "      <th>constant</th>\n",
       "      <td>NaN</td>\n",
       "      <td>-inf</td>\n",
       "    </tr>\n",
       "    <tr>\n",
       "      <th>x1</th>\n",
       "      <td>NaN</td>\n",
       "      <td>-inf</td>\n",
       "    </tr>\n",
       "    <tr>\n",
       "      <th rowspan=\"2\" valign=\"top\">y2</th>\n",
       "      <th>constant</th>\n",
       "      <td>NaN</td>\n",
       "      <td>-inf</td>\n",
       "    </tr>\n",
       "    <tr>\n",
       "      <th>x1</th>\n",
       "      <td>NaN</td>\n",
       "      <td>-inf</td>\n",
       "    </tr>\n",
       "    <tr>\n",
       "      <th>y3</th>\n",
       "      <th>constant</th>\n",
       "      <td>NaN</td>\n",
       "      <td>-inf</td>\n",
       "    </tr>\n",
       "  </tbody>\n",
       "</table>\n",
       "</div>"
      ],
      "text/plain": [
       "                               value  lower_bound\n",
       "category period name1 name2                      \n",
       "controls 0      y1    constant   NaN         -inf\n",
       "                      x1         NaN         -inf\n",
       "                y2    constant   NaN         -inf\n",
       "                      x1         NaN         -inf\n",
       "                y3    constant   NaN         -inf"
      ]
     },
     "execution_count": 5,
     "metadata": {},
     "output_type": "execute_result"
    }
   ],
   "source": [
    "params_template = max_inputs[\"params_template\"]\n",
    "params_template.head()"
   ]
  },
  {
   "cell_type": "code",
   "execution_count": 6,
   "metadata": {},
   "outputs": [
    {
     "data": {
      "text/html": [
       "<div>\n",
       "<style scoped>\n",
       "    .dataframe tbody tr th:only-of-type {\n",
       "        vertical-align: middle;\n",
       "    }\n",
       "\n",
       "    .dataframe tbody tr th {\n",
       "        vertical-align: top;\n",
       "    }\n",
       "\n",
       "    .dataframe thead th {\n",
       "        text-align: right;\n",
       "    }\n",
       "</style>\n",
       "<table border=\"1\" class=\"dataframe\">\n",
       "  <thead>\n",
       "    <tr style=\"text-align: right;\">\n",
       "      <th></th>\n",
       "      <th></th>\n",
       "      <th></th>\n",
       "      <th></th>\n",
       "      <th>chs_value</th>\n",
       "      <th>good_start_value</th>\n",
       "      <th>bad_start_value</th>\n",
       "    </tr>\n",
       "    <tr>\n",
       "      <th>category</th>\n",
       "      <th>period</th>\n",
       "      <th>name1</th>\n",
       "      <th>name2</th>\n",
       "      <th></th>\n",
       "      <th></th>\n",
       "      <th></th>\n",
       "    </tr>\n",
       "  </thead>\n",
       "  <tbody>\n",
       "    <tr>\n",
       "      <th rowspan=\"5\" valign=\"top\">controls</th>\n",
       "      <th rowspan=\"5\" valign=\"top\">0</th>\n",
       "      <th rowspan=\"2\" valign=\"top\">y1</th>\n",
       "      <th>constant</th>\n",
       "      <td>1.001618</td>\n",
       "      <td>1.0</td>\n",
       "      <td>0.0</td>\n",
       "    </tr>\n",
       "    <tr>\n",
       "      <th>x1</th>\n",
       "      <td>1.005455</td>\n",
       "      <td>1.0</td>\n",
       "      <td>0.0</td>\n",
       "    </tr>\n",
       "    <tr>\n",
       "      <th rowspan=\"2\" valign=\"top\">y2</th>\n",
       "      <th>constant</th>\n",
       "      <td>1.031439</td>\n",
       "      <td>1.0</td>\n",
       "      <td>0.0</td>\n",
       "    </tr>\n",
       "    <tr>\n",
       "      <th>x1</th>\n",
       "      <td>0.975992</td>\n",
       "      <td>1.0</td>\n",
       "      <td>0.0</td>\n",
       "    </tr>\n",
       "    <tr>\n",
       "      <th>y3</th>\n",
       "      <th>constant</th>\n",
       "      <td>0.994091</td>\n",
       "      <td>1.0</td>\n",
       "      <td>0.0</td>\n",
       "    </tr>\n",
       "  </tbody>\n",
       "</table>\n",
       "</div>"
      ],
      "text/plain": [
       "                                chs_value  good_start_value  bad_start_value\n",
       "category period name1 name2                                                 \n",
       "controls 0      y1    constant   1.001618               1.0              0.0\n",
       "                      x1         1.005455               1.0              0.0\n",
       "                y2    constant   1.031439               1.0              0.0\n",
       "                      x1         0.975992               1.0              0.0\n",
       "                y3    constant   0.994091               1.0              0.0"
      ]
     },
     "execution_count": 6,
     "metadata": {},
     "output_type": "execute_result"
    }
   ],
   "source": [
    "index_cols = [\"category\", \"period\", \"name1\", \"name2\"]\n",
    "chs_path = TEST_DIR / \"regression_vault\" / \"chs_results.csv\"\n",
    "chs_values = pd.read_csv(chs_path)\n",
    "chs_values.set_index(index_cols, inplace=True)\n",
    "chs_values = chs_values[[\"chs_value\", \"good_start_value\", \"bad_start_value\"]]\n",
    "chs_values.head()"
   ]
  },
  {
   "cell_type": "code",
   "execution_count": 7,
   "metadata": {},
   "outputs": [
    {
     "data": {
      "text/html": [
       "<div>\n",
       "<style scoped>\n",
       "    .dataframe tbody tr th:only-of-type {\n",
       "        vertical-align: middle;\n",
       "    }\n",
       "\n",
       "    .dataframe tbody tr th {\n",
       "        vertical-align: top;\n",
       "    }\n",
       "\n",
       "    .dataframe thead th {\n",
       "        text-align: right;\n",
       "    }\n",
       "</style>\n",
       "<table border=\"1\" class=\"dataframe\">\n",
       "  <thead>\n",
       "    <tr style=\"text-align: right;\">\n",
       "      <th></th>\n",
       "      <th></th>\n",
       "      <th></th>\n",
       "      <th></th>\n",
       "      <th>value</th>\n",
       "      <th>lower_bound</th>\n",
       "    </tr>\n",
       "    <tr>\n",
       "      <th>category</th>\n",
       "      <th>period</th>\n",
       "      <th>name1</th>\n",
       "      <th>name2</th>\n",
       "      <th></th>\n",
       "      <th></th>\n",
       "    </tr>\n",
       "  </thead>\n",
       "  <tbody>\n",
       "    <tr>\n",
       "      <th rowspan=\"5\" valign=\"top\">controls</th>\n",
       "      <th rowspan=\"5\" valign=\"top\">0</th>\n",
       "      <th rowspan=\"2\" valign=\"top\">y1</th>\n",
       "      <th>constant</th>\n",
       "      <td>1.001618</td>\n",
       "      <td>-inf</td>\n",
       "    </tr>\n",
       "    <tr>\n",
       "      <th>x1</th>\n",
       "      <td>1.005455</td>\n",
       "      <td>-inf</td>\n",
       "    </tr>\n",
       "    <tr>\n",
       "      <th rowspan=\"2\" valign=\"top\">y2</th>\n",
       "      <th>constant</th>\n",
       "      <td>1.031439</td>\n",
       "      <td>-inf</td>\n",
       "    </tr>\n",
       "    <tr>\n",
       "      <th>x1</th>\n",
       "      <td>0.975992</td>\n",
       "      <td>-inf</td>\n",
       "    </tr>\n",
       "    <tr>\n",
       "      <th>y3</th>\n",
       "      <th>constant</th>\n",
       "      <td>0.994091</td>\n",
       "      <td>-inf</td>\n",
       "    </tr>\n",
       "  </tbody>\n",
       "</table>\n",
       "</div>"
      ],
      "text/plain": [
       "                                   value  lower_bound\n",
       "category period name1 name2                          \n",
       "controls 0      y1    constant  1.001618         -inf\n",
       "                      x1        1.005455         -inf\n",
       "                y2    constant  1.031439         -inf\n",
       "                      x1        0.975992         -inf\n",
       "                y3    constant  0.994091         -inf"
      ]
     },
     "execution_count": 7,
     "metadata": {},
     "output_type": "execute_result"
    }
   ],
   "source": [
    "params = params_template.copy()\n",
    "params[\"value\"] = chs_values[\"chs_value\"]\n",
    "params.head()"
   ]
  },
  {
   "cell_type": "markdown",
   "metadata": {},
   "source": [
    "## Time compilation speed\n",
    "\n",
    "Skillmodels uses jax to just-in-time compile the numerical code and get a gradient of the likelihood function by automatic differentiation. \n",
    "\n",
    "There are several versions of the log likelihood function and its gradient:\n",
    "\n",
    "- **debug_loglike**: Is not compiled, can be debugged with a debugger, returns a lot of intermediate outputs and is slow. \n",
    "- **loglike**: Is compiled and fast but does not return intermediate outputs\n",
    "- **gradient**: Is compiled and fast, returns the gradient of loglike\n",
    "- **loglike_and_gradient**: Is compiled and fast and exploits synergies between loglike and gradient calculation. This is the most important one for estimation. "
   ]
  },
  {
   "cell_type": "code",
   "execution_count": 8,
   "metadata": {},
   "outputs": [],
   "source": [
    "debug_loglike = max_inputs[\"debug_loglike\"]\n",
    "loglike = max_inputs[\"loglike\"]\n",
    "gradient = max_inputs[\"gradient\"]\n",
    "loglike_and_gradient = max_inputs[\"loglike_and_gradient\"]"
   ]
  },
  {
   "cell_type": "code",
   "execution_count": 9,
   "metadata": {},
   "outputs": [
    {
     "name": "stdout",
     "output_type": "stream",
     "text": [
      "3.1803035736083984\n"
     ]
    },
    {
     "data": {
      "text/plain": [
       "{'pre_update_states':           fac1      fac2      fac3  mixture  period measurement    id\n",
       " 0     0.000000  0.000000  0.000000        0       0          y1     0\n",
       " 1     0.000000  0.000000  0.000000        0       0          y1     1\n",
       " 2     0.000000  0.000000  0.000000        0       0          y1     2\n",
       " 3     0.000000  0.000000  0.000000        0       0          y1     3\n",
       " 4     0.000000  0.000000  0.000000        0       0          y1     4\n",
       " ...        ...       ...       ...      ...     ...         ...   ...\n",
       " 3995 -0.393568 -0.260489 -0.304120        0       7     Q1_fac1  3995\n",
       " 3996  0.111399  0.356767  0.299648        0       7     Q1_fac1  3996\n",
       " 3997 -0.321585 -0.549056  0.511860        0       7     Q1_fac1  3997\n",
       " 3998  0.293930  0.524977 -0.274992        0       7     Q1_fac1  3998\n",
       " 3999 -0.216362  0.023973  0.063563        0       7     Q1_fac1  3999\n",
       " \n",
       " [236000 rows x 7 columns],\n",
       " 'post_update_states':           fac1      fac2      fac3  mixture  period    id measurement\n",
       " 0     0.111871  0.003323  0.003591        0       0     0          y1\n",
       " 1     0.376414  0.011179  0.012084        0       0     1          y1\n",
       " 2     0.174989  0.005197  0.005618        0       0     2          y1\n",
       " 3     0.095859  0.002847  0.003077        0       0     3          y1\n",
       " 4    -0.311033 -0.009238 -0.009985        0       0     4          y1\n",
       " ...        ...       ...       ...      ...     ...   ...         ...\n",
       " 3995 -0.393568 -0.260489 -0.304120        0       7  3995     Q1_fac1\n",
       " 3996  0.111399  0.356767  0.299648        0       7  3996     Q1_fac1\n",
       " 3997 -0.321585 -0.549056  0.511860        0       7  3997     Q1_fac1\n",
       " 3998  0.293930  0.524977 -0.274992        0       7  3998     Q1_fac1\n",
       " 3999 -0.216362  0.023973  0.063563        0       7  3999     Q1_fac1\n",
       " \n",
       " [236000 rows x 7 columns],\n",
       " 'filtered_states':           fac1      fac2      fac3  mixture  period    id\n",
       " 0     0.186376  0.091633 -0.106732        0       0     0\n",
       " 1     0.245693 -0.280525  0.285942        0       0     1\n",
       " 2     0.494929  0.037534 -0.458473        0       0     2\n",
       " 3     0.558594  0.067168  0.170920        0       0     3\n",
       " 4     0.084291  0.250471  0.466898        0       0     4\n",
       " ...        ...       ...       ...      ...     ...   ...\n",
       " 3995 -0.393568 -0.260489 -0.304120        0       7  3995\n",
       " 3996  0.111399  0.356767  0.299648        0       7  3996\n",
       " 3997 -0.321585 -0.549056  0.511860        0       7  3997\n",
       " 3998  0.293930  0.524977 -0.274992        0       7  3998\n",
       " 3999 -0.216362  0.023973  0.063563        0       7  3999\n",
       " \n",
       " [32000 rows x 6 columns],\n",
       " 'state_ranges': {'fac1':          minimum   maximum\n",
       "  period                    \n",
       "  0      -1.286306  1.281440\n",
       "  1      -1.747732  1.704974\n",
       "  2      -1.956092  1.691804\n",
       "  3      -1.608079  1.783263\n",
       "  4      -1.835516  1.710544\n",
       "  5      -1.806694  1.614255\n",
       "  6      -1.728938  1.469292\n",
       "  7      -1.735790  1.567366,\n",
       "  'fac2':          minimum   maximum\n",
       "  period                    \n",
       "  0      -1.008363  1.138972\n",
       "  1      -1.308280  1.440339\n",
       "  2      -1.625487  1.482808\n",
       "  3      -1.539565  1.346799\n",
       "  4      -1.514808  1.541269\n",
       "  5      -1.377056  1.651247\n",
       "  6      -1.640329  1.301055\n",
       "  7      -1.422660  1.472981,\n",
       "  'fac3':          minimum   maximum\n",
       "  period                    \n",
       "  0      -1.243904  1.258522\n",
       "  1      -1.253434  1.257631\n",
       "  2      -1.265532  1.261948\n",
       "  3      -1.264254  1.254055\n",
       "  4      -1.264228  1.277353\n",
       "  5      -1.277315  1.293874\n",
       "  6      -1.288693  1.284524\n",
       "  7      -1.297715  1.306730},\n",
       " 'residuals':       residual  mixture  period    id measurement\n",
       " 0     0.431990        0       0     0          y1\n",
       " 1     1.453522        0       0     1          y1\n",
       " 2     0.675720        0       0     2          y1\n",
       " 3     0.370159        0       0     3          y1\n",
       " 4    -1.201056        0       0     4          y1\n",
       " ...        ...      ...     ...   ...         ...\n",
       " 3995  2.461561        0       7  3995     Q1_fac1\n",
       " 3996  0.889661        0       7  3996     Q1_fac1\n",
       " 3997 -1.758525        0       7  3997     Q1_fac1\n",
       " 3998  0.433416        0       7  3998     Q1_fac1\n",
       " 3999 -0.470317        0       7  3999     Q1_fac1\n",
       " \n",
       " [236000 rows x 5 columns],\n",
       " 'residual_sds':       residual  mixture  period    id measurement\n",
       " 0     0.825500        0       0     0          y1\n",
       " 1     0.825500        0       0     1          y1\n",
       " 2     0.825500        0       0     2          y1\n",
       " 3     0.825500        0       0     3          y1\n",
       " 4     0.825500        0       0     4          y1\n",
       " ...        ...      ...     ...   ...         ...\n",
       " 3995  0.797613        0       7  3995     Q1_fac1\n",
       " 3996  0.797394        0       7  3996     Q1_fac1\n",
       " 3997  0.797556        0       7  3997     Q1_fac1\n",
       " 3998  0.797379        0       7  3998     Q1_fac1\n",
       " 3999  0.797690        0       7  3999     Q1_fac1\n",
       " \n",
       " [236000 rows x 5 columns],\n",
       " 'all_contributions':       contribution measurement  period    id\n",
       " 0        -0.864098          y1       0     0\n",
       " 1        -2.277343          y1       0     1\n",
       " 2        -1.062191          y1       0     2\n",
       " 3        -0.827706          y1       0     3\n",
       " 4        -1.785603          y1       0     4\n",
       " ...            ...         ...     ...   ...\n",
       " 3995     -5.454991     Q1_fac1       7  3995\n",
       " 3996     -1.314937     Q1_fac1       7  3996\n",
       " 3997     -3.123508     Q1_fac1       7  3997\n",
       " 3998     -0.840237     Q1_fac1       7  3998\n",
       " 3999     -0.866717     Q1_fac1       7  3999\n",
       " \n",
       " [236000 rows x 4 columns],\n",
       " 'value': -251177.30895206888,\n",
       " 'contributions': array([-65.88419161, -57.35209259, -63.66290665, ..., -62.21729575,\n",
       "        -64.62474922, -61.60588466])}"
      ]
     },
     "execution_count": 9,
     "metadata": {},
     "output_type": "execute_result"
    }
   ],
   "source": [
    "start = time()\n",
    "debug_loglike_value = debug_loglike(params)\n",
    "print(time() - start)\n",
    "debug_loglike_value"
   ]
  },
  {
   "cell_type": "code",
   "execution_count": 10,
   "metadata": {},
   "outputs": [
    {
     "name": "stdout",
     "output_type": "stream",
     "text": [
      "1.5302224159240723\n"
     ]
    },
    {
     "data": {
      "text/plain": [
       "{'contributions': array([-65.88419161, -57.35209259, -63.66290665, ..., -62.21729575,\n",
       "        -64.62474922, -61.60588466]),\n",
       " 'value': -251177.30895206888}"
      ]
     },
     "execution_count": 10,
     "metadata": {},
     "output_type": "execute_result"
    }
   ],
   "source": [
    "start = time()\n",
    "loglike_value = loglike(params)\n",
    "print(time() - start)\n",
    "loglike_value"
   ]
  },
  {
   "cell_type": "code",
   "execution_count": 11,
   "metadata": {},
   "outputs": [
    {
     "name": "stdout",
     "output_type": "stream",
     "text": [
      "164 ms ± 6.11 ms per loop (mean ± std. dev. of 7 runs, 10 loops each)\n"
     ]
    }
   ],
   "source": [
    "%timeit loglike(params)"
   ]
  },
  {
   "cell_type": "code",
   "execution_count": 12,
   "metadata": {},
   "outputs": [
    {
     "name": "stdout",
     "output_type": "stream",
     "text": [
      "8.309608459472656\n"
     ]
    }
   ],
   "source": [
    "start = time()\n",
    "gradient_value = gradient(params)\n",
    "print(time() - start)"
   ]
  },
  {
   "cell_type": "code",
   "execution_count": 13,
   "metadata": {},
   "outputs": [
    {
     "name": "stdout",
     "output_type": "stream",
     "text": [
      "688 ms ± 8.19 ms per loop (mean ± std. dev. of 7 runs, 1 loop each)\n"
     ]
    }
   ],
   "source": [
    "%timeit gradient(params)"
   ]
  },
  {
   "cell_type": "code",
   "execution_count": 14,
   "metadata": {},
   "outputs": [
    {
     "name": "stdout",
     "output_type": "stream",
     "text": [
      "0.6915736198425293\n"
     ]
    }
   ],
   "source": [
    "start = time()\n",
    "loglike_and_gradient_value = loglike_and_gradient(params)\n",
    "print(time() - start)"
   ]
  },
  {
   "cell_type": "code",
   "execution_count": 15,
   "metadata": {},
   "outputs": [
    {
     "name": "stdout",
     "output_type": "stream",
     "text": [
      "698 ms ± 13.1 ms per loop (mean ± std. dev. of 7 runs, 1 loop each)\n"
     ]
    }
   ],
   "source": [
    "%timeit loglike_and_gradient(params)"
   ]
  },
  {
   "cell_type": "markdown",
   "metadata": {},
   "source": [
    "\n",
    "## A few additional constraints\n",
    "\n",
    "To get the same values as CHS we will have to do a little more work. The reason is that on top of the many constraints skillmodels generates atuomatically from the model specification, CHS impose two more constraints:\n",
    "\n",
    "1. All but the self productivity paramet in the linear transition equaltion are fixed to zero\n",
    "2. The initial mean of the states is not estimated but assumed to be zero.\n",
    "3. The anchoring parameters (intercepts, control variables, loadings and SDs of measurement error are pairwise equal across periods).\n",
    "\n",
    "Fortunately, estimagic makes it easy to express such constraints:"
   ]
  },
  {
   "cell_type": "code",
   "execution_count": 16,
   "metadata": {},
   "outputs": [],
   "source": [
    "constraints = max_inputs[\"constraints\"]\n",
    "\n",
    "additional_constraints = [\n",
    "    {\"query\": \"category == 'transition' & name1 == 'fac2' & name2 != 'fac2'\",\n",
    "     \"type\": \"fixed\", \"value\": 0},\n",
    "    {\"loc\": \"initial_states\", \"type\": \"fixed\", \"value\": 0},\n",
    "    {\"queries\": [f\"period == {i} & name1 == 'Q1_fac1'\" for i in range(8)], \n",
    "     \"type\": \"pairwise_equality\"}\n",
    "]\n"
   ]
  },
  {
   "cell_type": "code",
   "execution_count": 17,
   "metadata": {},
   "outputs": [],
   "source": [
    "constraints = constraints + additional_constraints"
   ]
  },
  {
   "cell_type": "markdown",
   "metadata": {},
   "source": [
    "## Generating a group column for better dashboard output"
   ]
  },
  {
   "cell_type": "code",
   "execution_count": 18,
   "metadata": {},
   "outputs": [
    {
     "name": "stderr",
     "output_type": "stream",
     "text": [
      "/home/janos/anaconda3/envs/skillmodels/lib/python3.8/site-packages/IPython/core/interactiveshell.py:2894: PerformanceWarning: indexing past lexsort depth may impact performance.\n",
      "  result = self._run_cell(\n"
     ]
    },
    {
     "data": {
      "text/html": [
       "<div>\n",
       "<style scoped>\n",
       "    .dataframe tbody tr th:only-of-type {\n",
       "        vertical-align: middle;\n",
       "    }\n",
       "\n",
       "    .dataframe tbody tr th {\n",
       "        vertical-align: top;\n",
       "    }\n",
       "\n",
       "    .dataframe thead th {\n",
       "        text-align: right;\n",
       "    }\n",
       "</style>\n",
       "<table border=\"1\" class=\"dataframe\">\n",
       "  <thead>\n",
       "    <tr style=\"text-align: right;\">\n",
       "      <th></th>\n",
       "      <th></th>\n",
       "      <th></th>\n",
       "      <th></th>\n",
       "      <th>value</th>\n",
       "      <th>lower_bound</th>\n",
       "      <th>group</th>\n",
       "    </tr>\n",
       "    <tr>\n",
       "      <th>category</th>\n",
       "      <th>period</th>\n",
       "      <th>name1</th>\n",
       "      <th>name2</th>\n",
       "      <th></th>\n",
       "      <th></th>\n",
       "      <th></th>\n",
       "    </tr>\n",
       "  </thead>\n",
       "  <tbody>\n",
       "    <tr>\n",
       "      <th rowspan=\"5\" valign=\"top\">controls</th>\n",
       "      <th rowspan=\"5\" valign=\"top\">0</th>\n",
       "      <th rowspan=\"2\" valign=\"top\">y1</th>\n",
       "      <th>constant</th>\n",
       "      <td>1.001618</td>\n",
       "      <td>-inf</td>\n",
       "      <td>constant-0</td>\n",
       "    </tr>\n",
       "    <tr>\n",
       "      <th>x1</th>\n",
       "      <td>1.005455</td>\n",
       "      <td>-inf</td>\n",
       "      <td>x1-0</td>\n",
       "    </tr>\n",
       "    <tr>\n",
       "      <th rowspan=\"2\" valign=\"top\">y2</th>\n",
       "      <th>constant</th>\n",
       "      <td>1.031439</td>\n",
       "      <td>-inf</td>\n",
       "      <td>constant-0</td>\n",
       "    </tr>\n",
       "    <tr>\n",
       "      <th>x1</th>\n",
       "      <td>0.975992</td>\n",
       "      <td>-inf</td>\n",
       "      <td>x1-0</td>\n",
       "    </tr>\n",
       "    <tr>\n",
       "      <th>y3</th>\n",
       "      <th>constant</th>\n",
       "      <td>0.994091</td>\n",
       "      <td>-inf</td>\n",
       "      <td>constant-0</td>\n",
       "    </tr>\n",
       "    <tr>\n",
       "      <th>...</th>\n",
       "      <th>...</th>\n",
       "      <th>...</th>\n",
       "      <th>...</th>\n",
       "      <td>...</td>\n",
       "      <td>...</td>\n",
       "      <td>...</td>\n",
       "    </tr>\n",
       "    <tr>\n",
       "      <th rowspan=\"5\" valign=\"top\">transition</th>\n",
       "      <th>5</th>\n",
       "      <th>fac2</th>\n",
       "      <th>constant</th>\n",
       "      <td>0.000000</td>\n",
       "      <td>-inf</td>\n",
       "      <td>None</td>\n",
       "    </tr>\n",
       "    <tr>\n",
       "      <th rowspan=\"4\" valign=\"top\">6</th>\n",
       "      <th rowspan=\"4\" valign=\"top\">fac2</th>\n",
       "      <th>fac1</th>\n",
       "      <td>0.000000</td>\n",
       "      <td>-inf</td>\n",
       "      <td>None</td>\n",
       "    </tr>\n",
       "    <tr>\n",
       "      <th>fac2</th>\n",
       "      <td>0.608871</td>\n",
       "      <td>-inf</td>\n",
       "      <td>None</td>\n",
       "    </tr>\n",
       "    <tr>\n",
       "      <th>fac3</th>\n",
       "      <td>0.000000</td>\n",
       "      <td>-inf</td>\n",
       "      <td>None</td>\n",
       "    </tr>\n",
       "    <tr>\n",
       "      <th>constant</th>\n",
       "      <td>0.000000</td>\n",
       "      <td>-inf</td>\n",
       "      <td>None</td>\n",
       "    </tr>\n",
       "  </tbody>\n",
       "</table>\n",
       "<p>441 rows × 3 columns</p>\n",
       "</div>"
      ],
      "text/plain": [
       "                                     value  lower_bound       group\n",
       "category   period name1 name2                                      \n",
       "controls   0      y1    constant  1.001618         -inf  constant-0\n",
       "                        x1        1.005455         -inf        x1-0\n",
       "                  y2    constant  1.031439         -inf  constant-0\n",
       "                        x1        0.975992         -inf        x1-0\n",
       "                  y3    constant  0.994091         -inf  constant-0\n",
       "...                                    ...          ...         ...\n",
       "transition 5      fac2  constant  0.000000         -inf        None\n",
       "           6      fac2  fac1      0.000000         -inf        None\n",
       "                        fac2      0.608871         -inf        None\n",
       "                        fac3      0.000000         -inf        None\n",
       "                        constant  0.000000         -inf        None\n",
       "\n",
       "[441 rows x 3 columns]"
      ]
     },
     "execution_count": 18,
     "metadata": {},
     "output_type": "execute_result"
    }
   ],
   "source": [
    "from estimagic.optimization.process_constraints import process_constraints\n",
    "pc, pp = process_constraints(constraints, params)\n",
    "params[\"group\"] = params.index.get_level_values(\"category\")\n",
    "params.loc[\"controls\", \"group\"] = params.loc[\"controls\"].index.get_level_values(\"name2\")\n",
    "\n",
    "params[\"group\"] = params[\"group\"].astype(str) + \"_\" + params.index.get_level_values(\"period\").astype(str)\n",
    "params[\"group\"] = params[\"group\"].str.replace(\"_\", \"-\")\n",
    "params[\"group\"] = params[\"group\"].astype(\"O\")\n",
    "params.loc[~pp[\"_internal_free\"], \"group\"] = None \n",
    "params"
   ]
  },
  {
   "cell_type": "markdown",
   "metadata": {},
   "source": [
    "## Estimating the model"
   ]
  },
  {
   "cell_type": "code",
   "execution_count": 19,
   "metadata": {},
   "outputs": [
    {
     "data": {
      "text/plain": [
       "{'contributions': array([-65.78459637, -56.84181997, -64.07640541, ..., -61.3151648 ,\n",
       "        -64.35146984, -61.33764354]),\n",
       " 'value': -249617.99170565547}"
      ]
     },
     "execution_count": 19,
     "metadata": {},
     "output_type": "execute_result"
    }
   ],
   "source": [
    "params[\"value\"] = chs_values[\"good_start_value\"]\n",
    "loc = params.query(\"category == 'shock_sds' & name1 == 'fac3'\").index\n",
    "params.loc[loc, \"lower_bound\"] = 0.00\n",
    "loglike(params)"
   ]
  },
  {
   "cell_type": "code",
   "execution_count": 20,
   "metadata": {},
   "outputs": [],
   "source": [
    "res = maximize(\n",
    "    criterion=loglike,\n",
    "    params=params,\n",
    "    algorithm=\"scipy_lbfgsb\",\n",
    "    criterion_and_derivative=loglike_and_gradient,\n",
    "    constraints=constraints,\n",
    "    logging=False,\n",
    "    algo_options={\"convergence.relative_criterion_tolerance\": 1e-9}\n",
    ")"
   ]
  },
  {
   "cell_type": "code",
   "execution_count": 21,
   "metadata": {},
   "outputs": [
    {
     "data": {
      "text/plain": [
       "'CONVERGENCE: REL_REDUCTION_OF_F_<=_FACTR*EPSMCH'"
      ]
     },
     "execution_count": 21,
     "metadata": {},
     "output_type": "execute_result"
    }
   ],
   "source": [
    "res[\"message\"]"
   ]
  },
  {
   "cell_type": "code",
   "execution_count": 22,
   "metadata": {},
   "outputs": [
    {
     "data": {
      "text/plain": [
       "True"
      ]
     },
     "execution_count": 22,
     "metadata": {},
     "output_type": "execute_result"
    }
   ],
   "source": [
    "res[\"success\"]"
   ]
  },
  {
   "cell_type": "code",
   "execution_count": null,
   "metadata": {},
   "outputs": [],
   "source": []
  }
 ],
 "metadata": {
  "kernelspec": {
   "display_name": "Python 3",
   "language": "python",
   "name": "python3"
  },
  "language_info": {
   "codemirror_mode": {
    "name": "ipython",
    "version": 3
   },
   "file_extension": ".py",
   "mimetype": "text/x-python",
   "name": "python",
   "nbconvert_exporter": "python",
   "pygments_lexer": "ipython3",
   "version": "3.8.8"
  }
 },
 "nbformat": 4,
 "nbformat_minor": 2
}
