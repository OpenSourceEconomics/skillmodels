{
 "cells": [
  {
   "cell_type": "markdown",
   "metadata": {},
   "source": [
    "# Skillmodels Quickstart"
   ]
  },
  {
   "cell_type": "code",
   "execution_count": 1,
   "metadata": {},
   "outputs": [],
   "source": [
    "from skillmodels.likelihood_function import get_maximization_inputs\n",
    "from skillmodels.config import TEST_DIR\n",
    "import pandas as pd\n",
    "import numpy as np\n",
    "import yaml\n",
    "from time import time\n",
    "from estimagic import maximize"
   ]
  },
  {
   "cell_type": "markdown",
   "metadata": {},
   "source": [
    "## Loading Model Specification and Data\n",
    "\n",
    "Model specifications are python dictionaries that can be safed in yaml or json files. For a moment, just assume you know how to write a model specification and have a skillmodels compatible dataset. Both are \n",
    "explained in different tutorials.\n",
    "\n",
    "Next we load the model specification and the dataset. "
   ]
  },
  {
   "cell_type": "code",
   "execution_count": 2,
   "metadata": {},
   "outputs": [],
   "source": [
    "with open(TEST_DIR / \"model2.yaml\") as y:\n",
    "    model_dict = yaml.load(y, Loader=yaml.SafeLoader)"
   ]
  },
  {
   "cell_type": "code",
   "execution_count": 3,
   "metadata": {},
   "outputs": [],
   "source": [
    "data = pd.read_stata(TEST_DIR / \"model2_simulated_data.dta\")\n",
    "data.set_index([\"caseid\", \"period\"], inplace=True)"
   ]
  },
  {
   "cell_type": "markdown",
   "metadata": {},
   "source": [
    "## Getting the inputs for ``estimagic.maximize``\n",
    "\n",
    "Skillmodels basically just has one public function called ``get_maximization_inputs``. When called with a model specification and a dataset it contains a dictionary with everything you need to maximize the likelihood function using estimagic. \n",
    "\n",
    "By everything you need I mean everything model specific. You should still use the optional arguments of ``maximize`` to tune the optimization."
   ]
  },
  {
   "cell_type": "code",
   "execution_count": 4,
   "metadata": {},
   "outputs": [
    {
     "name": "stderr",
     "output_type": "stream",
     "text": [
      "/home/janos/anaconda3/envs/skillmodels/lib/python3.7/site-packages/jax/lib/xla_bridge.py:130: UserWarning: No GPU/TPU found, falling back to CPU.\n",
      "  warnings.warn('No GPU/TPU found, falling back to CPU.')\n",
      "/home/janos/anaconda3/envs/skillmodels/lib/python3.7/site-packages/IPython/core/async_helpers.py:68: PerformanceWarning: indexing past lexsort depth may impact performance.\n",
      "  coro.send(None)\n"
     ]
    }
   ],
   "source": [
    "max_inputs = get_maximization_inputs(model_dict, data)"
   ]
  },
  {
   "cell_type": "markdown",
   "metadata": {},
   "source": [
    "## Filling the Params Template\n",
    "\n",
    "Often you can greatly reduce estimation time by choosing good start parameters. What are good start parameters depends strongly on the model specifications, the scaling of your variables and the normalizations you make. \n",
    "\n",
    "If you have strong difficulties to pick good start values, you probably want to think again about the interpretability of your model parameters and possibly change the normalizations and scaling of your \n",
    "measurements. \n",
    "\n",
    "As a rule of thumb: If all measurements are standardized and, all fixed loadings are 1 and all fixed intercepts are 0 then one is a good start value for all free loadings and 0 is a good start value for all free intercepts. \n",
    "\n",
    "Measurement and shock standard deviations are better started slightly larger than you would expect them. \n",
    "\n",
    "Below I just load start parameters for the CHS example model that I filled out manually. "
   ]
  },
  {
   "cell_type": "code",
   "execution_count": 5,
   "metadata": {},
   "outputs": [
    {
     "data": {
      "text/html": [
       "<div>\n",
       "<style scoped>\n",
       "    .dataframe tbody tr th:only-of-type {\n",
       "        vertical-align: middle;\n",
       "    }\n",
       "\n",
       "    .dataframe tbody tr th {\n",
       "        vertical-align: top;\n",
       "    }\n",
       "\n",
       "    .dataframe thead th {\n",
       "        text-align: right;\n",
       "    }\n",
       "</style>\n",
       "<table border=\"1\" class=\"dataframe\">\n",
       "  <thead>\n",
       "    <tr style=\"text-align: right;\">\n",
       "      <th></th>\n",
       "      <th></th>\n",
       "      <th></th>\n",
       "      <th></th>\n",
       "      <th>value</th>\n",
       "      <th>lower</th>\n",
       "    </tr>\n",
       "    <tr>\n",
       "      <th>category</th>\n",
       "      <th>period</th>\n",
       "      <th>name1</th>\n",
       "      <th>name2</th>\n",
       "      <th></th>\n",
       "      <th></th>\n",
       "    </tr>\n",
       "  </thead>\n",
       "  <tbody>\n",
       "    <tr>\n",
       "      <th rowspan=\"5\" valign=\"top\">controls</th>\n",
       "      <th rowspan=\"5\" valign=\"top\">0</th>\n",
       "      <th rowspan=\"2\" valign=\"top\">y1</th>\n",
       "      <th>constant</th>\n",
       "      <td>NaN</td>\n",
       "      <td>-inf</td>\n",
       "    </tr>\n",
       "    <tr>\n",
       "      <th>x1</th>\n",
       "      <td>NaN</td>\n",
       "      <td>-inf</td>\n",
       "    </tr>\n",
       "    <tr>\n",
       "      <th rowspan=\"2\" valign=\"top\">y2</th>\n",
       "      <th>constant</th>\n",
       "      <td>NaN</td>\n",
       "      <td>-inf</td>\n",
       "    </tr>\n",
       "    <tr>\n",
       "      <th>x1</th>\n",
       "      <td>NaN</td>\n",
       "      <td>-inf</td>\n",
       "    </tr>\n",
       "    <tr>\n",
       "      <th>y3</th>\n",
       "      <th>constant</th>\n",
       "      <td>NaN</td>\n",
       "      <td>-inf</td>\n",
       "    </tr>\n",
       "  </tbody>\n",
       "</table>\n",
       "</div>"
      ],
      "text/plain": [
       "                               value  lower\n",
       "category period name1 name2                \n",
       "controls 0      y1    constant   NaN   -inf\n",
       "                      x1         NaN   -inf\n",
       "                y2    constant   NaN   -inf\n",
       "                      x1         NaN   -inf\n",
       "                y3    constant   NaN   -inf"
      ]
     },
     "execution_count": 5,
     "metadata": {},
     "output_type": "execute_result"
    }
   ],
   "source": [
    "params_template = max_inputs[\"params_template\"]\n",
    "params_template.head()"
   ]
  },
  {
   "cell_type": "code",
   "execution_count": 34,
   "metadata": {},
   "outputs": [
    {
     "data": {
      "text/html": [
       "<div>\n",
       "<style scoped>\n",
       "    .dataframe tbody tr th:only-of-type {\n",
       "        vertical-align: middle;\n",
       "    }\n",
       "\n",
       "    .dataframe tbody tr th {\n",
       "        vertical-align: top;\n",
       "    }\n",
       "\n",
       "    .dataframe thead th {\n",
       "        text-align: right;\n",
       "    }\n",
       "</style>\n",
       "<table border=\"1\" class=\"dataframe\">\n",
       "  <thead>\n",
       "    <tr style=\"text-align: right;\">\n",
       "      <th></th>\n",
       "      <th></th>\n",
       "      <th></th>\n",
       "      <th></th>\n",
       "      <th>chs_value</th>\n",
       "      <th>good_start_value</th>\n",
       "      <th>bad_start_value</th>\n",
       "    </tr>\n",
       "    <tr>\n",
       "      <th>category</th>\n",
       "      <th>period</th>\n",
       "      <th>name1</th>\n",
       "      <th>name2</th>\n",
       "      <th></th>\n",
       "      <th></th>\n",
       "      <th></th>\n",
       "    </tr>\n",
       "  </thead>\n",
       "  <tbody>\n",
       "    <tr>\n",
       "      <th rowspan=\"5\" valign=\"top\">controls</th>\n",
       "      <th rowspan=\"5\" valign=\"top\">0</th>\n",
       "      <th rowspan=\"2\" valign=\"top\">y1</th>\n",
       "      <th>constant</th>\n",
       "      <td>1.001618</td>\n",
       "      <td>1.0</td>\n",
       "      <td>0.0</td>\n",
       "    </tr>\n",
       "    <tr>\n",
       "      <th>x1</th>\n",
       "      <td>1.005455</td>\n",
       "      <td>1.0</td>\n",
       "      <td>0.0</td>\n",
       "    </tr>\n",
       "    <tr>\n",
       "      <th rowspan=\"2\" valign=\"top\">y2</th>\n",
       "      <th>constant</th>\n",
       "      <td>1.031439</td>\n",
       "      <td>1.0</td>\n",
       "      <td>0.0</td>\n",
       "    </tr>\n",
       "    <tr>\n",
       "      <th>x1</th>\n",
       "      <td>0.975992</td>\n",
       "      <td>1.0</td>\n",
       "      <td>0.0</td>\n",
       "    </tr>\n",
       "    <tr>\n",
       "      <th>y3</th>\n",
       "      <th>constant</th>\n",
       "      <td>0.994091</td>\n",
       "      <td>1.0</td>\n",
       "      <td>0.0</td>\n",
       "    </tr>\n",
       "  </tbody>\n",
       "</table>\n",
       "</div>"
      ],
      "text/plain": [
       "                                chs_value  good_start_value  bad_start_value\n",
       "category period name1 name2                                                 \n",
       "controls 0      y1    constant   1.001618               1.0              0.0\n",
       "                      x1         1.005455               1.0              0.0\n",
       "                y2    constant   1.031439               1.0              0.0\n",
       "                      x1         0.975992               1.0              0.0\n",
       "                y3    constant   0.994091               1.0              0.0"
      ]
     },
     "execution_count": 34,
     "metadata": {},
     "output_type": "execute_result"
    }
   ],
   "source": [
    "index_cols = [\"category\", \"period\", \"name1\", \"name2\"]\n",
    "chs_path = TEST_DIR / \"regression_vault\" / \"chs_results.csv\"\n",
    "chs_values = pd.read_csv(chs_path)\n",
    "chs_values.set_index(index_cols, inplace=True)\n",
    "chs_values = chs_values[[\"chs_value\", \"good_start_value\", \"bad_start_value\"]]\n",
    "chs_values.head()"
   ]
  },
  {
   "cell_type": "code",
   "execution_count": 35,
   "metadata": {},
   "outputs": [
    {
     "data": {
      "text/html": [
       "<div>\n",
       "<style scoped>\n",
       "    .dataframe tbody tr th:only-of-type {\n",
       "        vertical-align: middle;\n",
       "    }\n",
       "\n",
       "    .dataframe tbody tr th {\n",
       "        vertical-align: top;\n",
       "    }\n",
       "\n",
       "    .dataframe thead th {\n",
       "        text-align: right;\n",
       "    }\n",
       "</style>\n",
       "<table border=\"1\" class=\"dataframe\">\n",
       "  <thead>\n",
       "    <tr style=\"text-align: right;\">\n",
       "      <th></th>\n",
       "      <th></th>\n",
       "      <th></th>\n",
       "      <th></th>\n",
       "      <th>value</th>\n",
       "      <th>lower</th>\n",
       "    </tr>\n",
       "    <tr>\n",
       "      <th>category</th>\n",
       "      <th>period</th>\n",
       "      <th>name1</th>\n",
       "      <th>name2</th>\n",
       "      <th></th>\n",
       "      <th></th>\n",
       "    </tr>\n",
       "  </thead>\n",
       "  <tbody>\n",
       "    <tr>\n",
       "      <th rowspan=\"5\" valign=\"top\">controls</th>\n",
       "      <th rowspan=\"5\" valign=\"top\">0</th>\n",
       "      <th rowspan=\"2\" valign=\"top\">y1</th>\n",
       "      <th>constant</th>\n",
       "      <td>1.001618</td>\n",
       "      <td>-inf</td>\n",
       "    </tr>\n",
       "    <tr>\n",
       "      <th>x1</th>\n",
       "      <td>1.005455</td>\n",
       "      <td>-inf</td>\n",
       "    </tr>\n",
       "    <tr>\n",
       "      <th rowspan=\"2\" valign=\"top\">y2</th>\n",
       "      <th>constant</th>\n",
       "      <td>1.031439</td>\n",
       "      <td>-inf</td>\n",
       "    </tr>\n",
       "    <tr>\n",
       "      <th>x1</th>\n",
       "      <td>0.975992</td>\n",
       "      <td>-inf</td>\n",
       "    </tr>\n",
       "    <tr>\n",
       "      <th>y3</th>\n",
       "      <th>constant</th>\n",
       "      <td>0.994091</td>\n",
       "      <td>-inf</td>\n",
       "    </tr>\n",
       "  </tbody>\n",
       "</table>\n",
       "</div>"
      ],
      "text/plain": [
       "                                   value  lower\n",
       "category period name1 name2                    \n",
       "controls 0      y1    constant  1.001618   -inf\n",
       "                      x1        1.005455   -inf\n",
       "                y2    constant  1.031439   -inf\n",
       "                      x1        0.975992   -inf\n",
       "                y3    constant  0.994091   -inf"
      ]
     },
     "execution_count": 35,
     "metadata": {},
     "output_type": "execute_result"
    }
   ],
   "source": [
    "params = params_template.copy()\n",
    "params[\"value\"] = chs_values[\"chs_value\"]\n",
    "params.head()"
   ]
  },
  {
   "cell_type": "markdown",
   "metadata": {},
   "source": [
    "## Time compilation speed\n",
    "\n",
    "Skillmodels uses jax to just-in-time compile the numerical code and get a gradient of the likelihood function by automatic differentiation. \n",
    "\n",
    "This has the downside that it does not work on windows and that it has a relatively long compile time before the model. If you just want "
   ]
  },
  {
   "cell_type": "code",
   "execution_count": 8,
   "metadata": {},
   "outputs": [],
   "source": [
    "debug_loglike = max_inputs[\"debug_loglike\"]\n",
    "loglike = max_inputs[\"loglike\"]\n",
    "gradient = max_inputs[\"gradient\"]\n",
    "loglike_and_gradient = max_inputs[\"loglike_and_gradient\"]"
   ]
  },
  {
   "cell_type": "code",
   "execution_count": 9,
   "metadata": {},
   "outputs": [
    {
     "name": "stdout",
     "output_type": "stream",
     "text": [
      "9.000244617462158\n"
     ]
    },
    {
     "data": {
      "text/plain": [
       "{'value': -270698.20833821566,\n",
       " 'contributions': array([-76.03610715, -59.00404373, -68.70897926, ..., -64.07606563,\n",
       "        -72.37184836, -66.84698267])}"
      ]
     },
     "execution_count": 9,
     "metadata": {},
     "output_type": "execute_result"
    }
   ],
   "source": [
    "start = time()\n",
    "debug_loglike_value = debug_loglike(params)\n",
    "print(time() - start)\n",
    "debug_loglike_value"
   ]
  },
  {
   "cell_type": "code",
   "execution_count": 10,
   "metadata": {},
   "outputs": [
    {
     "name": "stdout",
     "output_type": "stream",
     "text": [
      "59.465219020843506\n"
     ]
    },
    {
     "data": {
      "text/plain": [
       "{'contributions': array([-76.03610715, -59.00404373, -68.70897926, ..., -64.07606563,\n",
       "        -72.37184836, -66.84698267]), 'value': -270698.2083382156}"
      ]
     },
     "execution_count": 10,
     "metadata": {},
     "output_type": "execute_result"
    }
   ],
   "source": [
    "start = time()\n",
    "loglike_value = loglike(params)\n",
    "print(time() - start)\n",
    "loglike_value"
   ]
  },
  {
   "cell_type": "code",
   "execution_count": 11,
   "metadata": {},
   "outputs": [
    {
     "name": "stdout",
     "output_type": "stream",
     "text": [
      "1028.6215641498566\n"
     ]
    }
   ],
   "source": [
    "start = time()\n",
    "gradient_value = gradient(params)\n",
    "print(time() - start)"
   ]
  },
  {
   "cell_type": "code",
   "execution_count": 12,
   "metadata": {},
   "outputs": [
    {
     "name": "stdout",
     "output_type": "stream",
     "text": [
      "0.604588508605957\n"
     ]
    }
   ],
   "source": [
    "start = time()\n",
    "loglike_and_gradient_value = loglike_and_gradient(params)\n",
    "print(time() - start)"
   ]
  },
  {
   "cell_type": "code",
   "execution_count": 13,
   "metadata": {},
   "outputs": [
    {
     "name": "stdout",
     "output_type": "stream",
     "text": [
      "593 ms ± 4.49 ms per loop (mean ± std. dev. of 7 runs, 1 loop each)\n"
     ]
    }
   ],
   "source": [
    "%timeit loglike_and_gradient(params)"
   ]
  },
  {
   "cell_type": "markdown",
   "metadata": {},
   "source": [
    "## Insights\n",
    "\n",
    "The ``debug_loglike`` takes about 2 seconds for one evaluation. The first and all subsequent evaluations have the same speed. \n",
    "\n",
    "You should use this if you want to quickly find out if your start parameters produce a valid likelihood or want to debug why it does not. As the name suggests, you can step through the ``debug_loglike`` with a debugger. \n",
    "\n",
    "The jitted ``loglike`` takes long for the first evaluation (on my machine about 50 seconds, but under 200 milliseconds for all subsequent evaluations. \n",
    "\n",
    "The ``gradient`` or ``loglike_and_gradient`` (which ever you call first) will take about 15 minutes to compile but under 700 milliseconds for all subsequent evaluations. In particular, evaluating just the gradient and evaluating ``loglike_and_gradient`` takes exactly the same time! If you have an optimizer that always evaluates gradient and criterion simultaneously, use it!"
   ]
  },
  {
   "cell_type": "markdown",
   "metadata": {},
   "source": [
    "## A few additionl constraints\n",
    "\n",
    "To get the same values as CHS we will have to do a little more work. The reason is that on top of the many constraints skillmodels generates atuomatically from the model specification, CHS impose two more constraints:\n",
    "\n",
    "1. All but the self productivity paramet in the linear transition equaltion are fixed to zero\n",
    "2. The initial mean of the states is not estimated but assumed to be zero.\n",
    "3. The anchoring parameters (intercepts, control variables, loadings and SDs of measurement error are pairwise equal across periods).\n",
    "\n",
    "Fortunately, estimagic makes it easy to express such constraints:"
   ]
  },
  {
   "cell_type": "code",
   "execution_count": 22,
   "metadata": {},
   "outputs": [],
   "source": [
    "constraints = max_inputs[\"constraints\"]\n",
    "\n",
    "additional_constraints = [\n",
    "    {\"query\": \"category == 'transition' & name1 == 'fac2' & name2 != 'fac2'\",\n",
    "     \"type\": \"fixed\", \"value\": 0},\n",
    "    {\"loc\": \"initial_states\", \"type\": \"fixed\", \"value\": 0},\n",
    "    {\"queries\": [f\"period == {i} & name1 == 'Q1_fac1'\" for i in range(7)], \n",
    "     \"type\": \"pairwise_equality\"}\n",
    "]\n"
   ]
  },
  {
   "cell_type": "code",
   "execution_count": 23,
   "metadata": {},
   "outputs": [],
   "source": [
    "constraints = constraints + additional_constraints"
   ]
  },
  {
   "cell_type": "markdown",
   "metadata": {},
   "source": [
    "## Generating a group column for better dashboard output"
   ]
  },
  {
   "cell_type": "code",
   "execution_count": 40,
   "metadata": {},
   "outputs": [
    {
     "name": "stderr",
     "output_type": "stream",
     "text": [
      "/home/janos/anaconda3/envs/skillmodels/lib/python3.7/site-packages/IPython/core/interactiveshell.py:2848: PerformanceWarning: indexing past lexsort depth may impact performance.\n",
      "  raw_cell, store_history, silent, shell_futures)\n"
     ]
    },
    {
     "data": {
      "text/html": [
       "<div>\n",
       "<style scoped>\n",
       "    .dataframe tbody tr th:only-of-type {\n",
       "        vertical-align: middle;\n",
       "    }\n",
       "\n",
       "    .dataframe tbody tr th {\n",
       "        vertical-align: top;\n",
       "    }\n",
       "\n",
       "    .dataframe thead th {\n",
       "        text-align: right;\n",
       "    }\n",
       "</style>\n",
       "<table border=\"1\" class=\"dataframe\">\n",
       "  <thead>\n",
       "    <tr style=\"text-align: right;\">\n",
       "      <th></th>\n",
       "      <th></th>\n",
       "      <th></th>\n",
       "      <th></th>\n",
       "      <th>value</th>\n",
       "      <th>lower</th>\n",
       "      <th>group</th>\n",
       "    </tr>\n",
       "    <tr>\n",
       "      <th>category</th>\n",
       "      <th>period</th>\n",
       "      <th>name1</th>\n",
       "      <th>name2</th>\n",
       "      <th></th>\n",
       "      <th></th>\n",
       "      <th></th>\n",
       "    </tr>\n",
       "  </thead>\n",
       "  <tbody>\n",
       "    <tr>\n",
       "      <th rowspan=\"5\" valign=\"top\">controls</th>\n",
       "      <th rowspan=\"5\" valign=\"top\">0</th>\n",
       "      <th rowspan=\"2\" valign=\"top\">y1</th>\n",
       "      <th>constant</th>\n",
       "      <td>1.001618</td>\n",
       "      <td>-inf</td>\n",
       "      <td>constant-0</td>\n",
       "    </tr>\n",
       "    <tr>\n",
       "      <th>x1</th>\n",
       "      <td>1.005455</td>\n",
       "      <td>-inf</td>\n",
       "      <td>x1-0</td>\n",
       "    </tr>\n",
       "    <tr>\n",
       "      <th rowspan=\"2\" valign=\"top\">y2</th>\n",
       "      <th>constant</th>\n",
       "      <td>1.031439</td>\n",
       "      <td>-inf</td>\n",
       "      <td>constant-0</td>\n",
       "    </tr>\n",
       "    <tr>\n",
       "      <th>x1</th>\n",
       "      <td>0.975992</td>\n",
       "      <td>-inf</td>\n",
       "      <td>x1-0</td>\n",
       "    </tr>\n",
       "    <tr>\n",
       "      <th>y3</th>\n",
       "      <th>constant</th>\n",
       "      <td>0.994091</td>\n",
       "      <td>-inf</td>\n",
       "      <td>constant-0</td>\n",
       "    </tr>\n",
       "    <tr>\n",
       "      <th>...</th>\n",
       "      <th>...</th>\n",
       "      <th>...</th>\n",
       "      <th>...</th>\n",
       "      <td>...</td>\n",
       "      <td>...</td>\n",
       "      <td>...</td>\n",
       "    </tr>\n",
       "    <tr>\n",
       "      <th rowspan=\"5\" valign=\"top\">transition</th>\n",
       "      <th rowspan=\"5\" valign=\"top\">6</th>\n",
       "      <th>fac1</th>\n",
       "      <th>phi</th>\n",
       "      <td>-0.407018</td>\n",
       "      <td>-inf</td>\n",
       "      <td>None</td>\n",
       "    </tr>\n",
       "    <tr>\n",
       "      <th rowspan=\"4\" valign=\"top\">fac2</th>\n",
       "      <th>fac1</th>\n",
       "      <td>0.000000</td>\n",
       "      <td>-inf</td>\n",
       "      <td>None</td>\n",
       "    </tr>\n",
       "    <tr>\n",
       "      <th>fac2</th>\n",
       "      <td>0.608871</td>\n",
       "      <td>-inf</td>\n",
       "      <td>None</td>\n",
       "    </tr>\n",
       "    <tr>\n",
       "      <th>fac3</th>\n",
       "      <td>0.000000</td>\n",
       "      <td>-inf</td>\n",
       "      <td>None</td>\n",
       "    </tr>\n",
       "    <tr>\n",
       "      <th>constant</th>\n",
       "      <td>0.000000</td>\n",
       "      <td>-inf</td>\n",
       "      <td>None</td>\n",
       "    </tr>\n",
       "  </tbody>\n",
       "</table>\n",
       "<p>441 rows × 3 columns</p>\n",
       "</div>"
      ],
      "text/plain": [
       "                                     value  lower       group\n",
       "category   period name1 name2                                \n",
       "controls   0      y1    constant  1.001618   -inf  constant-0\n",
       "                        x1        1.005455   -inf        x1-0\n",
       "                  y2    constant  1.031439   -inf  constant-0\n",
       "                        x1        0.975992   -inf        x1-0\n",
       "                  y3    constant  0.994091   -inf  constant-0\n",
       "...                                    ...    ...         ...\n",
       "transition 6      fac1  phi      -0.407018   -inf        None\n",
       "                  fac2  fac1      0.000000   -inf        None\n",
       "                        fac2      0.608871   -inf        None\n",
       "                        fac3      0.000000   -inf        None\n",
       "                        constant  0.000000   -inf        None\n",
       "\n",
       "[441 rows x 3 columns]"
      ]
     },
     "execution_count": 40,
     "metadata": {},
     "output_type": "execute_result"
    }
   ],
   "source": [
    "from estimagic.optimization.process_constraints import process_constraints\n",
    "pc, pp = process_constraints(constraints, params)\n",
    "params[\"group\"] = params.index.get_level_values(\"category\")\n",
    "params.loc[\"controls\", \"group\"] = params.loc[\"controls\"].index.get_level_values(\"name2\")\n",
    "\n",
    "params[\"group\"] = params[\"group\"].astype(str) + \"_\" + params.index.get_level_values(\"period\").astype(str)\n",
    "params[\"group\"] = params[\"group\"].str.replace(\"_\", \"-\")\n",
    "params[\"group\"] = params[\"group\"].astype(\"O\")\n",
    "params.loc[~pp[\"_internal_free\"], \"group\"] = None \n",
    "params"
   ]
  },
  {
   "cell_type": "markdown",
   "metadata": {},
   "source": [
    "## Estimating the model"
   ]
  },
  {
   "cell_type": "code",
   "execution_count": 49,
   "metadata": {},
   "outputs": [
    {
     "data": {
      "text/plain": [
       "{'contributions': array([-77.34433453, -74.99310014, -76.35249581, ..., -75.51475901,\n",
       "        -80.42696344, -74.94717614]), 'value': -303496.05590529623}"
      ]
     },
     "execution_count": 49,
     "metadata": {},
     "output_type": "execute_result"
    }
   ],
   "source": [
    "params[\"value\"] = chs_values[\"bad_start_value\"]\n",
    "loglike(params)"
   ]
  },
  {
   "cell_type": "code",
   "execution_count": 51,
   "metadata": {},
   "outputs": [],
   "source": [
    "res = maximize(\n",
    "    criterion=loglike,\n",
    "    params=params,\n",
    "    algorithm=\"scipy_lbfgsb\",\n",
    "    criterion_and_derivative=loglike_and_gradient,\n",
    "    logging=\"model2.db\",\n",
    "    constraints=constraints,\n",
    "    log_options={\"if_exists\": \"replace\"}\n",
    ")"
   ]
  },
  {
   "cell_type": "code",
   "execution_count": 53,
   "metadata": {},
   "outputs": [
    {
     "data": {
      "text/plain": [
       "b'CONVERGENCE: REL_REDUCTION_OF_F_<=_FACTR*EPSMCH'"
      ]
     },
     "execution_count": 53,
     "metadata": {},
     "output_type": "execute_result"
    }
   ],
   "source": [
    "res[\"message\"]"
   ]
  },
  {
   "cell_type": "code",
   "execution_count": null,
   "metadata": {},
   "outputs": [],
   "source": []
  }
 ],
 "metadata": {
  "kernelspec": {
   "display_name": "Python 3",
   "language": "python",
   "name": "python3"
  },
  "language_info": {
   "codemirror_mode": {
    "name": "ipython",
    "version": 3
   },
   "file_extension": ".py",
   "mimetype": "text/x-python",
   "name": "python",
   "nbconvert_exporter": "python",
   "pygments_lexer": "ipython3",
   "version": "3.7.6"
  }
 },
 "nbformat": 4,
 "nbformat_minor": 2
}
