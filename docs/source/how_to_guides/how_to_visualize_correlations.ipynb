{
 "cells": [
  {
   "cell_type": "markdown",
   "metadata": {},
   "source": [
    "# Visualizing correlations in a skill formation model"
   ]
  },
  {
   "cell_type": "code",
   "execution_count": 1,
   "metadata": {},
   "outputs": [
    {
     "data": {
      "application/javascript": [
       "\n",
       "            setTimeout(function() {\n",
       "                var nbb_cell_id = 1;\n",
       "                var nbb_unformatted_code = \"import pandas as pd\\nimport yaml\\nfrom skillmodels.config import TEST_DIR\\nimport yaml\\nfrom skillmodels.correlation_heatmap import (\\n    plot_correlation_heatmap,\\n    get_measurements_corr,\\n    get_scores_corr,\\n)\\n\\n%load_ext nb_black\";\n",
       "                var nbb_formatted_code = \"import pandas as pd\\nimport yaml\\nfrom skillmodels.config import TEST_DIR\\nimport yaml\\nfrom skillmodels.correlation_heatmap import (\\n    plot_correlation_heatmap,\\n    get_measurements_corr,\\n    get_scores_corr,\\n)\\n\\n%load_ext nb_black\";\n",
       "                var nbb_cells = Jupyter.notebook.get_cells();\n",
       "                for (var i = 0; i < nbb_cells.length; ++i) {\n",
       "                    if (nbb_cells[i].input_prompt_number == nbb_cell_id) {\n",
       "                        if (nbb_cells[i].get_text() == nbb_unformatted_code) {\n",
       "                             nbb_cells[i].set_text(nbb_formatted_code);\n",
       "                        }\n",
       "                        break;\n",
       "                    }\n",
       "                }\n",
       "            }, 500);\n",
       "            "
      ],
      "text/plain": [
       "<IPython.core.display.Javascript object>"
      ]
     },
     "metadata": {},
     "output_type": "display_data"
    }
   ],
   "source": [
    "import pandas as pd\n",
    "import yaml\n",
    "from skillmodels.config import TEST_DIR\n",
    "import yaml\n",
    "from skillmodels.correlation_heatmap import (\n",
    "    plot_correlation_heatmap,\n",
    "    get_measurements_corr,\n",
    "    get_scores_corr,\n",
    ")\n",
    "\n",
    "%load_ext nb_black"
   ]
  },
  {
   "cell_type": "markdown",
   "metadata": {},
   "source": [
    "## Loading inputs"
   ]
  },
  {
   "cell_type": "code",
   "execution_count": 2,
   "metadata": {},
   "outputs": [
    {
     "data": {
      "application/javascript": [
       "\n",
       "            setTimeout(function() {\n",
       "                var nbb_cell_id = 2;\n",
       "                var nbb_unformatted_code = \"with open(TEST_DIR / \\\"model2.yaml\\\") as y:\\n    model_dict = yaml.load(y, Loader=yaml.FullLoader)\";\n",
       "                var nbb_formatted_code = \"with open(TEST_DIR / \\\"model2.yaml\\\") as y:\\n    model_dict = yaml.load(y, Loader=yaml.FullLoader)\";\n",
       "                var nbb_cells = Jupyter.notebook.get_cells();\n",
       "                for (var i = 0; i < nbb_cells.length; ++i) {\n",
       "                    if (nbb_cells[i].input_prompt_number == nbb_cell_id) {\n",
       "                        if (nbb_cells[i].get_text() == nbb_unformatted_code) {\n",
       "                             nbb_cells[i].set_text(nbb_formatted_code);\n",
       "                        }\n",
       "                        break;\n",
       "                    }\n",
       "                }\n",
       "            }, 500);\n",
       "            "
      ],
      "text/plain": [
       "<IPython.core.display.Javascript object>"
      ]
     },
     "metadata": {},
     "output_type": "display_data"
    }
   ],
   "source": [
    "with open(TEST_DIR / \"model2.yaml\") as y:\n",
    "    model_dict = yaml.load(y, Loader=yaml.FullLoader)"
   ]
  },
  {
   "cell_type": "code",
   "execution_count": 3,
   "metadata": {},
   "outputs": [
    {
     "data": {
      "application/javascript": [
       "\n",
       "            setTimeout(function() {\n",
       "                var nbb_cell_id = 3;\n",
       "                var nbb_unformatted_code = \"params = pd.read_csv(TEST_DIR / \\\"regression_vault\\\" / f\\\"one_stage_anchoring.csv\\\")\\nparams = params.set_index([\\\"category\\\", \\\"period\\\", \\\"name1\\\", \\\"name2\\\"])\\n\\ndata = pd.read_stata(TEST_DIR / \\\"model2_simulated_data.dta\\\")\\ndata.set_index([\\\"caseid\\\", \\\"period\\\"], inplace=True)\";\n",
       "                var nbb_formatted_code = \"params = pd.read_csv(TEST_DIR / \\\"regression_vault\\\" / f\\\"one_stage_anchoring.csv\\\")\\nparams = params.set_index([\\\"category\\\", \\\"period\\\", \\\"name1\\\", \\\"name2\\\"])\\n\\ndata = pd.read_stata(TEST_DIR / \\\"model2_simulated_data.dta\\\")\\ndata.set_index([\\\"caseid\\\", \\\"period\\\"], inplace=True)\";\n",
       "                var nbb_cells = Jupyter.notebook.get_cells();\n",
       "                for (var i = 0; i < nbb_cells.length; ++i) {\n",
       "                    if (nbb_cells[i].input_prompt_number == nbb_cell_id) {\n",
       "                        if (nbb_cells[i].get_text() == nbb_unformatted_code) {\n",
       "                             nbb_cells[i].set_text(nbb_formatted_code);\n",
       "                        }\n",
       "                        break;\n",
       "                    }\n",
       "                }\n",
       "            }, 500);\n",
       "            "
      ],
      "text/plain": [
       "<IPython.core.display.Javascript object>"
      ]
     },
     "metadata": {},
     "output_type": "display_data"
    }
   ],
   "source": [
    "params = pd.read_csv(TEST_DIR / \"regression_vault\" / f\"one_stage_anchoring.csv\")\n",
    "params = params.set_index([\"category\", \"period\", \"name1\", \"name2\"])\n",
    "\n",
    "data = pd.read_stata(TEST_DIR / \"model2_simulated_data.dta\")\n",
    "data.set_index([\"caseid\", \"period\"], inplace=True)"
   ]
  },
  {
   "cell_type": "markdown",
   "metadata": {},
   "source": [
    "## Plotting correlations of measurements"
   ]
  },
  {
   "cell_type": "code",
   "execution_count": 4,
   "metadata": {},
   "outputs": [
    {
     "data": {
      "application/javascript": [
       "\n",
       "            setTimeout(function() {\n",
       "                var nbb_cell_id = 4;\n",
       "                var nbb_unformatted_code = \"corr_meas = get_measurements_corr(\\n    periods=0, data=data, model_dict=model_dict, factors=[\\\"fac1\\\", \\\"fac2\\\"]\\n)\";\n",
       "                var nbb_formatted_code = \"corr_meas = get_measurements_corr(\\n    periods=0, data=data, model_dict=model_dict, factors=[\\\"fac1\\\", \\\"fac2\\\"]\\n)\";\n",
       "                var nbb_cells = Jupyter.notebook.get_cells();\n",
       "                for (var i = 0; i < nbb_cells.length; ++i) {\n",
       "                    if (nbb_cells[i].input_prompt_number == nbb_cell_id) {\n",
       "                        if (nbb_cells[i].get_text() == nbb_unformatted_code) {\n",
       "                             nbb_cells[i].set_text(nbb_formatted_code);\n",
       "                        }\n",
       "                        break;\n",
       "                    }\n",
       "                }\n",
       "            }, 500);\n",
       "            "
      ],
      "text/plain": [
       "<IPython.core.display.Javascript object>"
      ]
     },
     "metadata": {},
     "output_type": "display_data"
    }
   ],
   "source": [
    "corr_meas = get_measurements_corr(\n",
    "    periods=0, data=data, model_dict=model_dict, factors=[\"fac1\", \"fac2\"]\n",
    ")"
   ]
  },
  {
   "cell_type": "code",
   "execution_count": 26,
   "metadata": {},
   "outputs": [
    {
     "data": {
      "application/javascript": [
       "\n",
       "            setTimeout(function() {\n",
       "                var nbb_cell_id = 26;\n",
       "                var nbb_unformatted_code = \"fig_meas = plot_correlation_heatmap(\\n    corr_meas,\\n   \\n)\";\n",
       "                var nbb_formatted_code = \"fig_meas = plot_correlation_heatmap(\\n    corr_meas,\\n)\";\n",
       "                var nbb_cells = Jupyter.notebook.get_cells();\n",
       "                for (var i = 0; i < nbb_cells.length; ++i) {\n",
       "                    if (nbb_cells[i].input_prompt_number == nbb_cell_id) {\n",
       "                        if (nbb_cells[i].get_text() == nbb_unformatted_code) {\n",
       "                             nbb_cells[i].set_text(nbb_formatted_code);\n",
       "                        }\n",
       "                        break;\n",
       "                    }\n",
       "                }\n",
       "            }, 500);\n",
       "            "
      ],
      "text/plain": [
       "<IPython.core.display.Javascript object>"
      ]
     },
     "metadata": {},
     "output_type": "display_data"
    }
   ],
   "source": [
    "fig_meas = plot_correlation_heatmap(\n",
    "    corr_meas,\n",
    ")"
   ]
  },
  {
   "cell_type": "code",
   "execution_count": 27,
   "metadata": {},
   "outputs": [
    {
     "data": {
      "application/vnd.plotly.v1+json": {
       "config": {
        "plotlyServerURL": "https://plot.ly"
       },
       "data": [
        {
         "colorscale": [
          [
           0,
           "rgb(5,48,97)"
          ],
          [
           0.1,
           "rgb(33,102,172)"
          ],
          [
           0.2,
           "rgb(67,147,195)"
          ],
          [
           0.3,
           "rgb(146,197,222)"
          ],
          [
           0.4,
           "rgb(209,229,240)"
          ],
          [
           0.5,
           "rgb(247,247,247)"
          ],
          [
           0.6,
           "rgb(253,219,199)"
          ],
          [
           0.7,
           "rgb(244,165,130)"
          ],
          [
           0.8,
           "rgb(214,96,77)"
          ],
          [
           0.9,
           "rgb(178,24,43)"
          ],
          [
           1,
           "rgb(103,0,31)"
          ]
         ],
         "showscale": true,
         "type": "heatmap",
         "x": [
          "y1",
          "y2",
          "y3",
          "y4",
          "y5",
          "y6"
         ],
         "y": [
          "y1",
          "y2",
          "y3",
          "y4",
          "y5",
          "y6"
         ],
         "z": [
          [
           1,
           0.38,
           0.42,
           0.09,
           0.11,
           0.13
          ],
          [
           0.38,
           1,
           0.47,
           0.11,
           0.12,
           0.1
          ],
          [
           0.42,
           0.47,
           1,
           0.1,
           0.11,
           0.1
          ],
          [
           0.09,
           0.11,
           0.1,
           1,
           0.33,
           0.27
          ],
          [
           0.11,
           0.12,
           0.11,
           0.33,
           1,
           0.3
          ],
          [
           0.13,
           0.1,
           0.1,
           0.27,
           0.3,
           1
          ]
         ],
         "zmax": 0.47,
         "zmid": 0,
         "zmin": -0.47
        }
       ],
       "layout": {
        "annotations": [
         {
          "font": {
           "color": "black",
           "size": 13
          },
          "showarrow": false,
          "text": "1.0",
          "textangle": 0,
          "x": "y6",
          "xref": "x",
          "y": "y6",
          "yref": "y"
         },
         {
          "font": {
           "color": "black",
           "size": 13
          },
          "showarrow": false,
          "text": "0.3",
          "textangle": 0,
          "x": "y6",
          "xref": "x",
          "y": "y5",
          "yref": "y"
         },
         {
          "font": {
           "color": "black",
           "size": 13
          },
          "showarrow": false,
          "text": "0.27",
          "textangle": 0,
          "x": "y6",
          "xref": "x",
          "y": "y4",
          "yref": "y"
         },
         {
          "font": {
           "color": "black",
           "size": 13
          },
          "showarrow": false,
          "text": "0.1",
          "textangle": 0,
          "x": "y6",
          "xref": "x",
          "y": "y3",
          "yref": "y"
         },
         {
          "font": {
           "color": "black",
           "size": 13
          },
          "showarrow": false,
          "text": "0.1",
          "textangle": 0,
          "x": "y6",
          "xref": "x",
          "y": "y2",
          "yref": "y"
         },
         {
          "font": {
           "color": "black",
           "size": 13
          },
          "showarrow": false,
          "text": "0.13",
          "textangle": 0,
          "x": "y6",
          "xref": "x",
          "y": "y1",
          "yref": "y"
         },
         {
          "font": {
           "color": "black",
           "size": 13
          },
          "showarrow": false,
          "text": "0.3",
          "textangle": 0,
          "x": "y5",
          "xref": "x",
          "y": "y6",
          "yref": "y"
         },
         {
          "font": {
           "color": "black",
           "size": 13
          },
          "showarrow": false,
          "text": "1.0",
          "textangle": 0,
          "x": "y5",
          "xref": "x",
          "y": "y5",
          "yref": "y"
         },
         {
          "font": {
           "color": "black",
           "size": 13
          },
          "showarrow": false,
          "text": "0.33",
          "textangle": 0,
          "x": "y5",
          "xref": "x",
          "y": "y4",
          "yref": "y"
         },
         {
          "font": {
           "color": "black",
           "size": 13
          },
          "showarrow": false,
          "text": "0.11",
          "textangle": 0,
          "x": "y5",
          "xref": "x",
          "y": "y3",
          "yref": "y"
         },
         {
          "font": {
           "color": "black",
           "size": 13
          },
          "showarrow": false,
          "text": "0.12",
          "textangle": 0,
          "x": "y5",
          "xref": "x",
          "y": "y2",
          "yref": "y"
         },
         {
          "font": {
           "color": "black",
           "size": 13
          },
          "showarrow": false,
          "text": "0.11",
          "textangle": 0,
          "x": "y5",
          "xref": "x",
          "y": "y1",
          "yref": "y"
         },
         {
          "font": {
           "color": "black",
           "size": 13
          },
          "showarrow": false,
          "text": "0.27",
          "textangle": 0,
          "x": "y4",
          "xref": "x",
          "y": "y6",
          "yref": "y"
         },
         {
          "font": {
           "color": "black",
           "size": 13
          },
          "showarrow": false,
          "text": "0.33",
          "textangle": 0,
          "x": "y4",
          "xref": "x",
          "y": "y5",
          "yref": "y"
         },
         {
          "font": {
           "color": "black",
           "size": 13
          },
          "showarrow": false,
          "text": "1.0",
          "textangle": 0,
          "x": "y4",
          "xref": "x",
          "y": "y4",
          "yref": "y"
         },
         {
          "font": {
           "color": "black",
           "size": 13
          },
          "showarrow": false,
          "text": "0.1",
          "textangle": 0,
          "x": "y4",
          "xref": "x",
          "y": "y3",
          "yref": "y"
         },
         {
          "font": {
           "color": "black",
           "size": 13
          },
          "showarrow": false,
          "text": "0.11",
          "textangle": 0,
          "x": "y4",
          "xref": "x",
          "y": "y2",
          "yref": "y"
         },
         {
          "font": {
           "color": "black",
           "size": 13
          },
          "showarrow": false,
          "text": "0.09",
          "textangle": 0,
          "x": "y4",
          "xref": "x",
          "y": "y1",
          "yref": "y"
         },
         {
          "font": {
           "color": "black",
           "size": 13
          },
          "showarrow": false,
          "text": "0.1",
          "textangle": 0,
          "x": "y3",
          "xref": "x",
          "y": "y6",
          "yref": "y"
         },
         {
          "font": {
           "color": "black",
           "size": 13
          },
          "showarrow": false,
          "text": "0.11",
          "textangle": 0,
          "x": "y3",
          "xref": "x",
          "y": "y5",
          "yref": "y"
         },
         {
          "font": {
           "color": "black",
           "size": 13
          },
          "showarrow": false,
          "text": "0.1",
          "textangle": 0,
          "x": "y3",
          "xref": "x",
          "y": "y4",
          "yref": "y"
         },
         {
          "font": {
           "color": "black",
           "size": 13
          },
          "showarrow": false,
          "text": "1.0",
          "textangle": 0,
          "x": "y3",
          "xref": "x",
          "y": "y3",
          "yref": "y"
         },
         {
          "font": {
           "color": "black",
           "size": 13
          },
          "showarrow": false,
          "text": "0.47",
          "textangle": 0,
          "x": "y3",
          "xref": "x",
          "y": "y2",
          "yref": "y"
         },
         {
          "font": {
           "color": "black",
           "size": 13
          },
          "showarrow": false,
          "text": "0.42",
          "textangle": 0,
          "x": "y3",
          "xref": "x",
          "y": "y1",
          "yref": "y"
         },
         {
          "font": {
           "color": "black",
           "size": 13
          },
          "showarrow": false,
          "text": "0.1",
          "textangle": 0,
          "x": "y2",
          "xref": "x",
          "y": "y6",
          "yref": "y"
         },
         {
          "font": {
           "color": "black",
           "size": 13
          },
          "showarrow": false,
          "text": "0.12",
          "textangle": 0,
          "x": "y2",
          "xref": "x",
          "y": "y5",
          "yref": "y"
         },
         {
          "font": {
           "color": "black",
           "size": 13
          },
          "showarrow": false,
          "text": "0.11",
          "textangle": 0,
          "x": "y2",
          "xref": "x",
          "y": "y4",
          "yref": "y"
         },
         {
          "font": {
           "color": "black",
           "size": 13
          },
          "showarrow": false,
          "text": "0.47",
          "textangle": 0,
          "x": "y2",
          "xref": "x",
          "y": "y3",
          "yref": "y"
         },
         {
          "font": {
           "color": "black",
           "size": 13
          },
          "showarrow": false,
          "text": "1.0",
          "textangle": 0,
          "x": "y2",
          "xref": "x",
          "y": "y2",
          "yref": "y"
         },
         {
          "font": {
           "color": "black",
           "size": 13
          },
          "showarrow": false,
          "text": "0.38",
          "textangle": 0,
          "x": "y2",
          "xref": "x",
          "y": "y1",
          "yref": "y"
         },
         {
          "font": {
           "color": "black",
           "size": 13
          },
          "showarrow": false,
          "text": "0.13",
          "textangle": 0,
          "x": "y1",
          "xref": "x",
          "y": "y6",
          "yref": "y"
         },
         {
          "font": {
           "color": "black",
           "size": 13
          },
          "showarrow": false,
          "text": "0.11",
          "textangle": 0,
          "x": "y1",
          "xref": "x",
          "y": "y5",
          "yref": "y"
         },
         {
          "font": {
           "color": "black",
           "size": 13
          },
          "showarrow": false,
          "text": "0.09",
          "textangle": 0,
          "x": "y1",
          "xref": "x",
          "y": "y4",
          "yref": "y"
         },
         {
          "font": {
           "color": "black",
           "size": 13
          },
          "showarrow": false,
          "text": "0.42",
          "textangle": 0,
          "x": "y1",
          "xref": "x",
          "y": "y3",
          "yref": "y"
         },
         {
          "font": {
           "color": "black",
           "size": 13
          },
          "showarrow": false,
          "text": "0.38",
          "textangle": 0,
          "x": "y1",
          "xref": "x",
          "y": "y2",
          "yref": "y"
         },
         {
          "font": {
           "color": "black",
           "size": 13
          },
          "showarrow": false,
          "text": "1.0",
          "textangle": 0,
          "x": "y1",
          "xref": "x",
          "y": "y1",
          "yref": "y"
         }
        ],
        "template": {
         "data": {
          "bar": [
           {
            "error_x": {
             "color": "#2a3f5f"
            },
            "error_y": {
             "color": "#2a3f5f"
            },
            "marker": {
             "line": {
              "color": "white",
              "width": 0.5
             },
             "pattern": {
              "fillmode": "overlay",
              "size": 10,
              "solidity": 0.2
             }
            },
            "type": "bar"
           }
          ],
          "barpolar": [
           {
            "marker": {
             "line": {
              "color": "white",
              "width": 0.5
             },
             "pattern": {
              "fillmode": "overlay",
              "size": 10,
              "solidity": 0.2
             }
            },
            "type": "barpolar"
           }
          ],
          "carpet": [
           {
            "aaxis": {
             "endlinecolor": "#2a3f5f",
             "gridcolor": "#C8D4E3",
             "linecolor": "#C8D4E3",
             "minorgridcolor": "#C8D4E3",
             "startlinecolor": "#2a3f5f"
            },
            "baxis": {
             "endlinecolor": "#2a3f5f",
             "gridcolor": "#C8D4E3",
             "linecolor": "#C8D4E3",
             "minorgridcolor": "#C8D4E3",
             "startlinecolor": "#2a3f5f"
            },
            "type": "carpet"
           }
          ],
          "choropleth": [
           {
            "colorbar": {
             "outlinewidth": 0,
             "ticks": ""
            },
            "type": "choropleth"
           }
          ],
          "contour": [
           {
            "colorbar": {
             "outlinewidth": 0,
             "ticks": ""
            },
            "colorscale": [
             [
              0,
              "#0d0887"
             ],
             [
              0.1111111111111111,
              "#46039f"
             ],
             [
              0.2222222222222222,
              "#7201a8"
             ],
             [
              0.3333333333333333,
              "#9c179e"
             ],
             [
              0.4444444444444444,
              "#bd3786"
             ],
             [
              0.5555555555555556,
              "#d8576b"
             ],
             [
              0.6666666666666666,
              "#ed7953"
             ],
             [
              0.7777777777777778,
              "#fb9f3a"
             ],
             [
              0.8888888888888888,
              "#fdca26"
             ],
             [
              1,
              "#f0f921"
             ]
            ],
            "type": "contour"
           }
          ],
          "contourcarpet": [
           {
            "colorbar": {
             "outlinewidth": 0,
             "ticks": ""
            },
            "type": "contourcarpet"
           }
          ],
          "heatmap": [
           {
            "colorbar": {
             "outlinewidth": 0,
             "ticks": ""
            },
            "colorscale": [
             [
              0,
              "#0d0887"
             ],
             [
              0.1111111111111111,
              "#46039f"
             ],
             [
              0.2222222222222222,
              "#7201a8"
             ],
             [
              0.3333333333333333,
              "#9c179e"
             ],
             [
              0.4444444444444444,
              "#bd3786"
             ],
             [
              0.5555555555555556,
              "#d8576b"
             ],
             [
              0.6666666666666666,
              "#ed7953"
             ],
             [
              0.7777777777777778,
              "#fb9f3a"
             ],
             [
              0.8888888888888888,
              "#fdca26"
             ],
             [
              1,
              "#f0f921"
             ]
            ],
            "type": "heatmap"
           }
          ],
          "heatmapgl": [
           {
            "colorbar": {
             "outlinewidth": 0,
             "ticks": ""
            },
            "colorscale": [
             [
              0,
              "#0d0887"
             ],
             [
              0.1111111111111111,
              "#46039f"
             ],
             [
              0.2222222222222222,
              "#7201a8"
             ],
             [
              0.3333333333333333,
              "#9c179e"
             ],
             [
              0.4444444444444444,
              "#bd3786"
             ],
             [
              0.5555555555555556,
              "#d8576b"
             ],
             [
              0.6666666666666666,
              "#ed7953"
             ],
             [
              0.7777777777777778,
              "#fb9f3a"
             ],
             [
              0.8888888888888888,
              "#fdca26"
             ],
             [
              1,
              "#f0f921"
             ]
            ],
            "type": "heatmapgl"
           }
          ],
          "histogram": [
           {
            "marker": {
             "pattern": {
              "fillmode": "overlay",
              "size": 10,
              "solidity": 0.2
             }
            },
            "type": "histogram"
           }
          ],
          "histogram2d": [
           {
            "colorbar": {
             "outlinewidth": 0,
             "ticks": ""
            },
            "colorscale": [
             [
              0,
              "#0d0887"
             ],
             [
              0.1111111111111111,
              "#46039f"
             ],
             [
              0.2222222222222222,
              "#7201a8"
             ],
             [
              0.3333333333333333,
              "#9c179e"
             ],
             [
              0.4444444444444444,
              "#bd3786"
             ],
             [
              0.5555555555555556,
              "#d8576b"
             ],
             [
              0.6666666666666666,
              "#ed7953"
             ],
             [
              0.7777777777777778,
              "#fb9f3a"
             ],
             [
              0.8888888888888888,
              "#fdca26"
             ],
             [
              1,
              "#f0f921"
             ]
            ],
            "type": "histogram2d"
           }
          ],
          "histogram2dcontour": [
           {
            "colorbar": {
             "outlinewidth": 0,
             "ticks": ""
            },
            "colorscale": [
             [
              0,
              "#0d0887"
             ],
             [
              0.1111111111111111,
              "#46039f"
             ],
             [
              0.2222222222222222,
              "#7201a8"
             ],
             [
              0.3333333333333333,
              "#9c179e"
             ],
             [
              0.4444444444444444,
              "#bd3786"
             ],
             [
              0.5555555555555556,
              "#d8576b"
             ],
             [
              0.6666666666666666,
              "#ed7953"
             ],
             [
              0.7777777777777778,
              "#fb9f3a"
             ],
             [
              0.8888888888888888,
              "#fdca26"
             ],
             [
              1,
              "#f0f921"
             ]
            ],
            "type": "histogram2dcontour"
           }
          ],
          "mesh3d": [
           {
            "colorbar": {
             "outlinewidth": 0,
             "ticks": ""
            },
            "type": "mesh3d"
           }
          ],
          "parcoords": [
           {
            "line": {
             "colorbar": {
              "outlinewidth": 0,
              "ticks": ""
             }
            },
            "type": "parcoords"
           }
          ],
          "pie": [
           {
            "automargin": true,
            "type": "pie"
           }
          ],
          "scatter": [
           {
            "marker": {
             "colorbar": {
              "outlinewidth": 0,
              "ticks": ""
             }
            },
            "type": "scatter"
           }
          ],
          "scatter3d": [
           {
            "line": {
             "colorbar": {
              "outlinewidth": 0,
              "ticks": ""
             }
            },
            "marker": {
             "colorbar": {
              "outlinewidth": 0,
              "ticks": ""
             }
            },
            "type": "scatter3d"
           }
          ],
          "scattercarpet": [
           {
            "marker": {
             "colorbar": {
              "outlinewidth": 0,
              "ticks": ""
             }
            },
            "type": "scattercarpet"
           }
          ],
          "scattergeo": [
           {
            "marker": {
             "colorbar": {
              "outlinewidth": 0,
              "ticks": ""
             }
            },
            "type": "scattergeo"
           }
          ],
          "scattergl": [
           {
            "marker": {
             "colorbar": {
              "outlinewidth": 0,
              "ticks": ""
             }
            },
            "type": "scattergl"
           }
          ],
          "scattermapbox": [
           {
            "marker": {
             "colorbar": {
              "outlinewidth": 0,
              "ticks": ""
             }
            },
            "type": "scattermapbox"
           }
          ],
          "scatterpolar": [
           {
            "marker": {
             "colorbar": {
              "outlinewidth": 0,
              "ticks": ""
             }
            },
            "type": "scatterpolar"
           }
          ],
          "scatterpolargl": [
           {
            "marker": {
             "colorbar": {
              "outlinewidth": 0,
              "ticks": ""
             }
            },
            "type": "scatterpolargl"
           }
          ],
          "scatterternary": [
           {
            "marker": {
             "colorbar": {
              "outlinewidth": 0,
              "ticks": ""
             }
            },
            "type": "scatterternary"
           }
          ],
          "surface": [
           {
            "colorbar": {
             "outlinewidth": 0,
             "ticks": ""
            },
            "colorscale": [
             [
              0,
              "#0d0887"
             ],
             [
              0.1111111111111111,
              "#46039f"
             ],
             [
              0.2222222222222222,
              "#7201a8"
             ],
             [
              0.3333333333333333,
              "#9c179e"
             ],
             [
              0.4444444444444444,
              "#bd3786"
             ],
             [
              0.5555555555555556,
              "#d8576b"
             ],
             [
              0.6666666666666666,
              "#ed7953"
             ],
             [
              0.7777777777777778,
              "#fb9f3a"
             ],
             [
              0.8888888888888888,
              "#fdca26"
             ],
             [
              1,
              "#f0f921"
             ]
            ],
            "type": "surface"
           }
          ],
          "table": [
           {
            "cells": {
             "fill": {
              "color": "#EBF0F8"
             },
             "line": {
              "color": "white"
             }
            },
            "header": {
             "fill": {
              "color": "#C8D4E3"
             },
             "line": {
              "color": "white"
             }
            },
            "type": "table"
           }
          ]
         },
         "layout": {
          "annotationdefaults": {
           "arrowcolor": "#2a3f5f",
           "arrowhead": 0,
           "arrowwidth": 1
          },
          "autotypenumbers": "strict",
          "coloraxis": {
           "colorbar": {
            "outlinewidth": 0,
            "ticks": ""
           }
          },
          "colorscale": {
           "diverging": [
            [
             0,
             "#8e0152"
            ],
            [
             0.1,
             "#c51b7d"
            ],
            [
             0.2,
             "#de77ae"
            ],
            [
             0.3,
             "#f1b6da"
            ],
            [
             0.4,
             "#fde0ef"
            ],
            [
             0.5,
             "#f7f7f7"
            ],
            [
             0.6,
             "#e6f5d0"
            ],
            [
             0.7,
             "#b8e186"
            ],
            [
             0.8,
             "#7fbc41"
            ],
            [
             0.9,
             "#4d9221"
            ],
            [
             1,
             "#276419"
            ]
           ],
           "sequential": [
            [
             0,
             "#0d0887"
            ],
            [
             0.1111111111111111,
             "#46039f"
            ],
            [
             0.2222222222222222,
             "#7201a8"
            ],
            [
             0.3333333333333333,
             "#9c179e"
            ],
            [
             0.4444444444444444,
             "#bd3786"
            ],
            [
             0.5555555555555556,
             "#d8576b"
            ],
            [
             0.6666666666666666,
             "#ed7953"
            ],
            [
             0.7777777777777778,
             "#fb9f3a"
            ],
            [
             0.8888888888888888,
             "#fdca26"
            ],
            [
             1,
             "#f0f921"
            ]
           ],
           "sequentialminus": [
            [
             0,
             "#0d0887"
            ],
            [
             0.1111111111111111,
             "#46039f"
            ],
            [
             0.2222222222222222,
             "#7201a8"
            ],
            [
             0.3333333333333333,
             "#9c179e"
            ],
            [
             0.4444444444444444,
             "#bd3786"
            ],
            [
             0.5555555555555556,
             "#d8576b"
            ],
            [
             0.6666666666666666,
             "#ed7953"
            ],
            [
             0.7777777777777778,
             "#fb9f3a"
            ],
            [
             0.8888888888888888,
             "#fdca26"
            ],
            [
             1,
             "#f0f921"
            ]
           ]
          },
          "colorway": [
           "#636efa",
           "#EF553B",
           "#00cc96",
           "#ab63fa",
           "#FFA15A",
           "#19d3f3",
           "#FF6692",
           "#B6E880",
           "#FF97FF",
           "#FECB52"
          ],
          "font": {
           "color": "#2a3f5f"
          },
          "geo": {
           "bgcolor": "white",
           "lakecolor": "white",
           "landcolor": "white",
           "showlakes": true,
           "showland": true,
           "subunitcolor": "#C8D4E3"
          },
          "hoverlabel": {
           "align": "left"
          },
          "hovermode": "closest",
          "mapbox": {
           "style": "light"
          },
          "paper_bgcolor": "white",
          "plot_bgcolor": "white",
          "polar": {
           "angularaxis": {
            "gridcolor": "#EBF0F8",
            "linecolor": "#EBF0F8",
            "ticks": ""
           },
           "bgcolor": "white",
           "radialaxis": {
            "gridcolor": "#EBF0F8",
            "linecolor": "#EBF0F8",
            "ticks": ""
           }
          },
          "scene": {
           "xaxis": {
            "backgroundcolor": "white",
            "gridcolor": "#DFE8F3",
            "gridwidth": 2,
            "linecolor": "#EBF0F8",
            "showbackground": true,
            "ticks": "",
            "zerolinecolor": "#EBF0F8"
           },
           "yaxis": {
            "backgroundcolor": "white",
            "gridcolor": "#DFE8F3",
            "gridwidth": 2,
            "linecolor": "#EBF0F8",
            "showbackground": true,
            "ticks": "",
            "zerolinecolor": "#EBF0F8"
           },
           "zaxis": {
            "backgroundcolor": "white",
            "gridcolor": "#DFE8F3",
            "gridwidth": 2,
            "linecolor": "#EBF0F8",
            "showbackground": true,
            "ticks": "",
            "zerolinecolor": "#EBF0F8"
           }
          },
          "shapedefaults": {
           "line": {
            "color": "#2a3f5f"
           }
          },
          "ternary": {
           "aaxis": {
            "gridcolor": "#DFE8F3",
            "linecolor": "#A2B1C6",
            "ticks": ""
           },
           "baxis": {
            "gridcolor": "#DFE8F3",
            "linecolor": "#A2B1C6",
            "ticks": ""
           },
           "bgcolor": "white",
           "caxis": {
            "gridcolor": "#DFE8F3",
            "linecolor": "#A2B1C6",
            "ticks": ""
           }
          },
          "title": {
           "x": 0.05
          },
          "xaxis": {
           "automargin": true,
           "gridcolor": "#EBF0F8",
           "linecolor": "#EBF0F8",
           "ticks": "",
           "title": {
            "standoff": 15
           },
           "zerolinecolor": "#EBF0F8",
           "zerolinewidth": 2
          },
          "yaxis": {
           "automargin": true,
           "gridcolor": "#EBF0F8",
           "linecolor": "#EBF0F8",
           "ticks": "",
           "title": {
            "standoff": 15
           },
           "zerolinecolor": "#EBF0F8",
           "zerolinewidth": 2
          }
         }
        },
        "title": {
         "text": "Measurement correlations of fac1 and fac2 in period 0"
        },
        "xaxis": {
         "showgrid": false,
         "tickangle": 90,
         "tickfont": {
          "color": "black",
          "size": 12
         }
        },
        "yaxis": {
         "autorange": "reversed",
         "showgrid": false,
         "tickangle": 0,
         "tickfont": {
          "color": "black",
          "size": 12
         }
        }
       }
      },
      "text/html": [
       "<div>                            <div id=\"05d76f6a-d30f-4e5e-98ed-85c12af94c97\" class=\"plotly-graph-div\" style=\"height:525px; width:100%;\"></div>            <script type=\"text/javascript\">                require([\"plotly\"], function(Plotly) {                    window.PLOTLYENV=window.PLOTLYENV || {};                                    if (document.getElementById(\"05d76f6a-d30f-4e5e-98ed-85c12af94c97\")) {                    Plotly.newPlot(                        \"05d76f6a-d30f-4e5e-98ed-85c12af94c97\",                        [{\"colorscale\":[[0.0,\"rgb(5,48,97)\"],[0.1,\"rgb(33,102,172)\"],[0.2,\"rgb(67,147,195)\"],[0.3,\"rgb(146,197,222)\"],[0.4,\"rgb(209,229,240)\"],[0.5,\"rgb(247,247,247)\"],[0.6,\"rgb(253,219,199)\"],[0.7,\"rgb(244,165,130)\"],[0.8,\"rgb(214,96,77)\"],[0.9,\"rgb(178,24,43)\"],[1.0,\"rgb(103,0,31)\"]],\"showscale\":true,\"x\":[\"y1\",\"y2\",\"y3\",\"y4\",\"y5\",\"y6\"],\"y\":[\"y1\",\"y2\",\"y3\",\"y4\",\"y5\",\"y6\"],\"z\":[[1.0,0.38,0.42,0.09,0.11,0.13],[0.38,1.0,0.47,0.11,0.12,0.1],[0.42,0.47,1.0,0.1,0.11,0.1],[0.09,0.11,0.1,1.0,0.33,0.27],[0.11,0.12,0.11,0.33,1.0,0.3],[0.13,0.1,0.1,0.27,0.3,1.0]],\"zmax\":0.47,\"zmid\":0,\"zmin\":-0.47,\"type\":\"heatmap\"}],                        {\"template\":{\"data\":{\"barpolar\":[{\"marker\":{\"line\":{\"color\":\"white\",\"width\":0.5},\"pattern\":{\"fillmode\":\"overlay\",\"size\":10,\"solidity\":0.2}},\"type\":\"barpolar\"}],\"bar\":[{\"error_x\":{\"color\":\"#2a3f5f\"},\"error_y\":{\"color\":\"#2a3f5f\"},\"marker\":{\"line\":{\"color\":\"white\",\"width\":0.5},\"pattern\":{\"fillmode\":\"overlay\",\"size\":10,\"solidity\":0.2}},\"type\":\"bar\"}],\"carpet\":[{\"aaxis\":{\"endlinecolor\":\"#2a3f5f\",\"gridcolor\":\"#C8D4E3\",\"linecolor\":\"#C8D4E3\",\"minorgridcolor\":\"#C8D4E3\",\"startlinecolor\":\"#2a3f5f\"},\"baxis\":{\"endlinecolor\":\"#2a3f5f\",\"gridcolor\":\"#C8D4E3\",\"linecolor\":\"#C8D4E3\",\"minorgridcolor\":\"#C8D4E3\",\"startlinecolor\":\"#2a3f5f\"},\"type\":\"carpet\"}],\"choropleth\":[{\"colorbar\":{\"outlinewidth\":0,\"ticks\":\"\"},\"type\":\"choropleth\"}],\"contourcarpet\":[{\"colorbar\":{\"outlinewidth\":0,\"ticks\":\"\"},\"type\":\"contourcarpet\"}],\"contour\":[{\"colorbar\":{\"outlinewidth\":0,\"ticks\":\"\"},\"colorscale\":[[0.0,\"#0d0887\"],[0.1111111111111111,\"#46039f\"],[0.2222222222222222,\"#7201a8\"],[0.3333333333333333,\"#9c179e\"],[0.4444444444444444,\"#bd3786\"],[0.5555555555555556,\"#d8576b\"],[0.6666666666666666,\"#ed7953\"],[0.7777777777777778,\"#fb9f3a\"],[0.8888888888888888,\"#fdca26\"],[1.0,\"#f0f921\"]],\"type\":\"contour\"}],\"heatmapgl\":[{\"colorbar\":{\"outlinewidth\":0,\"ticks\":\"\"},\"colorscale\":[[0.0,\"#0d0887\"],[0.1111111111111111,\"#46039f\"],[0.2222222222222222,\"#7201a8\"],[0.3333333333333333,\"#9c179e\"],[0.4444444444444444,\"#bd3786\"],[0.5555555555555556,\"#d8576b\"],[0.6666666666666666,\"#ed7953\"],[0.7777777777777778,\"#fb9f3a\"],[0.8888888888888888,\"#fdca26\"],[1.0,\"#f0f921\"]],\"type\":\"heatmapgl\"}],\"heatmap\":[{\"colorbar\":{\"outlinewidth\":0,\"ticks\":\"\"},\"colorscale\":[[0.0,\"#0d0887\"],[0.1111111111111111,\"#46039f\"],[0.2222222222222222,\"#7201a8\"],[0.3333333333333333,\"#9c179e\"],[0.4444444444444444,\"#bd3786\"],[0.5555555555555556,\"#d8576b\"],[0.6666666666666666,\"#ed7953\"],[0.7777777777777778,\"#fb9f3a\"],[0.8888888888888888,\"#fdca26\"],[1.0,\"#f0f921\"]],\"type\":\"heatmap\"}],\"histogram2dcontour\":[{\"colorbar\":{\"outlinewidth\":0,\"ticks\":\"\"},\"colorscale\":[[0.0,\"#0d0887\"],[0.1111111111111111,\"#46039f\"],[0.2222222222222222,\"#7201a8\"],[0.3333333333333333,\"#9c179e\"],[0.4444444444444444,\"#bd3786\"],[0.5555555555555556,\"#d8576b\"],[0.6666666666666666,\"#ed7953\"],[0.7777777777777778,\"#fb9f3a\"],[0.8888888888888888,\"#fdca26\"],[1.0,\"#f0f921\"]],\"type\":\"histogram2dcontour\"}],\"histogram2d\":[{\"colorbar\":{\"outlinewidth\":0,\"ticks\":\"\"},\"colorscale\":[[0.0,\"#0d0887\"],[0.1111111111111111,\"#46039f\"],[0.2222222222222222,\"#7201a8\"],[0.3333333333333333,\"#9c179e\"],[0.4444444444444444,\"#bd3786\"],[0.5555555555555556,\"#d8576b\"],[0.6666666666666666,\"#ed7953\"],[0.7777777777777778,\"#fb9f3a\"],[0.8888888888888888,\"#fdca26\"],[1.0,\"#f0f921\"]],\"type\":\"histogram2d\"}],\"histogram\":[{\"marker\":{\"pattern\":{\"fillmode\":\"overlay\",\"size\":10,\"solidity\":0.2}},\"type\":\"histogram\"}],\"mesh3d\":[{\"colorbar\":{\"outlinewidth\":0,\"ticks\":\"\"},\"type\":\"mesh3d\"}],\"parcoords\":[{\"line\":{\"colorbar\":{\"outlinewidth\":0,\"ticks\":\"\"}},\"type\":\"parcoords\"}],\"pie\":[{\"automargin\":true,\"type\":\"pie\"}],\"scatter3d\":[{\"line\":{\"colorbar\":{\"outlinewidth\":0,\"ticks\":\"\"}},\"marker\":{\"colorbar\":{\"outlinewidth\":0,\"ticks\":\"\"}},\"type\":\"scatter3d\"}],\"scattercarpet\":[{\"marker\":{\"colorbar\":{\"outlinewidth\":0,\"ticks\":\"\"}},\"type\":\"scattercarpet\"}],\"scattergeo\":[{\"marker\":{\"colorbar\":{\"outlinewidth\":0,\"ticks\":\"\"}},\"type\":\"scattergeo\"}],\"scattergl\":[{\"marker\":{\"colorbar\":{\"outlinewidth\":0,\"ticks\":\"\"}},\"type\":\"scattergl\"}],\"scattermapbox\":[{\"marker\":{\"colorbar\":{\"outlinewidth\":0,\"ticks\":\"\"}},\"type\":\"scattermapbox\"}],\"scatterpolargl\":[{\"marker\":{\"colorbar\":{\"outlinewidth\":0,\"ticks\":\"\"}},\"type\":\"scatterpolargl\"}],\"scatterpolar\":[{\"marker\":{\"colorbar\":{\"outlinewidth\":0,\"ticks\":\"\"}},\"type\":\"scatterpolar\"}],\"scatter\":[{\"marker\":{\"colorbar\":{\"outlinewidth\":0,\"ticks\":\"\"}},\"type\":\"scatter\"}],\"scatterternary\":[{\"marker\":{\"colorbar\":{\"outlinewidth\":0,\"ticks\":\"\"}},\"type\":\"scatterternary\"}],\"surface\":[{\"colorbar\":{\"outlinewidth\":0,\"ticks\":\"\"},\"colorscale\":[[0.0,\"#0d0887\"],[0.1111111111111111,\"#46039f\"],[0.2222222222222222,\"#7201a8\"],[0.3333333333333333,\"#9c179e\"],[0.4444444444444444,\"#bd3786\"],[0.5555555555555556,\"#d8576b\"],[0.6666666666666666,\"#ed7953\"],[0.7777777777777778,\"#fb9f3a\"],[0.8888888888888888,\"#fdca26\"],[1.0,\"#f0f921\"]],\"type\":\"surface\"}],\"table\":[{\"cells\":{\"fill\":{\"color\":\"#EBF0F8\"},\"line\":{\"color\":\"white\"}},\"header\":{\"fill\":{\"color\":\"#C8D4E3\"},\"line\":{\"color\":\"white\"}},\"type\":\"table\"}]},\"layout\":{\"annotationdefaults\":{\"arrowcolor\":\"#2a3f5f\",\"arrowhead\":0,\"arrowwidth\":1},\"autotypenumbers\":\"strict\",\"coloraxis\":{\"colorbar\":{\"outlinewidth\":0,\"ticks\":\"\"}},\"colorscale\":{\"diverging\":[[0,\"#8e0152\"],[0.1,\"#c51b7d\"],[0.2,\"#de77ae\"],[0.3,\"#f1b6da\"],[0.4,\"#fde0ef\"],[0.5,\"#f7f7f7\"],[0.6,\"#e6f5d0\"],[0.7,\"#b8e186\"],[0.8,\"#7fbc41\"],[0.9,\"#4d9221\"],[1,\"#276419\"]],\"sequential\":[[0.0,\"#0d0887\"],[0.1111111111111111,\"#46039f\"],[0.2222222222222222,\"#7201a8\"],[0.3333333333333333,\"#9c179e\"],[0.4444444444444444,\"#bd3786\"],[0.5555555555555556,\"#d8576b\"],[0.6666666666666666,\"#ed7953\"],[0.7777777777777778,\"#fb9f3a\"],[0.8888888888888888,\"#fdca26\"],[1.0,\"#f0f921\"]],\"sequentialminus\":[[0.0,\"#0d0887\"],[0.1111111111111111,\"#46039f\"],[0.2222222222222222,\"#7201a8\"],[0.3333333333333333,\"#9c179e\"],[0.4444444444444444,\"#bd3786\"],[0.5555555555555556,\"#d8576b\"],[0.6666666666666666,\"#ed7953\"],[0.7777777777777778,\"#fb9f3a\"],[0.8888888888888888,\"#fdca26\"],[1.0,\"#f0f921\"]]},\"colorway\":[\"#636efa\",\"#EF553B\",\"#00cc96\",\"#ab63fa\",\"#FFA15A\",\"#19d3f3\",\"#FF6692\",\"#B6E880\",\"#FF97FF\",\"#FECB52\"],\"font\":{\"color\":\"#2a3f5f\"},\"geo\":{\"bgcolor\":\"white\",\"lakecolor\":\"white\",\"landcolor\":\"white\",\"showlakes\":true,\"showland\":true,\"subunitcolor\":\"#C8D4E3\"},\"hoverlabel\":{\"align\":\"left\"},\"hovermode\":\"closest\",\"mapbox\":{\"style\":\"light\"},\"paper_bgcolor\":\"white\",\"plot_bgcolor\":\"white\",\"polar\":{\"angularaxis\":{\"gridcolor\":\"#EBF0F8\",\"linecolor\":\"#EBF0F8\",\"ticks\":\"\"},\"bgcolor\":\"white\",\"radialaxis\":{\"gridcolor\":\"#EBF0F8\",\"linecolor\":\"#EBF0F8\",\"ticks\":\"\"}},\"scene\":{\"xaxis\":{\"backgroundcolor\":\"white\",\"gridcolor\":\"#DFE8F3\",\"gridwidth\":2,\"linecolor\":\"#EBF0F8\",\"showbackground\":true,\"ticks\":\"\",\"zerolinecolor\":\"#EBF0F8\"},\"yaxis\":{\"backgroundcolor\":\"white\",\"gridcolor\":\"#DFE8F3\",\"gridwidth\":2,\"linecolor\":\"#EBF0F8\",\"showbackground\":true,\"ticks\":\"\",\"zerolinecolor\":\"#EBF0F8\"},\"zaxis\":{\"backgroundcolor\":\"white\",\"gridcolor\":\"#DFE8F3\",\"gridwidth\":2,\"linecolor\":\"#EBF0F8\",\"showbackground\":true,\"ticks\":\"\",\"zerolinecolor\":\"#EBF0F8\"}},\"shapedefaults\":{\"line\":{\"color\":\"#2a3f5f\"}},\"ternary\":{\"aaxis\":{\"gridcolor\":\"#DFE8F3\",\"linecolor\":\"#A2B1C6\",\"ticks\":\"\"},\"baxis\":{\"gridcolor\":\"#DFE8F3\",\"linecolor\":\"#A2B1C6\",\"ticks\":\"\"},\"bgcolor\":\"white\",\"caxis\":{\"gridcolor\":\"#DFE8F3\",\"linecolor\":\"#A2B1C6\",\"ticks\":\"\"}},\"title\":{\"x\":0.05},\"xaxis\":{\"automargin\":true,\"gridcolor\":\"#EBF0F8\",\"linecolor\":\"#EBF0F8\",\"ticks\":\"\",\"title\":{\"standoff\":15},\"zerolinecolor\":\"#EBF0F8\",\"zerolinewidth\":2},\"yaxis\":{\"automargin\":true,\"gridcolor\":\"#EBF0F8\",\"linecolor\":\"#EBF0F8\",\"ticks\":\"\",\"title\":{\"standoff\":15},\"zerolinecolor\":\"#EBF0F8\",\"zerolinewidth\":2}}},\"xaxis\":{\"tickfont\":{\"color\":\"black\",\"size\":12},\"showgrid\":false,\"tickangle\":90},\"yaxis\":{\"tickfont\":{\"color\":\"black\",\"size\":12},\"showgrid\":false,\"autorange\":\"reversed\",\"tickangle\":0},\"annotations\":[{\"font\":{\"color\":\"black\",\"size\":13},\"showarrow\":false,\"text\":\"1.0\",\"textangle\":0,\"x\":\"y6\",\"xref\":\"x\",\"y\":\"y6\",\"yref\":\"y\"},{\"font\":{\"color\":\"black\",\"size\":13},\"showarrow\":false,\"text\":\"0.3\",\"textangle\":0,\"x\":\"y6\",\"xref\":\"x\",\"y\":\"y5\",\"yref\":\"y\"},{\"font\":{\"color\":\"black\",\"size\":13},\"showarrow\":false,\"text\":\"0.27\",\"textangle\":0,\"x\":\"y6\",\"xref\":\"x\",\"y\":\"y4\",\"yref\":\"y\"},{\"font\":{\"color\":\"black\",\"size\":13},\"showarrow\":false,\"text\":\"0.1\",\"textangle\":0,\"x\":\"y6\",\"xref\":\"x\",\"y\":\"y3\",\"yref\":\"y\"},{\"font\":{\"color\":\"black\",\"size\":13},\"showarrow\":false,\"text\":\"0.1\",\"textangle\":0,\"x\":\"y6\",\"xref\":\"x\",\"y\":\"y2\",\"yref\":\"y\"},{\"font\":{\"color\":\"black\",\"size\":13},\"showarrow\":false,\"text\":\"0.13\",\"textangle\":0,\"x\":\"y6\",\"xref\":\"x\",\"y\":\"y1\",\"yref\":\"y\"},{\"font\":{\"color\":\"black\",\"size\":13},\"showarrow\":false,\"text\":\"0.3\",\"textangle\":0,\"x\":\"y5\",\"xref\":\"x\",\"y\":\"y6\",\"yref\":\"y\"},{\"font\":{\"color\":\"black\",\"size\":13},\"showarrow\":false,\"text\":\"1.0\",\"textangle\":0,\"x\":\"y5\",\"xref\":\"x\",\"y\":\"y5\",\"yref\":\"y\"},{\"font\":{\"color\":\"black\",\"size\":13},\"showarrow\":false,\"text\":\"0.33\",\"textangle\":0,\"x\":\"y5\",\"xref\":\"x\",\"y\":\"y4\",\"yref\":\"y\"},{\"font\":{\"color\":\"black\",\"size\":13},\"showarrow\":false,\"text\":\"0.11\",\"textangle\":0,\"x\":\"y5\",\"xref\":\"x\",\"y\":\"y3\",\"yref\":\"y\"},{\"font\":{\"color\":\"black\",\"size\":13},\"showarrow\":false,\"text\":\"0.12\",\"textangle\":0,\"x\":\"y5\",\"xref\":\"x\",\"y\":\"y2\",\"yref\":\"y\"},{\"font\":{\"color\":\"black\",\"size\":13},\"showarrow\":false,\"text\":\"0.11\",\"textangle\":0,\"x\":\"y5\",\"xref\":\"x\",\"y\":\"y1\",\"yref\":\"y\"},{\"font\":{\"color\":\"black\",\"size\":13},\"showarrow\":false,\"text\":\"0.27\",\"textangle\":0,\"x\":\"y4\",\"xref\":\"x\",\"y\":\"y6\",\"yref\":\"y\"},{\"font\":{\"color\":\"black\",\"size\":13},\"showarrow\":false,\"text\":\"0.33\",\"textangle\":0,\"x\":\"y4\",\"xref\":\"x\",\"y\":\"y5\",\"yref\":\"y\"},{\"font\":{\"color\":\"black\",\"size\":13},\"showarrow\":false,\"text\":\"1.0\",\"textangle\":0,\"x\":\"y4\",\"xref\":\"x\",\"y\":\"y4\",\"yref\":\"y\"},{\"font\":{\"color\":\"black\",\"size\":13},\"showarrow\":false,\"text\":\"0.1\",\"textangle\":0,\"x\":\"y4\",\"xref\":\"x\",\"y\":\"y3\",\"yref\":\"y\"},{\"font\":{\"color\":\"black\",\"size\":13},\"showarrow\":false,\"text\":\"0.11\",\"textangle\":0,\"x\":\"y4\",\"xref\":\"x\",\"y\":\"y2\",\"yref\":\"y\"},{\"font\":{\"color\":\"black\",\"size\":13},\"showarrow\":false,\"text\":\"0.09\",\"textangle\":0,\"x\":\"y4\",\"xref\":\"x\",\"y\":\"y1\",\"yref\":\"y\"},{\"font\":{\"color\":\"black\",\"size\":13},\"showarrow\":false,\"text\":\"0.1\",\"textangle\":0,\"x\":\"y3\",\"xref\":\"x\",\"y\":\"y6\",\"yref\":\"y\"},{\"font\":{\"color\":\"black\",\"size\":13},\"showarrow\":false,\"text\":\"0.11\",\"textangle\":0,\"x\":\"y3\",\"xref\":\"x\",\"y\":\"y5\",\"yref\":\"y\"},{\"font\":{\"color\":\"black\",\"size\":13},\"showarrow\":false,\"text\":\"0.1\",\"textangle\":0,\"x\":\"y3\",\"xref\":\"x\",\"y\":\"y4\",\"yref\":\"y\"},{\"font\":{\"color\":\"black\",\"size\":13},\"showarrow\":false,\"text\":\"1.0\",\"textangle\":0,\"x\":\"y3\",\"xref\":\"x\",\"y\":\"y3\",\"yref\":\"y\"},{\"font\":{\"color\":\"black\",\"size\":13},\"showarrow\":false,\"text\":\"0.47\",\"textangle\":0,\"x\":\"y3\",\"xref\":\"x\",\"y\":\"y2\",\"yref\":\"y\"},{\"font\":{\"color\":\"black\",\"size\":13},\"showarrow\":false,\"text\":\"0.42\",\"textangle\":0,\"x\":\"y3\",\"xref\":\"x\",\"y\":\"y1\",\"yref\":\"y\"},{\"font\":{\"color\":\"black\",\"size\":13},\"showarrow\":false,\"text\":\"0.1\",\"textangle\":0,\"x\":\"y2\",\"xref\":\"x\",\"y\":\"y6\",\"yref\":\"y\"},{\"font\":{\"color\":\"black\",\"size\":13},\"showarrow\":false,\"text\":\"0.12\",\"textangle\":0,\"x\":\"y2\",\"xref\":\"x\",\"y\":\"y5\",\"yref\":\"y\"},{\"font\":{\"color\":\"black\",\"size\":13},\"showarrow\":false,\"text\":\"0.11\",\"textangle\":0,\"x\":\"y2\",\"xref\":\"x\",\"y\":\"y4\",\"yref\":\"y\"},{\"font\":{\"color\":\"black\",\"size\":13},\"showarrow\":false,\"text\":\"0.47\",\"textangle\":0,\"x\":\"y2\",\"xref\":\"x\",\"y\":\"y3\",\"yref\":\"y\"},{\"font\":{\"color\":\"black\",\"size\":13},\"showarrow\":false,\"text\":\"1.0\",\"textangle\":0,\"x\":\"y2\",\"xref\":\"x\",\"y\":\"y2\",\"yref\":\"y\"},{\"font\":{\"color\":\"black\",\"size\":13},\"showarrow\":false,\"text\":\"0.38\",\"textangle\":0,\"x\":\"y2\",\"xref\":\"x\",\"y\":\"y1\",\"yref\":\"y\"},{\"font\":{\"color\":\"black\",\"size\":13},\"showarrow\":false,\"text\":\"0.13\",\"textangle\":0,\"x\":\"y1\",\"xref\":\"x\",\"y\":\"y6\",\"yref\":\"y\"},{\"font\":{\"color\":\"black\",\"size\":13},\"showarrow\":false,\"text\":\"0.11\",\"textangle\":0,\"x\":\"y1\",\"xref\":\"x\",\"y\":\"y5\",\"yref\":\"y\"},{\"font\":{\"color\":\"black\",\"size\":13},\"showarrow\":false,\"text\":\"0.09\",\"textangle\":0,\"x\":\"y1\",\"xref\":\"x\",\"y\":\"y4\",\"yref\":\"y\"},{\"font\":{\"color\":\"black\",\"size\":13},\"showarrow\":false,\"text\":\"0.42\",\"textangle\":0,\"x\":\"y1\",\"xref\":\"x\",\"y\":\"y3\",\"yref\":\"y\"},{\"font\":{\"color\":\"black\",\"size\":13},\"showarrow\":false,\"text\":\"0.38\",\"textangle\":0,\"x\":\"y1\",\"xref\":\"x\",\"y\":\"y2\",\"yref\":\"y\"},{\"font\":{\"color\":\"black\",\"size\":13},\"showarrow\":false,\"text\":\"1.0\",\"textangle\":0,\"x\":\"y1\",\"xref\":\"x\",\"y\":\"y1\",\"yref\":\"y\"}],\"title\":{\"text\":\"Measurement correlations of fac1 and fac2 in period 0\"}},                        {\"responsive\": true}                    ).then(function(){\n",
       "                            \n",
       "var gd = document.getElementById('05d76f6a-d30f-4e5e-98ed-85c12af94c97');\n",
       "var x = new MutationObserver(function (mutations, observer) {{\n",
       "        var display = window.getComputedStyle(gd).display;\n",
       "        if (!display || display === 'none') {{\n",
       "            console.log([gd, 'removed!']);\n",
       "            Plotly.purge(gd);\n",
       "            observer.disconnect();\n",
       "        }}\n",
       "}});\n",
       "\n",
       "// Listen for the removal of the full notebook cells\n",
       "var notebookContainer = gd.closest('#notebook-container');\n",
       "if (notebookContainer) {{\n",
       "    x.observe(notebookContainer, {childList: true});\n",
       "}}\n",
       "\n",
       "// Listen for the clearing of the current output cell\n",
       "var outputEl = gd.closest('.output');\n",
       "if (outputEl) {{\n",
       "    x.observe(outputEl, {childList: true});\n",
       "}}\n",
       "\n",
       "                        })                };                });            </script>        </div>"
      ]
     },
     "metadata": {},
     "output_type": "display_data"
    },
    {
     "data": {
      "application/javascript": [
       "\n",
       "            setTimeout(function() {\n",
       "                var nbb_cell_id = 27;\n",
       "                var nbb_unformatted_code = \"fig_meas.update_layout(title=\\\"Measurement correlations of fac1 and fac2 in period 0\\\")\";\n",
       "                var nbb_formatted_code = \"fig_meas.update_layout(title=\\\"Measurement correlations of fac1 and fac2 in period 0\\\")\";\n",
       "                var nbb_cells = Jupyter.notebook.get_cells();\n",
       "                for (var i = 0; i < nbb_cells.length; ++i) {\n",
       "                    if (nbb_cells[i].input_prompt_number == nbb_cell_id) {\n",
       "                        if (nbb_cells[i].get_text() == nbb_unformatted_code) {\n",
       "                             nbb_cells[i].set_text(nbb_formatted_code);\n",
       "                        }\n",
       "                        break;\n",
       "                    }\n",
       "                }\n",
       "            }, 500);\n",
       "            "
      ],
      "text/plain": [
       "<IPython.core.display.Javascript object>"
      ]
     },
     "metadata": {},
     "output_type": "display_data"
    }
   ],
   "source": [
    "fig_meas.update_layout(title=\"Measurement correlations of fac1 and fac2 in period 0\")"
   ]
  },
  {
   "cell_type": "markdown",
   "metadata": {},
   "source": [
    "## Plotting correlations of factor scores"
   ]
  },
  {
   "cell_type": "code",
   "execution_count": 28,
   "metadata": {},
   "outputs": [
    {
     "data": {
      "application/javascript": [
       "\n",
       "            setTimeout(function() {\n",
       "                var nbb_cell_id = 28;\n",
       "                var nbb_unformatted_code = \"corr_score = get_scores_corr(\\n    periods=None, data=data, model_dict=model_dict, factors=\\\"fac1\\\"\\n)\";\n",
       "                var nbb_formatted_code = \"corr_score = get_scores_corr(\\n    periods=None, data=data, model_dict=model_dict, factors=\\\"fac1\\\"\\n)\";\n",
       "                var nbb_cells = Jupyter.notebook.get_cells();\n",
       "                for (var i = 0; i < nbb_cells.length; ++i) {\n",
       "                    if (nbb_cells[i].input_prompt_number == nbb_cell_id) {\n",
       "                        if (nbb_cells[i].get_text() == nbb_unformatted_code) {\n",
       "                             nbb_cells[i].set_text(nbb_formatted_code);\n",
       "                        }\n",
       "                        break;\n",
       "                    }\n",
       "                }\n",
       "            }, 500);\n",
       "            "
      ],
      "text/plain": [
       "<IPython.core.display.Javascript object>"
      ]
     },
     "metadata": {},
     "output_type": "display_data"
    }
   ],
   "source": [
    "corr_score = get_scores_corr(\n",
    "    periods=None, data=data, model_dict=model_dict, factors=\"fac1\"\n",
    ")"
   ]
  },
  {
   "cell_type": "code",
   "execution_count": 29,
   "metadata": {},
   "outputs": [
    {
     "data": {
      "application/javascript": [
       "\n",
       "            setTimeout(function() {\n",
       "                var nbb_cell_id = 29;\n",
       "                var nbb_unformatted_code = \"fig_scores = plot_correlation_heatmap(\\n    corr_score,\\n)\";\n",
       "                var nbb_formatted_code = \"fig_scores = plot_correlation_heatmap(\\n    corr_score,\\n)\";\n",
       "                var nbb_cells = Jupyter.notebook.get_cells();\n",
       "                for (var i = 0; i < nbb_cells.length; ++i) {\n",
       "                    if (nbb_cells[i].input_prompt_number == nbb_cell_id) {\n",
       "                        if (nbb_cells[i].get_text() == nbb_unformatted_code) {\n",
       "                             nbb_cells[i].set_text(nbb_formatted_code);\n",
       "                        }\n",
       "                        break;\n",
       "                    }\n",
       "                }\n",
       "            }, 500);\n",
       "            "
      ],
      "text/plain": [
       "<IPython.core.display.Javascript object>"
      ]
     },
     "metadata": {},
     "output_type": "display_data"
    }
   ],
   "source": [
    "fig_scores = plot_correlation_heatmap(\n",
    "    corr_score,\n",
    ")"
   ]
  },
  {
   "cell_type": "code",
   "execution_count": 30,
   "metadata": {},
   "outputs": [
    {
     "data": {
      "application/vnd.plotly.v1+json": {
       "config": {
        "plotlyServerURL": "https://plot.ly"
       },
       "data": [
        {
         "colorscale": [
          [
           0,
           "rgb(5,48,97)"
          ],
          [
           0.1,
           "rgb(33,102,172)"
          ],
          [
           0.2,
           "rgb(67,147,195)"
          ],
          [
           0.3,
           "rgb(146,197,222)"
          ],
          [
           0.4,
           "rgb(209,229,240)"
          ],
          [
           0.5,
           "rgb(247,247,247)"
          ],
          [
           0.6,
           "rgb(253,219,199)"
          ],
          [
           0.7,
           "rgb(244,165,130)"
          ],
          [
           0.8,
           "rgb(214,96,77)"
          ],
          [
           0.9,
           "rgb(178,24,43)"
          ],
          [
           1,
           "rgb(103,0,31)"
          ]
         ],
         "showscale": true,
         "type": "heatmap",
         "x": [
          "fac1, 0",
          "fac1, 1",
          "fac1, 2",
          "fac1, 3",
          "fac1, 4",
          "fac1, 5",
          "fac1, 6",
          "fac1, 7"
         ],
         "y": [
          "fac1, 0",
          "fac1, 1",
          "fac1, 2",
          "fac1, 3",
          "fac1, 4",
          "fac1, 5",
          "fac1, 6",
          "fac1, 7"
         ],
         "z": [
          [
           1,
           0.47,
           0.36,
           0.29,
           0.23,
           0.19,
           0.2,
           0.16
          ],
          [
           0.47,
           1,
           0.51,
           0.4,
           0.32,
           0.29,
           0.26,
           0.23
          ],
          [
           0.36,
           0.51,
           1,
           0.5,
           0.4,
           0.34,
           0.3,
           0.26
          ],
          [
           0.29,
           0.4,
           0.5,
           1,
           0.53,
           0.43,
           0.35,
           0.3
          ],
          [
           0.23,
           0.32,
           0.4,
           0.53,
           1,
           0.53,
           0.45,
           0.35
          ],
          [
           0.19,
           0.29,
           0.34,
           0.43,
           0.53,
           1,
           0.52,
           0.43
          ],
          [
           0.2,
           0.26,
           0.3,
           0.35,
           0.45,
           0.52,
           1,
           0.56
          ],
          [
           0.16,
           0.23,
           0.26,
           0.3,
           0.35,
           0.43,
           0.56,
           1
          ]
         ],
         "zmax": 0.56,
         "zmid": 0,
         "zmin": -0.56
        }
       ],
       "layout": {
        "annotations": [
         {
          "font": {
           "color": "black",
           "size": 13
          },
          "showarrow": false,
          "text": "1.0",
          "textangle": 0,
          "x": "fac1, 7",
          "xref": "x",
          "y": "fac1, 7",
          "yref": "y"
         },
         {
          "font": {
           "color": "black",
           "size": 13
          },
          "showarrow": false,
          "text": "0.56",
          "textangle": 0,
          "x": "fac1, 7",
          "xref": "x",
          "y": "fac1, 6",
          "yref": "y"
         },
         {
          "font": {
           "color": "black",
           "size": 13
          },
          "showarrow": false,
          "text": "0.43",
          "textangle": 0,
          "x": "fac1, 7",
          "xref": "x",
          "y": "fac1, 5",
          "yref": "y"
         },
         {
          "font": {
           "color": "black",
           "size": 13
          },
          "showarrow": false,
          "text": "0.35",
          "textangle": 0,
          "x": "fac1, 7",
          "xref": "x",
          "y": "fac1, 4",
          "yref": "y"
         },
         {
          "font": {
           "color": "black",
           "size": 13
          },
          "showarrow": false,
          "text": "0.3",
          "textangle": 0,
          "x": "fac1, 7",
          "xref": "x",
          "y": "fac1, 3",
          "yref": "y"
         },
         {
          "font": {
           "color": "black",
           "size": 13
          },
          "showarrow": false,
          "text": "0.26",
          "textangle": 0,
          "x": "fac1, 7",
          "xref": "x",
          "y": "fac1, 2",
          "yref": "y"
         },
         {
          "font": {
           "color": "black",
           "size": 13
          },
          "showarrow": false,
          "text": "0.23",
          "textangle": 0,
          "x": "fac1, 7",
          "xref": "x",
          "y": "fac1, 1",
          "yref": "y"
         },
         {
          "font": {
           "color": "black",
           "size": 13
          },
          "showarrow": false,
          "text": "0.16",
          "textangle": 0,
          "x": "fac1, 7",
          "xref": "x",
          "y": "fac1, 0",
          "yref": "y"
         },
         {
          "font": {
           "color": "black",
           "size": 13
          },
          "showarrow": false,
          "text": "0.56",
          "textangle": 0,
          "x": "fac1, 6",
          "xref": "x",
          "y": "fac1, 7",
          "yref": "y"
         },
         {
          "font": {
           "color": "black",
           "size": 13
          },
          "showarrow": false,
          "text": "1.0",
          "textangle": 0,
          "x": "fac1, 6",
          "xref": "x",
          "y": "fac1, 6",
          "yref": "y"
         },
         {
          "font": {
           "color": "black",
           "size": 13
          },
          "showarrow": false,
          "text": "0.52",
          "textangle": 0,
          "x": "fac1, 6",
          "xref": "x",
          "y": "fac1, 5",
          "yref": "y"
         },
         {
          "font": {
           "color": "black",
           "size": 13
          },
          "showarrow": false,
          "text": "0.45",
          "textangle": 0,
          "x": "fac1, 6",
          "xref": "x",
          "y": "fac1, 4",
          "yref": "y"
         },
         {
          "font": {
           "color": "black",
           "size": 13
          },
          "showarrow": false,
          "text": "0.35",
          "textangle": 0,
          "x": "fac1, 6",
          "xref": "x",
          "y": "fac1, 3",
          "yref": "y"
         },
         {
          "font": {
           "color": "black",
           "size": 13
          },
          "showarrow": false,
          "text": "0.3",
          "textangle": 0,
          "x": "fac1, 6",
          "xref": "x",
          "y": "fac1, 2",
          "yref": "y"
         },
         {
          "font": {
           "color": "black",
           "size": 13
          },
          "showarrow": false,
          "text": "0.26",
          "textangle": 0,
          "x": "fac1, 6",
          "xref": "x",
          "y": "fac1, 1",
          "yref": "y"
         },
         {
          "font": {
           "color": "black",
           "size": 13
          },
          "showarrow": false,
          "text": "0.2",
          "textangle": 0,
          "x": "fac1, 6",
          "xref": "x",
          "y": "fac1, 0",
          "yref": "y"
         },
         {
          "font": {
           "color": "black",
           "size": 13
          },
          "showarrow": false,
          "text": "0.43",
          "textangle": 0,
          "x": "fac1, 5",
          "xref": "x",
          "y": "fac1, 7",
          "yref": "y"
         },
         {
          "font": {
           "color": "black",
           "size": 13
          },
          "showarrow": false,
          "text": "0.52",
          "textangle": 0,
          "x": "fac1, 5",
          "xref": "x",
          "y": "fac1, 6",
          "yref": "y"
         },
         {
          "font": {
           "color": "black",
           "size": 13
          },
          "showarrow": false,
          "text": "1.0",
          "textangle": 0,
          "x": "fac1, 5",
          "xref": "x",
          "y": "fac1, 5",
          "yref": "y"
         },
         {
          "font": {
           "color": "black",
           "size": 13
          },
          "showarrow": false,
          "text": "0.53",
          "textangle": 0,
          "x": "fac1, 5",
          "xref": "x",
          "y": "fac1, 4",
          "yref": "y"
         },
         {
          "font": {
           "color": "black",
           "size": 13
          },
          "showarrow": false,
          "text": "0.43",
          "textangle": 0,
          "x": "fac1, 5",
          "xref": "x",
          "y": "fac1, 3",
          "yref": "y"
         },
         {
          "font": {
           "color": "black",
           "size": 13
          },
          "showarrow": false,
          "text": "0.34",
          "textangle": 0,
          "x": "fac1, 5",
          "xref": "x",
          "y": "fac1, 2",
          "yref": "y"
         },
         {
          "font": {
           "color": "black",
           "size": 13
          },
          "showarrow": false,
          "text": "0.29",
          "textangle": 0,
          "x": "fac1, 5",
          "xref": "x",
          "y": "fac1, 1",
          "yref": "y"
         },
         {
          "font": {
           "color": "black",
           "size": 13
          },
          "showarrow": false,
          "text": "0.19",
          "textangle": 0,
          "x": "fac1, 5",
          "xref": "x",
          "y": "fac1, 0",
          "yref": "y"
         },
         {
          "font": {
           "color": "black",
           "size": 13
          },
          "showarrow": false,
          "text": "0.35",
          "textangle": 0,
          "x": "fac1, 4",
          "xref": "x",
          "y": "fac1, 7",
          "yref": "y"
         },
         {
          "font": {
           "color": "black",
           "size": 13
          },
          "showarrow": false,
          "text": "0.45",
          "textangle": 0,
          "x": "fac1, 4",
          "xref": "x",
          "y": "fac1, 6",
          "yref": "y"
         },
         {
          "font": {
           "color": "black",
           "size": 13
          },
          "showarrow": false,
          "text": "0.53",
          "textangle": 0,
          "x": "fac1, 4",
          "xref": "x",
          "y": "fac1, 5",
          "yref": "y"
         },
         {
          "font": {
           "color": "black",
           "size": 13
          },
          "showarrow": false,
          "text": "1.0",
          "textangle": 0,
          "x": "fac1, 4",
          "xref": "x",
          "y": "fac1, 4",
          "yref": "y"
         },
         {
          "font": {
           "color": "black",
           "size": 13
          },
          "showarrow": false,
          "text": "0.53",
          "textangle": 0,
          "x": "fac1, 4",
          "xref": "x",
          "y": "fac1, 3",
          "yref": "y"
         },
         {
          "font": {
           "color": "black",
           "size": 13
          },
          "showarrow": false,
          "text": "0.4",
          "textangle": 0,
          "x": "fac1, 4",
          "xref": "x",
          "y": "fac1, 2",
          "yref": "y"
         },
         {
          "font": {
           "color": "black",
           "size": 13
          },
          "showarrow": false,
          "text": "0.32",
          "textangle": 0,
          "x": "fac1, 4",
          "xref": "x",
          "y": "fac1, 1",
          "yref": "y"
         },
         {
          "font": {
           "color": "black",
           "size": 13
          },
          "showarrow": false,
          "text": "0.23",
          "textangle": 0,
          "x": "fac1, 4",
          "xref": "x",
          "y": "fac1, 0",
          "yref": "y"
         },
         {
          "font": {
           "color": "black",
           "size": 13
          },
          "showarrow": false,
          "text": "0.3",
          "textangle": 0,
          "x": "fac1, 3",
          "xref": "x",
          "y": "fac1, 7",
          "yref": "y"
         },
         {
          "font": {
           "color": "black",
           "size": 13
          },
          "showarrow": false,
          "text": "0.35",
          "textangle": 0,
          "x": "fac1, 3",
          "xref": "x",
          "y": "fac1, 6",
          "yref": "y"
         },
         {
          "font": {
           "color": "black",
           "size": 13
          },
          "showarrow": false,
          "text": "0.43",
          "textangle": 0,
          "x": "fac1, 3",
          "xref": "x",
          "y": "fac1, 5",
          "yref": "y"
         },
         {
          "font": {
           "color": "black",
           "size": 13
          },
          "showarrow": false,
          "text": "0.53",
          "textangle": 0,
          "x": "fac1, 3",
          "xref": "x",
          "y": "fac1, 4",
          "yref": "y"
         },
         {
          "font": {
           "color": "black",
           "size": 13
          },
          "showarrow": false,
          "text": "1.0",
          "textangle": 0,
          "x": "fac1, 3",
          "xref": "x",
          "y": "fac1, 3",
          "yref": "y"
         },
         {
          "font": {
           "color": "black",
           "size": 13
          },
          "showarrow": false,
          "text": "0.5",
          "textangle": 0,
          "x": "fac1, 3",
          "xref": "x",
          "y": "fac1, 2",
          "yref": "y"
         },
         {
          "font": {
           "color": "black",
           "size": 13
          },
          "showarrow": false,
          "text": "0.4",
          "textangle": 0,
          "x": "fac1, 3",
          "xref": "x",
          "y": "fac1, 1",
          "yref": "y"
         },
         {
          "font": {
           "color": "black",
           "size": 13
          },
          "showarrow": false,
          "text": "0.29",
          "textangle": 0,
          "x": "fac1, 3",
          "xref": "x",
          "y": "fac1, 0",
          "yref": "y"
         },
         {
          "font": {
           "color": "black",
           "size": 13
          },
          "showarrow": false,
          "text": "0.26",
          "textangle": 0,
          "x": "fac1, 2",
          "xref": "x",
          "y": "fac1, 7",
          "yref": "y"
         },
         {
          "font": {
           "color": "black",
           "size": 13
          },
          "showarrow": false,
          "text": "0.3",
          "textangle": 0,
          "x": "fac1, 2",
          "xref": "x",
          "y": "fac1, 6",
          "yref": "y"
         },
         {
          "font": {
           "color": "black",
           "size": 13
          },
          "showarrow": false,
          "text": "0.34",
          "textangle": 0,
          "x": "fac1, 2",
          "xref": "x",
          "y": "fac1, 5",
          "yref": "y"
         },
         {
          "font": {
           "color": "black",
           "size": 13
          },
          "showarrow": false,
          "text": "0.4",
          "textangle": 0,
          "x": "fac1, 2",
          "xref": "x",
          "y": "fac1, 4",
          "yref": "y"
         },
         {
          "font": {
           "color": "black",
           "size": 13
          },
          "showarrow": false,
          "text": "0.5",
          "textangle": 0,
          "x": "fac1, 2",
          "xref": "x",
          "y": "fac1, 3",
          "yref": "y"
         },
         {
          "font": {
           "color": "black",
           "size": 13
          },
          "showarrow": false,
          "text": "1.0",
          "textangle": 0,
          "x": "fac1, 2",
          "xref": "x",
          "y": "fac1, 2",
          "yref": "y"
         },
         {
          "font": {
           "color": "black",
           "size": 13
          },
          "showarrow": false,
          "text": "0.51",
          "textangle": 0,
          "x": "fac1, 2",
          "xref": "x",
          "y": "fac1, 1",
          "yref": "y"
         },
         {
          "font": {
           "color": "black",
           "size": 13
          },
          "showarrow": false,
          "text": "0.36",
          "textangle": 0,
          "x": "fac1, 2",
          "xref": "x",
          "y": "fac1, 0",
          "yref": "y"
         },
         {
          "font": {
           "color": "black",
           "size": 13
          },
          "showarrow": false,
          "text": "0.23",
          "textangle": 0,
          "x": "fac1, 1",
          "xref": "x",
          "y": "fac1, 7",
          "yref": "y"
         },
         {
          "font": {
           "color": "black",
           "size": 13
          },
          "showarrow": false,
          "text": "0.26",
          "textangle": 0,
          "x": "fac1, 1",
          "xref": "x",
          "y": "fac1, 6",
          "yref": "y"
         },
         {
          "font": {
           "color": "black",
           "size": 13
          },
          "showarrow": false,
          "text": "0.29",
          "textangle": 0,
          "x": "fac1, 1",
          "xref": "x",
          "y": "fac1, 5",
          "yref": "y"
         },
         {
          "font": {
           "color": "black",
           "size": 13
          },
          "showarrow": false,
          "text": "0.32",
          "textangle": 0,
          "x": "fac1, 1",
          "xref": "x",
          "y": "fac1, 4",
          "yref": "y"
         },
         {
          "font": {
           "color": "black",
           "size": 13
          },
          "showarrow": false,
          "text": "0.4",
          "textangle": 0,
          "x": "fac1, 1",
          "xref": "x",
          "y": "fac1, 3",
          "yref": "y"
         },
         {
          "font": {
           "color": "black",
           "size": 13
          },
          "showarrow": false,
          "text": "0.51",
          "textangle": 0,
          "x": "fac1, 1",
          "xref": "x",
          "y": "fac1, 2",
          "yref": "y"
         },
         {
          "font": {
           "color": "black",
           "size": 13
          },
          "showarrow": false,
          "text": "1.0",
          "textangle": 0,
          "x": "fac1, 1",
          "xref": "x",
          "y": "fac1, 1",
          "yref": "y"
         },
         {
          "font": {
           "color": "black",
           "size": 13
          },
          "showarrow": false,
          "text": "0.47",
          "textangle": 0,
          "x": "fac1, 1",
          "xref": "x",
          "y": "fac1, 0",
          "yref": "y"
         },
         {
          "font": {
           "color": "black",
           "size": 13
          },
          "showarrow": false,
          "text": "0.16",
          "textangle": 0,
          "x": "fac1, 0",
          "xref": "x",
          "y": "fac1, 7",
          "yref": "y"
         },
         {
          "font": {
           "color": "black",
           "size": 13
          },
          "showarrow": false,
          "text": "0.2",
          "textangle": 0,
          "x": "fac1, 0",
          "xref": "x",
          "y": "fac1, 6",
          "yref": "y"
         },
         {
          "font": {
           "color": "black",
           "size": 13
          },
          "showarrow": false,
          "text": "0.19",
          "textangle": 0,
          "x": "fac1, 0",
          "xref": "x",
          "y": "fac1, 5",
          "yref": "y"
         },
         {
          "font": {
           "color": "black",
           "size": 13
          },
          "showarrow": false,
          "text": "0.23",
          "textangle": 0,
          "x": "fac1, 0",
          "xref": "x",
          "y": "fac1, 4",
          "yref": "y"
         },
         {
          "font": {
           "color": "black",
           "size": 13
          },
          "showarrow": false,
          "text": "0.29",
          "textangle": 0,
          "x": "fac1, 0",
          "xref": "x",
          "y": "fac1, 3",
          "yref": "y"
         },
         {
          "font": {
           "color": "black",
           "size": 13
          },
          "showarrow": false,
          "text": "0.36",
          "textangle": 0,
          "x": "fac1, 0",
          "xref": "x",
          "y": "fac1, 2",
          "yref": "y"
         },
         {
          "font": {
           "color": "black",
           "size": 13
          },
          "showarrow": false,
          "text": "0.47",
          "textangle": 0,
          "x": "fac1, 0",
          "xref": "x",
          "y": "fac1, 1",
          "yref": "y"
         },
         {
          "font": {
           "color": "black",
           "size": 13
          },
          "showarrow": false,
          "text": "1.0",
          "textangle": 0,
          "x": "fac1, 0",
          "xref": "x",
          "y": "fac1, 0",
          "yref": "y"
         }
        ],
        "template": {
         "data": {
          "bar": [
           {
            "error_x": {
             "color": "#2a3f5f"
            },
            "error_y": {
             "color": "#2a3f5f"
            },
            "marker": {
             "line": {
              "color": "white",
              "width": 0.5
             },
             "pattern": {
              "fillmode": "overlay",
              "size": 10,
              "solidity": 0.2
             }
            },
            "type": "bar"
           }
          ],
          "barpolar": [
           {
            "marker": {
             "line": {
              "color": "white",
              "width": 0.5
             },
             "pattern": {
              "fillmode": "overlay",
              "size": 10,
              "solidity": 0.2
             }
            },
            "type": "barpolar"
           }
          ],
          "carpet": [
           {
            "aaxis": {
             "endlinecolor": "#2a3f5f",
             "gridcolor": "#C8D4E3",
             "linecolor": "#C8D4E3",
             "minorgridcolor": "#C8D4E3",
             "startlinecolor": "#2a3f5f"
            },
            "baxis": {
             "endlinecolor": "#2a3f5f",
             "gridcolor": "#C8D4E3",
             "linecolor": "#C8D4E3",
             "minorgridcolor": "#C8D4E3",
             "startlinecolor": "#2a3f5f"
            },
            "type": "carpet"
           }
          ],
          "choropleth": [
           {
            "colorbar": {
             "outlinewidth": 0,
             "ticks": ""
            },
            "type": "choropleth"
           }
          ],
          "contour": [
           {
            "colorbar": {
             "outlinewidth": 0,
             "ticks": ""
            },
            "colorscale": [
             [
              0,
              "#0d0887"
             ],
             [
              0.1111111111111111,
              "#46039f"
             ],
             [
              0.2222222222222222,
              "#7201a8"
             ],
             [
              0.3333333333333333,
              "#9c179e"
             ],
             [
              0.4444444444444444,
              "#bd3786"
             ],
             [
              0.5555555555555556,
              "#d8576b"
             ],
             [
              0.6666666666666666,
              "#ed7953"
             ],
             [
              0.7777777777777778,
              "#fb9f3a"
             ],
             [
              0.8888888888888888,
              "#fdca26"
             ],
             [
              1,
              "#f0f921"
             ]
            ],
            "type": "contour"
           }
          ],
          "contourcarpet": [
           {
            "colorbar": {
             "outlinewidth": 0,
             "ticks": ""
            },
            "type": "contourcarpet"
           }
          ],
          "heatmap": [
           {
            "colorbar": {
             "outlinewidth": 0,
             "ticks": ""
            },
            "colorscale": [
             [
              0,
              "#0d0887"
             ],
             [
              0.1111111111111111,
              "#46039f"
             ],
             [
              0.2222222222222222,
              "#7201a8"
             ],
             [
              0.3333333333333333,
              "#9c179e"
             ],
             [
              0.4444444444444444,
              "#bd3786"
             ],
             [
              0.5555555555555556,
              "#d8576b"
             ],
             [
              0.6666666666666666,
              "#ed7953"
             ],
             [
              0.7777777777777778,
              "#fb9f3a"
             ],
             [
              0.8888888888888888,
              "#fdca26"
             ],
             [
              1,
              "#f0f921"
             ]
            ],
            "type": "heatmap"
           }
          ],
          "heatmapgl": [
           {
            "colorbar": {
             "outlinewidth": 0,
             "ticks": ""
            },
            "colorscale": [
             [
              0,
              "#0d0887"
             ],
             [
              0.1111111111111111,
              "#46039f"
             ],
             [
              0.2222222222222222,
              "#7201a8"
             ],
             [
              0.3333333333333333,
              "#9c179e"
             ],
             [
              0.4444444444444444,
              "#bd3786"
             ],
             [
              0.5555555555555556,
              "#d8576b"
             ],
             [
              0.6666666666666666,
              "#ed7953"
             ],
             [
              0.7777777777777778,
              "#fb9f3a"
             ],
             [
              0.8888888888888888,
              "#fdca26"
             ],
             [
              1,
              "#f0f921"
             ]
            ],
            "type": "heatmapgl"
           }
          ],
          "histogram": [
           {
            "marker": {
             "pattern": {
              "fillmode": "overlay",
              "size": 10,
              "solidity": 0.2
             }
            },
            "type": "histogram"
           }
          ],
          "histogram2d": [
           {
            "colorbar": {
             "outlinewidth": 0,
             "ticks": ""
            },
            "colorscale": [
             [
              0,
              "#0d0887"
             ],
             [
              0.1111111111111111,
              "#46039f"
             ],
             [
              0.2222222222222222,
              "#7201a8"
             ],
             [
              0.3333333333333333,
              "#9c179e"
             ],
             [
              0.4444444444444444,
              "#bd3786"
             ],
             [
              0.5555555555555556,
              "#d8576b"
             ],
             [
              0.6666666666666666,
              "#ed7953"
             ],
             [
              0.7777777777777778,
              "#fb9f3a"
             ],
             [
              0.8888888888888888,
              "#fdca26"
             ],
             [
              1,
              "#f0f921"
             ]
            ],
            "type": "histogram2d"
           }
          ],
          "histogram2dcontour": [
           {
            "colorbar": {
             "outlinewidth": 0,
             "ticks": ""
            },
            "colorscale": [
             [
              0,
              "#0d0887"
             ],
             [
              0.1111111111111111,
              "#46039f"
             ],
             [
              0.2222222222222222,
              "#7201a8"
             ],
             [
              0.3333333333333333,
              "#9c179e"
             ],
             [
              0.4444444444444444,
              "#bd3786"
             ],
             [
              0.5555555555555556,
              "#d8576b"
             ],
             [
              0.6666666666666666,
              "#ed7953"
             ],
             [
              0.7777777777777778,
              "#fb9f3a"
             ],
             [
              0.8888888888888888,
              "#fdca26"
             ],
             [
              1,
              "#f0f921"
             ]
            ],
            "type": "histogram2dcontour"
           }
          ],
          "mesh3d": [
           {
            "colorbar": {
             "outlinewidth": 0,
             "ticks": ""
            },
            "type": "mesh3d"
           }
          ],
          "parcoords": [
           {
            "line": {
             "colorbar": {
              "outlinewidth": 0,
              "ticks": ""
             }
            },
            "type": "parcoords"
           }
          ],
          "pie": [
           {
            "automargin": true,
            "type": "pie"
           }
          ],
          "scatter": [
           {
            "marker": {
             "colorbar": {
              "outlinewidth": 0,
              "ticks": ""
             }
            },
            "type": "scatter"
           }
          ],
          "scatter3d": [
           {
            "line": {
             "colorbar": {
              "outlinewidth": 0,
              "ticks": ""
             }
            },
            "marker": {
             "colorbar": {
              "outlinewidth": 0,
              "ticks": ""
             }
            },
            "type": "scatter3d"
           }
          ],
          "scattercarpet": [
           {
            "marker": {
             "colorbar": {
              "outlinewidth": 0,
              "ticks": ""
             }
            },
            "type": "scattercarpet"
           }
          ],
          "scattergeo": [
           {
            "marker": {
             "colorbar": {
              "outlinewidth": 0,
              "ticks": ""
             }
            },
            "type": "scattergeo"
           }
          ],
          "scattergl": [
           {
            "marker": {
             "colorbar": {
              "outlinewidth": 0,
              "ticks": ""
             }
            },
            "type": "scattergl"
           }
          ],
          "scattermapbox": [
           {
            "marker": {
             "colorbar": {
              "outlinewidth": 0,
              "ticks": ""
             }
            },
            "type": "scattermapbox"
           }
          ],
          "scatterpolar": [
           {
            "marker": {
             "colorbar": {
              "outlinewidth": 0,
              "ticks": ""
             }
            },
            "type": "scatterpolar"
           }
          ],
          "scatterpolargl": [
           {
            "marker": {
             "colorbar": {
              "outlinewidth": 0,
              "ticks": ""
             }
            },
            "type": "scatterpolargl"
           }
          ],
          "scatterternary": [
           {
            "marker": {
             "colorbar": {
              "outlinewidth": 0,
              "ticks": ""
             }
            },
            "type": "scatterternary"
           }
          ],
          "surface": [
           {
            "colorbar": {
             "outlinewidth": 0,
             "ticks": ""
            },
            "colorscale": [
             [
              0,
              "#0d0887"
             ],
             [
              0.1111111111111111,
              "#46039f"
             ],
             [
              0.2222222222222222,
              "#7201a8"
             ],
             [
              0.3333333333333333,
              "#9c179e"
             ],
             [
              0.4444444444444444,
              "#bd3786"
             ],
             [
              0.5555555555555556,
              "#d8576b"
             ],
             [
              0.6666666666666666,
              "#ed7953"
             ],
             [
              0.7777777777777778,
              "#fb9f3a"
             ],
             [
              0.8888888888888888,
              "#fdca26"
             ],
             [
              1,
              "#f0f921"
             ]
            ],
            "type": "surface"
           }
          ],
          "table": [
           {
            "cells": {
             "fill": {
              "color": "#EBF0F8"
             },
             "line": {
              "color": "white"
             }
            },
            "header": {
             "fill": {
              "color": "#C8D4E3"
             },
             "line": {
              "color": "white"
             }
            },
            "type": "table"
           }
          ]
         },
         "layout": {
          "annotationdefaults": {
           "arrowcolor": "#2a3f5f",
           "arrowhead": 0,
           "arrowwidth": 1
          },
          "autotypenumbers": "strict",
          "coloraxis": {
           "colorbar": {
            "outlinewidth": 0,
            "ticks": ""
           }
          },
          "colorscale": {
           "diverging": [
            [
             0,
             "#8e0152"
            ],
            [
             0.1,
             "#c51b7d"
            ],
            [
             0.2,
             "#de77ae"
            ],
            [
             0.3,
             "#f1b6da"
            ],
            [
             0.4,
             "#fde0ef"
            ],
            [
             0.5,
             "#f7f7f7"
            ],
            [
             0.6,
             "#e6f5d0"
            ],
            [
             0.7,
             "#b8e186"
            ],
            [
             0.8,
             "#7fbc41"
            ],
            [
             0.9,
             "#4d9221"
            ],
            [
             1,
             "#276419"
            ]
           ],
           "sequential": [
            [
             0,
             "#0d0887"
            ],
            [
             0.1111111111111111,
             "#46039f"
            ],
            [
             0.2222222222222222,
             "#7201a8"
            ],
            [
             0.3333333333333333,
             "#9c179e"
            ],
            [
             0.4444444444444444,
             "#bd3786"
            ],
            [
             0.5555555555555556,
             "#d8576b"
            ],
            [
             0.6666666666666666,
             "#ed7953"
            ],
            [
             0.7777777777777778,
             "#fb9f3a"
            ],
            [
             0.8888888888888888,
             "#fdca26"
            ],
            [
             1,
             "#f0f921"
            ]
           ],
           "sequentialminus": [
            [
             0,
             "#0d0887"
            ],
            [
             0.1111111111111111,
             "#46039f"
            ],
            [
             0.2222222222222222,
             "#7201a8"
            ],
            [
             0.3333333333333333,
             "#9c179e"
            ],
            [
             0.4444444444444444,
             "#bd3786"
            ],
            [
             0.5555555555555556,
             "#d8576b"
            ],
            [
             0.6666666666666666,
             "#ed7953"
            ],
            [
             0.7777777777777778,
             "#fb9f3a"
            ],
            [
             0.8888888888888888,
             "#fdca26"
            ],
            [
             1,
             "#f0f921"
            ]
           ]
          },
          "colorway": [
           "#636efa",
           "#EF553B",
           "#00cc96",
           "#ab63fa",
           "#FFA15A",
           "#19d3f3",
           "#FF6692",
           "#B6E880",
           "#FF97FF",
           "#FECB52"
          ],
          "font": {
           "color": "#2a3f5f"
          },
          "geo": {
           "bgcolor": "white",
           "lakecolor": "white",
           "landcolor": "white",
           "showlakes": true,
           "showland": true,
           "subunitcolor": "#C8D4E3"
          },
          "hoverlabel": {
           "align": "left"
          },
          "hovermode": "closest",
          "mapbox": {
           "style": "light"
          },
          "paper_bgcolor": "white",
          "plot_bgcolor": "white",
          "polar": {
           "angularaxis": {
            "gridcolor": "#EBF0F8",
            "linecolor": "#EBF0F8",
            "ticks": ""
           },
           "bgcolor": "white",
           "radialaxis": {
            "gridcolor": "#EBF0F8",
            "linecolor": "#EBF0F8",
            "ticks": ""
           }
          },
          "scene": {
           "xaxis": {
            "backgroundcolor": "white",
            "gridcolor": "#DFE8F3",
            "gridwidth": 2,
            "linecolor": "#EBF0F8",
            "showbackground": true,
            "ticks": "",
            "zerolinecolor": "#EBF0F8"
           },
           "yaxis": {
            "backgroundcolor": "white",
            "gridcolor": "#DFE8F3",
            "gridwidth": 2,
            "linecolor": "#EBF0F8",
            "showbackground": true,
            "ticks": "",
            "zerolinecolor": "#EBF0F8"
           },
           "zaxis": {
            "backgroundcolor": "white",
            "gridcolor": "#DFE8F3",
            "gridwidth": 2,
            "linecolor": "#EBF0F8",
            "showbackground": true,
            "ticks": "",
            "zerolinecolor": "#EBF0F8"
           }
          },
          "shapedefaults": {
           "line": {
            "color": "#2a3f5f"
           }
          },
          "ternary": {
           "aaxis": {
            "gridcolor": "#DFE8F3",
            "linecolor": "#A2B1C6",
            "ticks": ""
           },
           "baxis": {
            "gridcolor": "#DFE8F3",
            "linecolor": "#A2B1C6",
            "ticks": ""
           },
           "bgcolor": "white",
           "caxis": {
            "gridcolor": "#DFE8F3",
            "linecolor": "#A2B1C6",
            "ticks": ""
           }
          },
          "title": {
           "x": 0.05
          },
          "xaxis": {
           "automargin": true,
           "gridcolor": "#EBF0F8",
           "linecolor": "#EBF0F8",
           "ticks": "",
           "title": {
            "standoff": 15
           },
           "zerolinecolor": "#EBF0F8",
           "zerolinewidth": 2
          },
          "yaxis": {
           "automargin": true,
           "gridcolor": "#EBF0F8",
           "linecolor": "#EBF0F8",
           "ticks": "",
           "title": {
            "standoff": 15
           },
           "zerolinecolor": "#EBF0F8",
           "zerolinewidth": 2
          }
         }
        },
        "title": {
         "text": "Stability of fac1 over time"
        },
        "xaxis": {
         "showgrid": false,
         "tickangle": 90,
         "tickfont": {
          "color": "black",
          "size": 12
         }
        },
        "yaxis": {
         "autorange": "reversed",
         "showgrid": false,
         "tickangle": 0,
         "tickfont": {
          "color": "black",
          "size": 12
         }
        }
       }
      },
      "text/html": [
       "<div>                            <div id=\"38b971b6-630f-4c13-a86d-c53a8e8ea1a0\" class=\"plotly-graph-div\" style=\"height:525px; width:100%;\"></div>            <script type=\"text/javascript\">                require([\"plotly\"], function(Plotly) {                    window.PLOTLYENV=window.PLOTLYENV || {};                                    if (document.getElementById(\"38b971b6-630f-4c13-a86d-c53a8e8ea1a0\")) {                    Plotly.newPlot(                        \"38b971b6-630f-4c13-a86d-c53a8e8ea1a0\",                        [{\"colorscale\":[[0.0,\"rgb(5,48,97)\"],[0.1,\"rgb(33,102,172)\"],[0.2,\"rgb(67,147,195)\"],[0.3,\"rgb(146,197,222)\"],[0.4,\"rgb(209,229,240)\"],[0.5,\"rgb(247,247,247)\"],[0.6,\"rgb(253,219,199)\"],[0.7,\"rgb(244,165,130)\"],[0.8,\"rgb(214,96,77)\"],[0.9,\"rgb(178,24,43)\"],[1.0,\"rgb(103,0,31)\"]],\"showscale\":true,\"x\":[\"fac1, 0\",\"fac1, 1\",\"fac1, 2\",\"fac1, 3\",\"fac1, 4\",\"fac1, 5\",\"fac1, 6\",\"fac1, 7\"],\"y\":[\"fac1, 0\",\"fac1, 1\",\"fac1, 2\",\"fac1, 3\",\"fac1, 4\",\"fac1, 5\",\"fac1, 6\",\"fac1, 7\"],\"z\":[[1.0,0.47,0.36,0.29,0.23,0.19,0.2,0.16],[0.47,1.0,0.51,0.4,0.32,0.29,0.26,0.23],[0.36,0.51,1.0,0.5,0.4,0.34,0.3,0.26],[0.29,0.4,0.5,1.0,0.53,0.43,0.35,0.3],[0.23,0.32,0.4,0.53,1.0,0.53,0.45,0.35],[0.19,0.29,0.34,0.43,0.53,1.0,0.52,0.43],[0.2,0.26,0.3,0.35,0.45,0.52,1.0,0.56],[0.16,0.23,0.26,0.3,0.35,0.43,0.56,1.0]],\"zmax\":0.56,\"zmid\":0,\"zmin\":-0.56,\"type\":\"heatmap\"}],                        {\"template\":{\"data\":{\"barpolar\":[{\"marker\":{\"line\":{\"color\":\"white\",\"width\":0.5},\"pattern\":{\"fillmode\":\"overlay\",\"size\":10,\"solidity\":0.2}},\"type\":\"barpolar\"}],\"bar\":[{\"error_x\":{\"color\":\"#2a3f5f\"},\"error_y\":{\"color\":\"#2a3f5f\"},\"marker\":{\"line\":{\"color\":\"white\",\"width\":0.5},\"pattern\":{\"fillmode\":\"overlay\",\"size\":10,\"solidity\":0.2}},\"type\":\"bar\"}],\"carpet\":[{\"aaxis\":{\"endlinecolor\":\"#2a3f5f\",\"gridcolor\":\"#C8D4E3\",\"linecolor\":\"#C8D4E3\",\"minorgridcolor\":\"#C8D4E3\",\"startlinecolor\":\"#2a3f5f\"},\"baxis\":{\"endlinecolor\":\"#2a3f5f\",\"gridcolor\":\"#C8D4E3\",\"linecolor\":\"#C8D4E3\",\"minorgridcolor\":\"#C8D4E3\",\"startlinecolor\":\"#2a3f5f\"},\"type\":\"carpet\"}],\"choropleth\":[{\"colorbar\":{\"outlinewidth\":0,\"ticks\":\"\"},\"type\":\"choropleth\"}],\"contourcarpet\":[{\"colorbar\":{\"outlinewidth\":0,\"ticks\":\"\"},\"type\":\"contourcarpet\"}],\"contour\":[{\"colorbar\":{\"outlinewidth\":0,\"ticks\":\"\"},\"colorscale\":[[0.0,\"#0d0887\"],[0.1111111111111111,\"#46039f\"],[0.2222222222222222,\"#7201a8\"],[0.3333333333333333,\"#9c179e\"],[0.4444444444444444,\"#bd3786\"],[0.5555555555555556,\"#d8576b\"],[0.6666666666666666,\"#ed7953\"],[0.7777777777777778,\"#fb9f3a\"],[0.8888888888888888,\"#fdca26\"],[1.0,\"#f0f921\"]],\"type\":\"contour\"}],\"heatmapgl\":[{\"colorbar\":{\"outlinewidth\":0,\"ticks\":\"\"},\"colorscale\":[[0.0,\"#0d0887\"],[0.1111111111111111,\"#46039f\"],[0.2222222222222222,\"#7201a8\"],[0.3333333333333333,\"#9c179e\"],[0.4444444444444444,\"#bd3786\"],[0.5555555555555556,\"#d8576b\"],[0.6666666666666666,\"#ed7953\"],[0.7777777777777778,\"#fb9f3a\"],[0.8888888888888888,\"#fdca26\"],[1.0,\"#f0f921\"]],\"type\":\"heatmapgl\"}],\"heatmap\":[{\"colorbar\":{\"outlinewidth\":0,\"ticks\":\"\"},\"colorscale\":[[0.0,\"#0d0887\"],[0.1111111111111111,\"#46039f\"],[0.2222222222222222,\"#7201a8\"],[0.3333333333333333,\"#9c179e\"],[0.4444444444444444,\"#bd3786\"],[0.5555555555555556,\"#d8576b\"],[0.6666666666666666,\"#ed7953\"],[0.7777777777777778,\"#fb9f3a\"],[0.8888888888888888,\"#fdca26\"],[1.0,\"#f0f921\"]],\"type\":\"heatmap\"}],\"histogram2dcontour\":[{\"colorbar\":{\"outlinewidth\":0,\"ticks\":\"\"},\"colorscale\":[[0.0,\"#0d0887\"],[0.1111111111111111,\"#46039f\"],[0.2222222222222222,\"#7201a8\"],[0.3333333333333333,\"#9c179e\"],[0.4444444444444444,\"#bd3786\"],[0.5555555555555556,\"#d8576b\"],[0.6666666666666666,\"#ed7953\"],[0.7777777777777778,\"#fb9f3a\"],[0.8888888888888888,\"#fdca26\"],[1.0,\"#f0f921\"]],\"type\":\"histogram2dcontour\"}],\"histogram2d\":[{\"colorbar\":{\"outlinewidth\":0,\"ticks\":\"\"},\"colorscale\":[[0.0,\"#0d0887\"],[0.1111111111111111,\"#46039f\"],[0.2222222222222222,\"#7201a8\"],[0.3333333333333333,\"#9c179e\"],[0.4444444444444444,\"#bd3786\"],[0.5555555555555556,\"#d8576b\"],[0.6666666666666666,\"#ed7953\"],[0.7777777777777778,\"#fb9f3a\"],[0.8888888888888888,\"#fdca26\"],[1.0,\"#f0f921\"]],\"type\":\"histogram2d\"}],\"histogram\":[{\"marker\":{\"pattern\":{\"fillmode\":\"overlay\",\"size\":10,\"solidity\":0.2}},\"type\":\"histogram\"}],\"mesh3d\":[{\"colorbar\":{\"outlinewidth\":0,\"ticks\":\"\"},\"type\":\"mesh3d\"}],\"parcoords\":[{\"line\":{\"colorbar\":{\"outlinewidth\":0,\"ticks\":\"\"}},\"type\":\"parcoords\"}],\"pie\":[{\"automargin\":true,\"type\":\"pie\"}],\"scatter3d\":[{\"line\":{\"colorbar\":{\"outlinewidth\":0,\"ticks\":\"\"}},\"marker\":{\"colorbar\":{\"outlinewidth\":0,\"ticks\":\"\"}},\"type\":\"scatter3d\"}],\"scattercarpet\":[{\"marker\":{\"colorbar\":{\"outlinewidth\":0,\"ticks\":\"\"}},\"type\":\"scattercarpet\"}],\"scattergeo\":[{\"marker\":{\"colorbar\":{\"outlinewidth\":0,\"ticks\":\"\"}},\"type\":\"scattergeo\"}],\"scattergl\":[{\"marker\":{\"colorbar\":{\"outlinewidth\":0,\"ticks\":\"\"}},\"type\":\"scattergl\"}],\"scattermapbox\":[{\"marker\":{\"colorbar\":{\"outlinewidth\":0,\"ticks\":\"\"}},\"type\":\"scattermapbox\"}],\"scatterpolargl\":[{\"marker\":{\"colorbar\":{\"outlinewidth\":0,\"ticks\":\"\"}},\"type\":\"scatterpolargl\"}],\"scatterpolar\":[{\"marker\":{\"colorbar\":{\"outlinewidth\":0,\"ticks\":\"\"}},\"type\":\"scatterpolar\"}],\"scatter\":[{\"marker\":{\"colorbar\":{\"outlinewidth\":0,\"ticks\":\"\"}},\"type\":\"scatter\"}],\"scatterternary\":[{\"marker\":{\"colorbar\":{\"outlinewidth\":0,\"ticks\":\"\"}},\"type\":\"scatterternary\"}],\"surface\":[{\"colorbar\":{\"outlinewidth\":0,\"ticks\":\"\"},\"colorscale\":[[0.0,\"#0d0887\"],[0.1111111111111111,\"#46039f\"],[0.2222222222222222,\"#7201a8\"],[0.3333333333333333,\"#9c179e\"],[0.4444444444444444,\"#bd3786\"],[0.5555555555555556,\"#d8576b\"],[0.6666666666666666,\"#ed7953\"],[0.7777777777777778,\"#fb9f3a\"],[0.8888888888888888,\"#fdca26\"],[1.0,\"#f0f921\"]],\"type\":\"surface\"}],\"table\":[{\"cells\":{\"fill\":{\"color\":\"#EBF0F8\"},\"line\":{\"color\":\"white\"}},\"header\":{\"fill\":{\"color\":\"#C8D4E3\"},\"line\":{\"color\":\"white\"}},\"type\":\"table\"}]},\"layout\":{\"annotationdefaults\":{\"arrowcolor\":\"#2a3f5f\",\"arrowhead\":0,\"arrowwidth\":1},\"autotypenumbers\":\"strict\",\"coloraxis\":{\"colorbar\":{\"outlinewidth\":0,\"ticks\":\"\"}},\"colorscale\":{\"diverging\":[[0,\"#8e0152\"],[0.1,\"#c51b7d\"],[0.2,\"#de77ae\"],[0.3,\"#f1b6da\"],[0.4,\"#fde0ef\"],[0.5,\"#f7f7f7\"],[0.6,\"#e6f5d0\"],[0.7,\"#b8e186\"],[0.8,\"#7fbc41\"],[0.9,\"#4d9221\"],[1,\"#276419\"]],\"sequential\":[[0.0,\"#0d0887\"],[0.1111111111111111,\"#46039f\"],[0.2222222222222222,\"#7201a8\"],[0.3333333333333333,\"#9c179e\"],[0.4444444444444444,\"#bd3786\"],[0.5555555555555556,\"#d8576b\"],[0.6666666666666666,\"#ed7953\"],[0.7777777777777778,\"#fb9f3a\"],[0.8888888888888888,\"#fdca26\"],[1.0,\"#f0f921\"]],\"sequentialminus\":[[0.0,\"#0d0887\"],[0.1111111111111111,\"#46039f\"],[0.2222222222222222,\"#7201a8\"],[0.3333333333333333,\"#9c179e\"],[0.4444444444444444,\"#bd3786\"],[0.5555555555555556,\"#d8576b\"],[0.6666666666666666,\"#ed7953\"],[0.7777777777777778,\"#fb9f3a\"],[0.8888888888888888,\"#fdca26\"],[1.0,\"#f0f921\"]]},\"colorway\":[\"#636efa\",\"#EF553B\",\"#00cc96\",\"#ab63fa\",\"#FFA15A\",\"#19d3f3\",\"#FF6692\",\"#B6E880\",\"#FF97FF\",\"#FECB52\"],\"font\":{\"color\":\"#2a3f5f\"},\"geo\":{\"bgcolor\":\"white\",\"lakecolor\":\"white\",\"landcolor\":\"white\",\"showlakes\":true,\"showland\":true,\"subunitcolor\":\"#C8D4E3\"},\"hoverlabel\":{\"align\":\"left\"},\"hovermode\":\"closest\",\"mapbox\":{\"style\":\"light\"},\"paper_bgcolor\":\"white\",\"plot_bgcolor\":\"white\",\"polar\":{\"angularaxis\":{\"gridcolor\":\"#EBF0F8\",\"linecolor\":\"#EBF0F8\",\"ticks\":\"\"},\"bgcolor\":\"white\",\"radialaxis\":{\"gridcolor\":\"#EBF0F8\",\"linecolor\":\"#EBF0F8\",\"ticks\":\"\"}},\"scene\":{\"xaxis\":{\"backgroundcolor\":\"white\",\"gridcolor\":\"#DFE8F3\",\"gridwidth\":2,\"linecolor\":\"#EBF0F8\",\"showbackground\":true,\"ticks\":\"\",\"zerolinecolor\":\"#EBF0F8\"},\"yaxis\":{\"backgroundcolor\":\"white\",\"gridcolor\":\"#DFE8F3\",\"gridwidth\":2,\"linecolor\":\"#EBF0F8\",\"showbackground\":true,\"ticks\":\"\",\"zerolinecolor\":\"#EBF0F8\"},\"zaxis\":{\"backgroundcolor\":\"white\",\"gridcolor\":\"#DFE8F3\",\"gridwidth\":2,\"linecolor\":\"#EBF0F8\",\"showbackground\":true,\"ticks\":\"\",\"zerolinecolor\":\"#EBF0F8\"}},\"shapedefaults\":{\"line\":{\"color\":\"#2a3f5f\"}},\"ternary\":{\"aaxis\":{\"gridcolor\":\"#DFE8F3\",\"linecolor\":\"#A2B1C6\",\"ticks\":\"\"},\"baxis\":{\"gridcolor\":\"#DFE8F3\",\"linecolor\":\"#A2B1C6\",\"ticks\":\"\"},\"bgcolor\":\"white\",\"caxis\":{\"gridcolor\":\"#DFE8F3\",\"linecolor\":\"#A2B1C6\",\"ticks\":\"\"}},\"title\":{\"x\":0.05},\"xaxis\":{\"automargin\":true,\"gridcolor\":\"#EBF0F8\",\"linecolor\":\"#EBF0F8\",\"ticks\":\"\",\"title\":{\"standoff\":15},\"zerolinecolor\":\"#EBF0F8\",\"zerolinewidth\":2},\"yaxis\":{\"automargin\":true,\"gridcolor\":\"#EBF0F8\",\"linecolor\":\"#EBF0F8\",\"ticks\":\"\",\"title\":{\"standoff\":15},\"zerolinecolor\":\"#EBF0F8\",\"zerolinewidth\":2}}},\"xaxis\":{\"tickfont\":{\"color\":\"black\",\"size\":12},\"showgrid\":false,\"tickangle\":90},\"yaxis\":{\"tickfont\":{\"color\":\"black\",\"size\":12},\"showgrid\":false,\"autorange\":\"reversed\",\"tickangle\":0},\"annotations\":[{\"font\":{\"color\":\"black\",\"size\":13},\"showarrow\":false,\"text\":\"1.0\",\"textangle\":0,\"x\":\"fac1, 7\",\"xref\":\"x\",\"y\":\"fac1, 7\",\"yref\":\"y\"},{\"font\":{\"color\":\"black\",\"size\":13},\"showarrow\":false,\"text\":\"0.56\",\"textangle\":0,\"x\":\"fac1, 7\",\"xref\":\"x\",\"y\":\"fac1, 6\",\"yref\":\"y\"},{\"font\":{\"color\":\"black\",\"size\":13},\"showarrow\":false,\"text\":\"0.43\",\"textangle\":0,\"x\":\"fac1, 7\",\"xref\":\"x\",\"y\":\"fac1, 5\",\"yref\":\"y\"},{\"font\":{\"color\":\"black\",\"size\":13},\"showarrow\":false,\"text\":\"0.35\",\"textangle\":0,\"x\":\"fac1, 7\",\"xref\":\"x\",\"y\":\"fac1, 4\",\"yref\":\"y\"},{\"font\":{\"color\":\"black\",\"size\":13},\"showarrow\":false,\"text\":\"0.3\",\"textangle\":0,\"x\":\"fac1, 7\",\"xref\":\"x\",\"y\":\"fac1, 3\",\"yref\":\"y\"},{\"font\":{\"color\":\"black\",\"size\":13},\"showarrow\":false,\"text\":\"0.26\",\"textangle\":0,\"x\":\"fac1, 7\",\"xref\":\"x\",\"y\":\"fac1, 2\",\"yref\":\"y\"},{\"font\":{\"color\":\"black\",\"size\":13},\"showarrow\":false,\"text\":\"0.23\",\"textangle\":0,\"x\":\"fac1, 7\",\"xref\":\"x\",\"y\":\"fac1, 1\",\"yref\":\"y\"},{\"font\":{\"color\":\"black\",\"size\":13},\"showarrow\":false,\"text\":\"0.16\",\"textangle\":0,\"x\":\"fac1, 7\",\"xref\":\"x\",\"y\":\"fac1, 0\",\"yref\":\"y\"},{\"font\":{\"color\":\"black\",\"size\":13},\"showarrow\":false,\"text\":\"0.56\",\"textangle\":0,\"x\":\"fac1, 6\",\"xref\":\"x\",\"y\":\"fac1, 7\",\"yref\":\"y\"},{\"font\":{\"color\":\"black\",\"size\":13},\"showarrow\":false,\"text\":\"1.0\",\"textangle\":0,\"x\":\"fac1, 6\",\"xref\":\"x\",\"y\":\"fac1, 6\",\"yref\":\"y\"},{\"font\":{\"color\":\"black\",\"size\":13},\"showarrow\":false,\"text\":\"0.52\",\"textangle\":0,\"x\":\"fac1, 6\",\"xref\":\"x\",\"y\":\"fac1, 5\",\"yref\":\"y\"},{\"font\":{\"color\":\"black\",\"size\":13},\"showarrow\":false,\"text\":\"0.45\",\"textangle\":0,\"x\":\"fac1, 6\",\"xref\":\"x\",\"y\":\"fac1, 4\",\"yref\":\"y\"},{\"font\":{\"color\":\"black\",\"size\":13},\"showarrow\":false,\"text\":\"0.35\",\"textangle\":0,\"x\":\"fac1, 6\",\"xref\":\"x\",\"y\":\"fac1, 3\",\"yref\":\"y\"},{\"font\":{\"color\":\"black\",\"size\":13},\"showarrow\":false,\"text\":\"0.3\",\"textangle\":0,\"x\":\"fac1, 6\",\"xref\":\"x\",\"y\":\"fac1, 2\",\"yref\":\"y\"},{\"font\":{\"color\":\"black\",\"size\":13},\"showarrow\":false,\"text\":\"0.26\",\"textangle\":0,\"x\":\"fac1, 6\",\"xref\":\"x\",\"y\":\"fac1, 1\",\"yref\":\"y\"},{\"font\":{\"color\":\"black\",\"size\":13},\"showarrow\":false,\"text\":\"0.2\",\"textangle\":0,\"x\":\"fac1, 6\",\"xref\":\"x\",\"y\":\"fac1, 0\",\"yref\":\"y\"},{\"font\":{\"color\":\"black\",\"size\":13},\"showarrow\":false,\"text\":\"0.43\",\"textangle\":0,\"x\":\"fac1, 5\",\"xref\":\"x\",\"y\":\"fac1, 7\",\"yref\":\"y\"},{\"font\":{\"color\":\"black\",\"size\":13},\"showarrow\":false,\"text\":\"0.52\",\"textangle\":0,\"x\":\"fac1, 5\",\"xref\":\"x\",\"y\":\"fac1, 6\",\"yref\":\"y\"},{\"font\":{\"color\":\"black\",\"size\":13},\"showarrow\":false,\"text\":\"1.0\",\"textangle\":0,\"x\":\"fac1, 5\",\"xref\":\"x\",\"y\":\"fac1, 5\",\"yref\":\"y\"},{\"font\":{\"color\":\"black\",\"size\":13},\"showarrow\":false,\"text\":\"0.53\",\"textangle\":0,\"x\":\"fac1, 5\",\"xref\":\"x\",\"y\":\"fac1, 4\",\"yref\":\"y\"},{\"font\":{\"color\":\"black\",\"size\":13},\"showarrow\":false,\"text\":\"0.43\",\"textangle\":0,\"x\":\"fac1, 5\",\"xref\":\"x\",\"y\":\"fac1, 3\",\"yref\":\"y\"},{\"font\":{\"color\":\"black\",\"size\":13},\"showarrow\":false,\"text\":\"0.34\",\"textangle\":0,\"x\":\"fac1, 5\",\"xref\":\"x\",\"y\":\"fac1, 2\",\"yref\":\"y\"},{\"font\":{\"color\":\"black\",\"size\":13},\"showarrow\":false,\"text\":\"0.29\",\"textangle\":0,\"x\":\"fac1, 5\",\"xref\":\"x\",\"y\":\"fac1, 1\",\"yref\":\"y\"},{\"font\":{\"color\":\"black\",\"size\":13},\"showarrow\":false,\"text\":\"0.19\",\"textangle\":0,\"x\":\"fac1, 5\",\"xref\":\"x\",\"y\":\"fac1, 0\",\"yref\":\"y\"},{\"font\":{\"color\":\"black\",\"size\":13},\"showarrow\":false,\"text\":\"0.35\",\"textangle\":0,\"x\":\"fac1, 4\",\"xref\":\"x\",\"y\":\"fac1, 7\",\"yref\":\"y\"},{\"font\":{\"color\":\"black\",\"size\":13},\"showarrow\":false,\"text\":\"0.45\",\"textangle\":0,\"x\":\"fac1, 4\",\"xref\":\"x\",\"y\":\"fac1, 6\",\"yref\":\"y\"},{\"font\":{\"color\":\"black\",\"size\":13},\"showarrow\":false,\"text\":\"0.53\",\"textangle\":0,\"x\":\"fac1, 4\",\"xref\":\"x\",\"y\":\"fac1, 5\",\"yref\":\"y\"},{\"font\":{\"color\":\"black\",\"size\":13},\"showarrow\":false,\"text\":\"1.0\",\"textangle\":0,\"x\":\"fac1, 4\",\"xref\":\"x\",\"y\":\"fac1, 4\",\"yref\":\"y\"},{\"font\":{\"color\":\"black\",\"size\":13},\"showarrow\":false,\"text\":\"0.53\",\"textangle\":0,\"x\":\"fac1, 4\",\"xref\":\"x\",\"y\":\"fac1, 3\",\"yref\":\"y\"},{\"font\":{\"color\":\"black\",\"size\":13},\"showarrow\":false,\"text\":\"0.4\",\"textangle\":0,\"x\":\"fac1, 4\",\"xref\":\"x\",\"y\":\"fac1, 2\",\"yref\":\"y\"},{\"font\":{\"color\":\"black\",\"size\":13},\"showarrow\":false,\"text\":\"0.32\",\"textangle\":0,\"x\":\"fac1, 4\",\"xref\":\"x\",\"y\":\"fac1, 1\",\"yref\":\"y\"},{\"font\":{\"color\":\"black\",\"size\":13},\"showarrow\":false,\"text\":\"0.23\",\"textangle\":0,\"x\":\"fac1, 4\",\"xref\":\"x\",\"y\":\"fac1, 0\",\"yref\":\"y\"},{\"font\":{\"color\":\"black\",\"size\":13},\"showarrow\":false,\"text\":\"0.3\",\"textangle\":0,\"x\":\"fac1, 3\",\"xref\":\"x\",\"y\":\"fac1, 7\",\"yref\":\"y\"},{\"font\":{\"color\":\"black\",\"size\":13},\"showarrow\":false,\"text\":\"0.35\",\"textangle\":0,\"x\":\"fac1, 3\",\"xref\":\"x\",\"y\":\"fac1, 6\",\"yref\":\"y\"},{\"font\":{\"color\":\"black\",\"size\":13},\"showarrow\":false,\"text\":\"0.43\",\"textangle\":0,\"x\":\"fac1, 3\",\"xref\":\"x\",\"y\":\"fac1, 5\",\"yref\":\"y\"},{\"font\":{\"color\":\"black\",\"size\":13},\"showarrow\":false,\"text\":\"0.53\",\"textangle\":0,\"x\":\"fac1, 3\",\"xref\":\"x\",\"y\":\"fac1, 4\",\"yref\":\"y\"},{\"font\":{\"color\":\"black\",\"size\":13},\"showarrow\":false,\"text\":\"1.0\",\"textangle\":0,\"x\":\"fac1, 3\",\"xref\":\"x\",\"y\":\"fac1, 3\",\"yref\":\"y\"},{\"font\":{\"color\":\"black\",\"size\":13},\"showarrow\":false,\"text\":\"0.5\",\"textangle\":0,\"x\":\"fac1, 3\",\"xref\":\"x\",\"y\":\"fac1, 2\",\"yref\":\"y\"},{\"font\":{\"color\":\"black\",\"size\":13},\"showarrow\":false,\"text\":\"0.4\",\"textangle\":0,\"x\":\"fac1, 3\",\"xref\":\"x\",\"y\":\"fac1, 1\",\"yref\":\"y\"},{\"font\":{\"color\":\"black\",\"size\":13},\"showarrow\":false,\"text\":\"0.29\",\"textangle\":0,\"x\":\"fac1, 3\",\"xref\":\"x\",\"y\":\"fac1, 0\",\"yref\":\"y\"},{\"font\":{\"color\":\"black\",\"size\":13},\"showarrow\":false,\"text\":\"0.26\",\"textangle\":0,\"x\":\"fac1, 2\",\"xref\":\"x\",\"y\":\"fac1, 7\",\"yref\":\"y\"},{\"font\":{\"color\":\"black\",\"size\":13},\"showarrow\":false,\"text\":\"0.3\",\"textangle\":0,\"x\":\"fac1, 2\",\"xref\":\"x\",\"y\":\"fac1, 6\",\"yref\":\"y\"},{\"font\":{\"color\":\"black\",\"size\":13},\"showarrow\":false,\"text\":\"0.34\",\"textangle\":0,\"x\":\"fac1, 2\",\"xref\":\"x\",\"y\":\"fac1, 5\",\"yref\":\"y\"},{\"font\":{\"color\":\"black\",\"size\":13},\"showarrow\":false,\"text\":\"0.4\",\"textangle\":0,\"x\":\"fac1, 2\",\"xref\":\"x\",\"y\":\"fac1, 4\",\"yref\":\"y\"},{\"font\":{\"color\":\"black\",\"size\":13},\"showarrow\":false,\"text\":\"0.5\",\"textangle\":0,\"x\":\"fac1, 2\",\"xref\":\"x\",\"y\":\"fac1, 3\",\"yref\":\"y\"},{\"font\":{\"color\":\"black\",\"size\":13},\"showarrow\":false,\"text\":\"1.0\",\"textangle\":0,\"x\":\"fac1, 2\",\"xref\":\"x\",\"y\":\"fac1, 2\",\"yref\":\"y\"},{\"font\":{\"color\":\"black\",\"size\":13},\"showarrow\":false,\"text\":\"0.51\",\"textangle\":0,\"x\":\"fac1, 2\",\"xref\":\"x\",\"y\":\"fac1, 1\",\"yref\":\"y\"},{\"font\":{\"color\":\"black\",\"size\":13},\"showarrow\":false,\"text\":\"0.36\",\"textangle\":0,\"x\":\"fac1, 2\",\"xref\":\"x\",\"y\":\"fac1, 0\",\"yref\":\"y\"},{\"font\":{\"color\":\"black\",\"size\":13},\"showarrow\":false,\"text\":\"0.23\",\"textangle\":0,\"x\":\"fac1, 1\",\"xref\":\"x\",\"y\":\"fac1, 7\",\"yref\":\"y\"},{\"font\":{\"color\":\"black\",\"size\":13},\"showarrow\":false,\"text\":\"0.26\",\"textangle\":0,\"x\":\"fac1, 1\",\"xref\":\"x\",\"y\":\"fac1, 6\",\"yref\":\"y\"},{\"font\":{\"color\":\"black\",\"size\":13},\"showarrow\":false,\"text\":\"0.29\",\"textangle\":0,\"x\":\"fac1, 1\",\"xref\":\"x\",\"y\":\"fac1, 5\",\"yref\":\"y\"},{\"font\":{\"color\":\"black\",\"size\":13},\"showarrow\":false,\"text\":\"0.32\",\"textangle\":0,\"x\":\"fac1, 1\",\"xref\":\"x\",\"y\":\"fac1, 4\",\"yref\":\"y\"},{\"font\":{\"color\":\"black\",\"size\":13},\"showarrow\":false,\"text\":\"0.4\",\"textangle\":0,\"x\":\"fac1, 1\",\"xref\":\"x\",\"y\":\"fac1, 3\",\"yref\":\"y\"},{\"font\":{\"color\":\"black\",\"size\":13},\"showarrow\":false,\"text\":\"0.51\",\"textangle\":0,\"x\":\"fac1, 1\",\"xref\":\"x\",\"y\":\"fac1, 2\",\"yref\":\"y\"},{\"font\":{\"color\":\"black\",\"size\":13},\"showarrow\":false,\"text\":\"1.0\",\"textangle\":0,\"x\":\"fac1, 1\",\"xref\":\"x\",\"y\":\"fac1, 1\",\"yref\":\"y\"},{\"font\":{\"color\":\"black\",\"size\":13},\"showarrow\":false,\"text\":\"0.47\",\"textangle\":0,\"x\":\"fac1, 1\",\"xref\":\"x\",\"y\":\"fac1, 0\",\"yref\":\"y\"},{\"font\":{\"color\":\"black\",\"size\":13},\"showarrow\":false,\"text\":\"0.16\",\"textangle\":0,\"x\":\"fac1, 0\",\"xref\":\"x\",\"y\":\"fac1, 7\",\"yref\":\"y\"},{\"font\":{\"color\":\"black\",\"size\":13},\"showarrow\":false,\"text\":\"0.2\",\"textangle\":0,\"x\":\"fac1, 0\",\"xref\":\"x\",\"y\":\"fac1, 6\",\"yref\":\"y\"},{\"font\":{\"color\":\"black\",\"size\":13},\"showarrow\":false,\"text\":\"0.19\",\"textangle\":0,\"x\":\"fac1, 0\",\"xref\":\"x\",\"y\":\"fac1, 5\",\"yref\":\"y\"},{\"font\":{\"color\":\"black\",\"size\":13},\"showarrow\":false,\"text\":\"0.23\",\"textangle\":0,\"x\":\"fac1, 0\",\"xref\":\"x\",\"y\":\"fac1, 4\",\"yref\":\"y\"},{\"font\":{\"color\":\"black\",\"size\":13},\"showarrow\":false,\"text\":\"0.29\",\"textangle\":0,\"x\":\"fac1, 0\",\"xref\":\"x\",\"y\":\"fac1, 3\",\"yref\":\"y\"},{\"font\":{\"color\":\"black\",\"size\":13},\"showarrow\":false,\"text\":\"0.36\",\"textangle\":0,\"x\":\"fac1, 0\",\"xref\":\"x\",\"y\":\"fac1, 2\",\"yref\":\"y\"},{\"font\":{\"color\":\"black\",\"size\":13},\"showarrow\":false,\"text\":\"0.47\",\"textangle\":0,\"x\":\"fac1, 0\",\"xref\":\"x\",\"y\":\"fac1, 1\",\"yref\":\"y\"},{\"font\":{\"color\":\"black\",\"size\":13},\"showarrow\":false,\"text\":\"1.0\",\"textangle\":0,\"x\":\"fac1, 0\",\"xref\":\"x\",\"y\":\"fac1, 0\",\"yref\":\"y\"}],\"title\":{\"text\":\"Stability of fac1 over time\"}},                        {\"responsive\": true}                    ).then(function(){\n",
       "                            \n",
       "var gd = document.getElementById('38b971b6-630f-4c13-a86d-c53a8e8ea1a0');\n",
       "var x = new MutationObserver(function (mutations, observer) {{\n",
       "        var display = window.getComputedStyle(gd).display;\n",
       "        if (!display || display === 'none') {{\n",
       "            console.log([gd, 'removed!']);\n",
       "            Plotly.purge(gd);\n",
       "            observer.disconnect();\n",
       "        }}\n",
       "}});\n",
       "\n",
       "// Listen for the removal of the full notebook cells\n",
       "var notebookContainer = gd.closest('#notebook-container');\n",
       "if (notebookContainer) {{\n",
       "    x.observe(notebookContainer, {childList: true});\n",
       "}}\n",
       "\n",
       "// Listen for the clearing of the current output cell\n",
       "var outputEl = gd.closest('.output');\n",
       "if (outputEl) {{\n",
       "    x.observe(outputEl, {childList: true});\n",
       "}}\n",
       "\n",
       "                        })                };                });            </script>        </div>"
      ]
     },
     "metadata": {},
     "output_type": "display_data"
    },
    {
     "data": {
      "application/javascript": [
       "\n",
       "            setTimeout(function() {\n",
       "                var nbb_cell_id = 30;\n",
       "                var nbb_unformatted_code = \"fig_scores.update_layout(title=\\\"Stability of fac1 over time\\\")\";\n",
       "                var nbb_formatted_code = \"fig_scores.update_layout(title=\\\"Stability of fac1 over time\\\")\";\n",
       "                var nbb_cells = Jupyter.notebook.get_cells();\n",
       "                for (var i = 0; i < nbb_cells.length; ++i) {\n",
       "                    if (nbb_cells[i].input_prompt_number == nbb_cell_id) {\n",
       "                        if (nbb_cells[i].get_text() == nbb_unformatted_code) {\n",
       "                             nbb_cells[i].set_text(nbb_formatted_code);\n",
       "                        }\n",
       "                        break;\n",
       "                    }\n",
       "                }\n",
       "            }, 500);\n",
       "            "
      ],
      "text/plain": [
       "<IPython.core.display.Javascript object>"
      ]
     },
     "metadata": {},
     "output_type": "display_data"
    }
   ],
   "source": [
    "fig_scores.update_layout(title=\"Stability of fac1 over time\")"
   ]
  },
  {
   "cell_type": "code",
   "execution_count": null,
   "metadata": {},
   "outputs": [],
   "source": []
  }
 ],
 "metadata": {
  "kernelspec": {
   "display_name": "Python 3 (ipykernel)",
   "language": "python",
   "name": "python3"
  },
  "language_info": {
   "codemirror_mode": {
    "name": "ipython",
    "version": 3
   },
   "file_extension": ".py",
   "mimetype": "text/x-python",
   "name": "python",
   "nbconvert_exporter": "python",
   "pygments_lexer": "ipython3",
   "version": "3.9.12"
  }
 },
 "nbformat": 4,
 "nbformat_minor": 4
}
