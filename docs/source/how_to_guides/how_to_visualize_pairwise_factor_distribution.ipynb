{
 "cells": [
  {
   "cell_type": "code",
   "execution_count": null,
   "id": "0",
   "metadata": {},
   "outputs": [],
   "source": [
    "%load_ext nb_black"
   ]
  },
  {
   "cell_type": "code",
   "execution_count": null,
   "id": "1",
   "metadata": {},
   "outputs": [],
   "source": [
    "import numpy as np\n",
    "import pandas as pd\n",
    "import yaml\n",
    "\n",
    "from skillmodels.config import TEST_DIR\n",
    "from skillmodels.likelihood_function import get_maximization_inputs\n",
    "from skillmodels.simulate_data import simulate_dataset\n",
    "from skillmodels.visualize_factor_distributions import (\n",
    "    bivariate_density_contours,\n",
    "    bivariate_density_surfaces,\n",
    "    combine_distribution_plots,\n",
    "    univariate_densities,\n",
    ")"
   ]
  },
  {
   "cell_type": "markdown",
   "id": "2",
   "metadata": {},
   "source": [
    "# How to visualize the distribution of latent factors\n",
    "\n",
    "We show how to create Kernel density plots for pairs of latent factors in two or three dimensions. As illustration we use the same example as in the [introductory tutorial](../getting_started/tutorial.ipynb). For more details of how to obtain the filtered states, also see that tutorial.\n",
    "\n",
    "There are two kinds of data that can be visualized with the function described below:\n",
    "1. Filtered states, i.e. the estimates of the latent factors in an empirical dataset\n",
    "2. Simulated states, i.e. a synthetic dataset of latent factors that is generated for a parametrized model. \n",
    "\n",
    "Below, we show how to get both kinds of datasets, how to visualize the distribution of latent factors given one dataset and how to visualize the difference in distributions between two datasets.\n",
    "\n",
    "## Getting filtered states "
   ]
  },
  {
   "cell_type": "code",
   "execution_count": null,
   "id": "3",
   "metadata": {},
   "outputs": [],
   "source": [
    "with open(TEST_DIR / \"model2.yaml\") as y:\n",
    "    model_dict = yaml.load(y, Loader=yaml.FullLoader)\n",
    "params = pd.read_csv(TEST_DIR / \"regression_vault\" / \"one_stage_anchoring.csv\")\n",
    "params = params.set_index([\"category\", \"period\", \"name1\", \"name2\"])\n",
    "\n",
    "data = pd.read_stata(TEST_DIR / \"model2_simulated_data.dta\")\n",
    "data = data.set_index([\"caseid\", \"period\"])"
   ]
  },
  {
   "cell_type": "markdown",
   "id": "4",
   "metadata": {},
   "source": [
    "## Plotting one dataset of states"
   ]
  },
  {
   "cell_type": "code",
   "execution_count": null,
   "id": "5",
   "metadata": {},
   "outputs": [],
   "source": [
    "kde_plots = univariate_densities(\n",
    "    model_dict=model_dict,\n",
    "    data=data,\n",
    "    params=params,\n",
    "    period=1,\n",
    ")\n",
    "contour_plots = bivariate_density_contours(\n",
    "    model_dict=model_dict,\n",
    "    data=data,\n",
    "    params=params,\n",
    "    period=1,\n",
    ")"
   ]
  },
  {
   "cell_type": "code",
   "execution_count": null,
   "id": "6",
   "metadata": {},
   "outputs": [],
   "source": [
    "surface_plots = bivariate_density_surfaces(\n",
    "    model_dict=model_dict,\n",
    "    data=data,\n",
    "    params=params,\n",
    "    period=1,\n",
    ")"
   ]
  },
  {
   "cell_type": "code",
   "execution_count": null,
   "id": "7",
   "metadata": {},
   "outputs": [],
   "source": [
    "fig = combine_distribution_plots(\n",
    "    kde_plots=kde_plots,\n",
    "    contour_plots=contour_plots,\n",
    "    surface_plots=surface_plots,\n",
    ")"
   ]
  },
  {
   "cell_type": "code",
   "execution_count": null,
   "id": "8",
   "metadata": {},
   "outputs": [],
   "source": [
    "fig.show()"
   ]
  },
  {
   "cell_type": "markdown",
   "id": "9",
   "metadata": {},
   "source": [
    "## (Outdated) Optional arguments of the plotting function\n",
    "\n",
    "- You can omit the 3d Plots in the upper triangle by leaving out `add_3d_plots=True`. \n",
    "- You can modify the trade-off between runtime and plot quality by setting `n_points`, i.e. the number of points per dimension to different values. Default is 50.\n",
    "- You can return the individual plots instead of a grid by setting `combine_plots_in_grid=False`. In that case the function returns a dictionary with figures that you can save for later use. \n",
    "- You can manually tweek the ranges over which the distributions are plotted. For that, you need to specify the argument `state_ranges`. This is a dictionary. The keys are the names of the latent factors. The values are DataFrames with the columns \"period\", \"minimum\", \"maximum\". The state_ranges are used to define the axis limits of the plots.\n",
    "- lower_kde_kws (dict): Keyword arguments for kdeplot, used to generate the plots in the lower triangle of the grid, i.e. the two dimensional kdeplot for each factor pair.\n",
    "- diag_kde_kws (dict): Keyword arguments for kdeplot, used to generate the plots on the diagonal of the grid, i.e. the one dimensional kdeplot for each factor. \n",
    "- surface_kws (dict): Keyword arguments for Axes.plot_surface, used to generate the plots in the upper triangle of the grid, i.e. the surface plot of the kernel density estimates for each factor pair."
   ]
  },
  {
   "cell_type": "markdown",
   "id": "10",
   "metadata": {},
   "source": [
    "## Getting simulated datasets (with and without policy)\n",
    "\n",
    "One of the main application of skill formation models is to simulate the effect of counterfactual policies. To visualize the effect of a policy on factor distributions, we first need to simulate a dataset in which a policy has been active. "
   ]
  },
  {
   "cell_type": "code",
   "execution_count": null,
   "id": "11",
   "metadata": {},
   "outputs": [],
   "source": [
    "sim_states = simulate_dataset(model_dict=model_dict, params=params, data=data)[\n",
    "    \"anchored_states\"\n",
    "][\"states\"]"
   ]
  },
  {
   "cell_type": "code",
   "execution_count": null,
   "id": "12",
   "metadata": {},
   "outputs": [],
   "source": [
    "policies = [\n",
    "    {\"period\": 1, \"factor\": \"fac1\", \"effect_size\": 3.5, \"standard_deviation\": 0.0},\n",
    "    {\"period\": 1, \"factor\": \"fac2\", \"effect_size\": 3.5, \"standard_deviation\": 0.0},\n",
    "]"
   ]
  },
  {
   "cell_type": "code",
   "execution_count": null,
   "id": "13",
   "metadata": {},
   "outputs": [],
   "source": [
    "sim_states_policy = simulate_dataset(\n",
    "    model_dict=model_dict,\n",
    "    params=params,\n",
    "    data=data,\n",
    "    policies=policies,\n",
    ")[\"anchored_states\"][\"states\"]"
   ]
  },
  {
   "cell_type": "markdown",
   "id": "14",
   "metadata": {},
   "source": [
    "## Plotting differences in distributions"
   ]
  },
  {
   "cell_type": "code",
   "execution_count": null,
   "id": "15",
   "metadata": {},
   "outputs": [],
   "source": [
    "kde_plots = univariate_densities(\n",
    "    model_dict=model_dict,\n",
    "    states={\"baseline\": sim_states, \"subsidy\": sim_states_policy},\n",
    "    data=data,\n",
    "    params=params,\n",
    "    period=1,\n",
    ")\n",
    "contour_plots = bivariate_density_contours(\n",
    "    model_dict=model_dict,\n",
    "    states={\"baseline\": sim_states, \"subsidy\": sim_states_policy},\n",
    "    data=data,\n",
    "    params=params,\n",
    "    period=1,\n",
    ")"
   ]
  },
  {
   "cell_type": "code",
   "execution_count": null,
   "id": "16",
   "metadata": {},
   "outputs": [],
   "source": [
    "fig = combine_distribution_plots(kde_plots, contour_plots, None, showlegend=True)"
   ]
  },
  {
   "cell_type": "code",
   "execution_count": null,
   "id": "17",
   "metadata": {},
   "outputs": [],
   "source": [
    "fig.show()"
   ]
  },
  {
   "cell_type": "markdown",
   "id": "18",
   "metadata": {},
   "source": [
    "All the optional arguments stay the same. The only difference ist that 3d plots do not work for several datasets."
   ]
  },
  {
   "cell_type": "markdown",
   "id": "19",
   "metadata": {},
   "source": [
    "# Plotting with observed factors"
   ]
  },
  {
   "cell_type": "code",
   "execution_count": null,
   "id": "20",
   "metadata": {},
   "outputs": [],
   "source": [
    "model_dict[\"observed_factors\"] = [\"obs1\"]"
   ]
  },
  {
   "cell_type": "code",
   "execution_count": null,
   "id": "21",
   "metadata": {},
   "outputs": [],
   "source": [
    "data[\"obs1\"] = np.random.rand(data.shape[0])"
   ]
  },
  {
   "cell_type": "code",
   "execution_count": null,
   "id": "22",
   "metadata": {},
   "outputs": [],
   "source": [
    "params = get_maximization_inputs(model_dict=model_dict, data=data)[\"params_template\"]\n",
    "params[\"value\"] = 0.1"
   ]
  },
  {
   "cell_type": "code",
   "execution_count": null,
   "id": "23",
   "metadata": {},
   "outputs": [],
   "source": [
    "kde_plots = univariate_densities(\n",
    "    model_dict=model_dict,\n",
    "    data=data,\n",
    "    params=params,\n",
    "    period=1,\n",
    "    observed_factors=True,\n",
    ")\n",
    "contour_plots = bivariate_density_contours(\n",
    "    model_dict=model_dict,\n",
    "    data=data,\n",
    "    params=params,\n",
    "    period=1,\n",
    "    observed_factors=True,\n",
    ")"
   ]
  },
  {
   "cell_type": "code",
   "execution_count": null,
   "id": "24",
   "metadata": {},
   "outputs": [],
   "source": [
    "combine_distribution_plots(\n",
    "    kde_plots=kde_plots,\n",
    "    contour_plots=contour_plots,\n",
    "    factor_order=[\"obs1\", \"fac1\", \"fac2\"],\n",
    ")"
   ]
  }
 ],
 "metadata": {
  "language_info": {
   "codemirror_mode": {
    "name": "ipython",
    "version": 3
   },
   "file_extension": ".py",
   "mimetype": "text/x-python",
   "name": "python",
   "nbconvert_exporter": "python",
   "pygments_lexer": "ipython3"
  }
 },
 "nbformat": 4,
 "nbformat_minor": 5
}
