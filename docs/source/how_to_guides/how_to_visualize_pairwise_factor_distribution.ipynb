{
 "cells": [
  {
   "cell_type": "code",
   "execution_count": 1,
   "id": "fa154a17",
   "metadata": {},
   "outputs": [
    {
     "ename": "ModuleNotFoundError",
     "evalue": "No module named 'skillmodels'",
     "output_type": "error",
     "traceback": [
      "\u001b[0;31m---------------------------------------------------------------------------\u001b[0m",
      "\u001b[0;31mModuleNotFoundError\u001b[0m                       Traceback (most recent call last)",
      "\u001b[0;32m<ipython-input-1-bd14614584f1>\u001b[0m in \u001b[0;36m<module>\u001b[0;34m\u001b[0m\n\u001b[1;32m      1\u001b[0m \u001b[0;32mimport\u001b[0m \u001b[0mnumpy\u001b[0m \u001b[0;32mas\u001b[0m \u001b[0mnp\u001b[0m\u001b[0;34m\u001b[0m\u001b[0;34m\u001b[0m\u001b[0m\n\u001b[1;32m      2\u001b[0m \u001b[0;32mimport\u001b[0m \u001b[0mpandas\u001b[0m \u001b[0;32mas\u001b[0m \u001b[0mpd\u001b[0m\u001b[0;34m\u001b[0m\u001b[0;34m\u001b[0m\u001b[0m\n\u001b[0;32m----> 3\u001b[0;31m \u001b[0;32mfrom\u001b[0m \u001b[0mskillmodels\u001b[0m\u001b[0;34m.\u001b[0m\u001b[0mconfig\u001b[0m \u001b[0;32mimport\u001b[0m \u001b[0mTEST_DIR\u001b[0m\u001b[0;34m\u001b[0m\u001b[0;34m\u001b[0m\u001b[0m\n\u001b[0m\u001b[1;32m      4\u001b[0m \u001b[0;32mimport\u001b[0m \u001b[0myaml\u001b[0m\u001b[0;34m\u001b[0m\u001b[0;34m\u001b[0m\u001b[0m\n\u001b[1;32m      5\u001b[0m from skillmodels.visualize_factor_distributions import (\n",
      "\u001b[0;31mModuleNotFoundError\u001b[0m: No module named 'skillmodels'"
     ]
    }
   ],
   "source": [
    "import numpy as np\n",
    "import pandas as pd\n",
    "from skillmodels.config import TEST_DIR\n",
    "import yaml\n",
    "from skillmodels.visualize_factor_distributions import (\n",
    "    plot_factor_distributions,\n",
    ")\n",
    "from skillmodels.likelihood_function import get_maximization_inputs\n",
    "from skillmodels.simulate_data import simulate_dataset"
   ]
  },
  {
   "cell_type": "markdown",
   "id": "e8d7f57d",
   "metadata": {},
   "source": [
    "# How to visualize the distribution of latent factors\n",
    "\n",
    "We show how to create Kernel density plots for pairs of latent factors in two or three dimensions. As illustration we use the same example as in the [introductory tutorial](../getting_started/tutorial.ipynb). For more details of how to obtain the filtered states, also see that tutorial.\n",
    "\n",
    "There are two kinds of data that can be visualized with the function described below:\n",
    "1. Filtered states, i.e. the estimates of the latent factors in an empirical dataset\n",
    "2. Simulated states, i.e. a synthetic dataset of latent factors that is generated for a parametrized model. \n",
    "\n",
    "Below, we show how to get both kinds of datasets, how to visualize the distribution of latent factors given one dataset and how to visualize the difference in distributions between two datasets.\n",
    "\n",
    "## Getting filtered states "
   ]
  },
  {
   "cell_type": "code",
   "execution_count": null,
   "id": "431490ae",
   "metadata": {},
   "outputs": [],
   "source": [
    "with open(TEST_DIR/\"model2.yaml\") as y:\n",
    "        model_dict = yaml.load(y, Loader=yaml.FullLoader)\n",
    "\n",
    "params = pd.read_csv(TEST_DIR / \"regression_vault\" / f\"one_stage_anchoring.csv\")\n",
    "params = params.set_index([\"category\", \"period\", \"name1\", \"name2\"])\n",
    "\n",
    "data = pd.read_stata(TEST_DIR / \"model2_simulated_data.dta\")\n",
    "data.set_index([\"caseid\", \"period\"], inplace=True)"
   ]
  },
  {
   "cell_type": "code",
   "execution_count": null,
   "id": "ad841610",
   "metadata": {},
   "outputs": [],
   "source": [
    "max_inputs = get_maximization_inputs(model_dict, data)\n",
    "debug_loglike = max_inputs[\"debug_loglike\"]\n",
    "debug_data = debug_loglike(params)\n",
    "filtered_states = debug_data[\"filtered_states\"]\n",
    "state_ranges = debug_data[\"state_ranges\"]\n"
   ]
  },
  {
   "cell_type": "markdown",
   "id": "912d0aad",
   "metadata": {},
   "source": [
    "## Plotting one dataset of states"
   ]
  },
  {
   "cell_type": "code",
   "execution_count": null,
   "id": "0d1c1363",
   "metadata": {},
   "outputs": [],
   "source": [
    "fig = plot_factor_distributions(\n",
    "    states=filtered_states,\n",
    "    model_dict=model_dict,\n",
    "    add_3d_plots=True,\n",
    "    period=1,\n",
    ")"
   ]
  },
  {
   "cell_type": "markdown",
   "id": "f3228c42",
   "metadata": {},
   "source": [
    "## Optional arguments of the plotting function\n",
    "\n",
    "- You can omit the 3d Plots in the upper triangle by leaving out `add_3d_plots=True`. \n",
    "- You can modify the trade-off between runtime and plot quality by setting `n_points`, i.e. the number of points per dimension to different values. Default is 50.\n",
    "- You can return the individual plots instead of a grid by setting `combine_plots_in_grid=False`. In that case the function returns a dictionary with figures that you can save for later use. \n",
    "- You can manually tweek the ranges over which the distributions are plotted. For that, you need to specify the argument `state_ranges`. This is a dictionary. The keys are the names of the latent factors. The values are DataFrames with the columns \"period\", \"minimum\", \"maximum\". The state_ranges are used to define the axis limits of the plots.\n",
    "- lower_kde_kws (dict): Keyword arguments for seaborn.kdeplot, used to generate the plots in the lower triangle of the grid, i.e. the two dimensional kdeplot for each factor pair.\n",
    "- diag_kde_kws (dict): Keyword arguments for seaborn.kdeplot, used to generate the plots on the diagonal of the grid, i.e. the one dimensional kdeplot for each factor. \n",
    "- surface_kws (dict): Keyword arguments for Axes.plot_surface, used to generate the plots in the upper triangle of the grid, i.e. the surface plot of the kernel density estimates for each factor pair."
   ]
  },
  {
   "cell_type": "markdown",
   "id": "478d6702",
   "metadata": {},
   "source": [
    "## Getting simulated datasets (with and without policy)\n",
    "\n",
    "One of the main application of skill formation models is to simulate the effect of counterfactual policies. To visualize the effect of a policy on factor distributions, we first need to simulate a dataset in which a policy has been active. "
   ]
  },
  {
   "cell_type": "code",
   "execution_count": null,
   "id": "666709f8",
   "metadata": {},
   "outputs": [],
   "source": [
    "with open(TEST_DIR/\"model2.yaml\") as y:\n",
    "        model_dict = yaml.load(y, Loader=yaml.FullLoader)\n",
    "\n",
    "params = pd.read_csv(TEST_DIR / \"regression_vault\" / f\"one_stage_anchoring.csv\")\n",
    "params = params.set_index([\"category\", \"period\", \"name1\", \"name2\"])"
   ]
  },
  {
   "cell_type": "code",
   "execution_count": null,
   "id": "6d5fabc2",
   "metadata": {},
   "outputs": [],
   "source": [
    "control_means = pd.Series([0], index=[\"x1\"])\n",
    "control_sds = pd.Series([1], index=[\"x1\"])"
   ]
  },
  {
   "cell_type": "code",
   "execution_count": null,
   "id": "96c101bd",
   "metadata": {},
   "outputs": [],
   "source": [
    "_, initial_data =simulate_dataset(model_dict, params, n_obs=100, control_means=control_means,\n",
    "                             control_sds=control_sds, policies=None)"
   ]
  },
  {
   "cell_type": "code",
   "execution_count": null,
   "id": "e9bb9d75",
   "metadata": {},
   "outputs": [],
   "source": [
    "policies = [\n",
    "        {\"period\": 1, \"factor\": \"fac1\", \"effect_size\": 3.5, \"standard_deviation\": 0.0},\n",
    "        {\"period\": 1, \"factor\": \"fac2\", \"effect_size\": 3.5, \"standard_deviation\": 0.0}]"
   ]
  },
  {
   "cell_type": "code",
   "execution_count": null,
   "id": "981624e8",
   "metadata": {},
   "outputs": [],
   "source": [
    "_, data_after_policies = simulate_dataset(model_dict, params, n_obs=100, control_means=control_means,\n",
    "                             control_sds=control_sds, policies=policies)"
   ]
  },
  {
   "cell_type": "markdown",
   "id": "619d696b",
   "metadata": {},
   "source": [
    "## Plotting differences in distributions"
   ]
  },
  {
   "cell_type": "code",
   "execution_count": null,
   "id": "c4503ac6",
   "metadata": {},
   "outputs": [],
   "source": [
    "fig = plot_factor_distributions(\n",
    "    states={\"baseline\": initial_data, \"subsidy\": data_after_policies}, \n",
    "    model_dict=model_dict,\n",
    "    period=1,\n",
    ")"
   ]
  },
  {
   "cell_type": "markdown",
   "id": "12bcb556",
   "metadata": {},
   "source": [
    "All the optional arguments stay the same. The only difference ist that 3d plots do not work for several datasets."
   ]
  }
 ],
 "metadata": {
  "kernelspec": {
   "display_name": "Python 3",
   "language": "python",
   "name": "python3"
  },
  "language_info": {
   "codemirror_mode": {
    "name": "ipython",
    "version": 3
   },
   "file_extension": ".py",
   "mimetype": "text/x-python",
   "name": "python",
   "nbconvert_exporter": "python",
   "pygments_lexer": "ipython3",
   "version": "3.7.4"
  }
 },
 "nbformat": 4,
 "nbformat_minor": 5
}
