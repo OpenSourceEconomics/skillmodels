{
 "cells": [
  {
   "cell_type": "code",
   "execution_count": null,
   "metadata": {},
   "outputs": [],
   "source": [
    "import pandas as pd\n",
    "import yaml\n",
    "\n",
    "from skillmodels.config import TEST_DIR\n",
    "from skillmodels.simulate_data import simulate_dataset"
   ]
  },
  {
   "cell_type": "markdown",
   "metadata": {},
   "source": [
    "# How to simulate dataset\n",
    "\n",
    "\n",
    "\n",
    "Below we show how to simulate dataset for a test model. \n",
    "\n",
    "## Getting inputs\n",
    "\n",
    "For more details on this check out the introductory tutorial. "
   ]
  },
  {
   "cell_type": "code",
   "execution_count": null,
   "metadata": {},
   "outputs": [],
   "source": [
    "with open(TEST_DIR / \"model2.yaml\") as y:\n",
    "    model_dict = yaml.load(y, Loader=yaml.FullLoader)\n",
    "\n",
    "data = pd.read_stata(TEST_DIR / \"model2_simulated_data.dta\")\n",
    "data = data.set_index([\"caseid\", \"period\"])\n",
    "\n",
    "params = pd.read_csv(TEST_DIR / \"regression_vault\" / \"one_stage_anchoring.csv\")\n",
    "params = params.set_index([\"category\", \"period\", \"name1\", \"name2\"])"
   ]
  },
  {
   "cell_type": "markdown",
   "metadata": {},
   "source": [
    "##  Simulated data without policy"
   ]
  },
  {
   "cell_type": "code",
   "execution_count": null,
   "metadata": {},
   "outputs": [],
   "source": [
    "initial_data = simulate_dataset(\n",
    "    model_dict=model_dict,\n",
    "    params=params,\n",
    "    data=data,\n",
    ")\n",
    "initial_data[\"anchored_states\"][\"states\"]"
   ]
  },
  {
   "cell_type": "markdown",
   "metadata": {},
   "source": [
    "## Why do I need data to simulate data?\n",
    "\n",
    "The data you pass to simulate_data contains information on observed factors and control variables. Those are not part of the latent factor model and a standard model specification does not have enough information to generate them. \n",
    "\n",
    "If you have a model without control variables and observed factors, you can simply pass `n_obs` instead of `data`."
   ]
  },
  {
   "cell_type": "markdown",
   "metadata": {},
   "source": [
    "##  Simulated data with policy"
   ]
  },
  {
   "cell_type": "code",
   "execution_count": null,
   "metadata": {},
   "outputs": [],
   "source": [
    "policies = [\n",
    "    {\"period\": 0, \"factor\": \"fac1\", \"effect_size\": 0.2, \"standard_deviation\": 0.0},\n",
    "    {\"period\": 1, \"factor\": \"fac2\", \"effect_size\": 0.1, \"standard_deviation\": 0.0},\n",
    "]"
   ]
  },
  {
   "cell_type": "code",
   "execution_count": null,
   "metadata": {},
   "outputs": [],
   "source": [
    "data_after_policies = simulate_dataset(\n",
    "    model_dict=model_dict,\n",
    "    params=params,\n",
    "    data=data,\n",
    ")\n",
    "data_after_policies[\"anchored_states\"][\"states\"]"
   ]
  },
  {
   "cell_type": "code",
   "execution_count": null,
   "metadata": {},
   "outputs": [],
   "source": []
  }
 ],
 "metadata": {
  "language_info": {
   "codemirror_mode": {
    "name": "ipython",
    "version": 3
   },
   "file_extension": ".py",
   "mimetype": "text/x-python",
   "name": "python",
   "nbconvert_exporter": "python",
   "pygments_lexer": "ipython3"
  }
 },
 "nbformat": 4,
 "nbformat_minor": 4
}
