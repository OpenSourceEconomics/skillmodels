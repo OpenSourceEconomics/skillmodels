{
 "cells": [
  {
   "cell_type": "code",
   "execution_count": 1,
   "metadata": {},
   "outputs": [],
   "source": [
    "import numpy as np\n",
    "import pandas as pd\n",
    "from skillmodels.config import TEST_DIR\n",
    "import yaml\n",
    "from skillmodels.simulate_data import simulate_dataset\n",
    "from skillmodels.likelihood_function import get_maximization_inputs\n"
   ]
  },
  {
   "cell_type": "markdown",
   "metadata": {},
   "source": [
    "# How to simulate dataset\n",
    "\n",
    "\n",
    "\n",
    "Below we show how to simulate dataset for a test model. \n",
    "\n",
    "## Getting params\n",
    "\n",
    "For more details on this check out the introductory tutorial. "
   ]
  },
  {
   "cell_type": "code",
   "execution_count": 2,
   "metadata": {},
   "outputs": [],
   "source": [
    "with open(TEST_DIR/\"model2.yaml\") as y:\n",
    "        model_dict = yaml.load(y, Loader=yaml.FullLoader)\n",
    "\n",
    "params = pd.read_csv(TEST_DIR / \"regression_vault\" / f\"one_stage_anchoring.csv\")\n",
    "params = params.set_index([\"category\", \"period\", \"name1\", \"name2\"])\n"
   ]
  },
  {
   "cell_type": "markdown",
   "metadata": {},
   "source": [
    "##  Simulated data without policy"
   ]
  },
  {
   "cell_type": "code",
   "execution_count": 3,
   "metadata": {},
   "outputs": [],
   "source": [
    "control_means = pd.Series([0], index=[\"x1\"])\n",
    "control_sds = pd.Series([1], index=[\"x1\"])"
   ]
  },
  {
   "cell_type": "code",
   "execution_count": 4,
   "metadata": {
    "scrolled": true
   },
   "outputs": [
    {
     "name": "stderr",
     "output_type": "stream",
     "text": [
      "WARNING:absl:No GPU/TPU found, falling back to CPU. (Set TF_CPP_MIN_LOG_LEVEL=0 and rerun for more info.)\n"
     ]
    },
    {
     "data": {
      "text/plain": [
       "(            Q1_fac1  constant        x1        y1        y2        y3  \\\n",
       " id period                                                               \n",
       " 0  0       2.759489       1.0  0.298359  0.188541  2.211018  2.500775   \n",
       "    1       0.162026       1.0  0.298359  0.794224  3.014125  0.221136   \n",
       "    2       0.788402       1.0  0.298359 -0.563458 -0.272157  0.342180   \n",
       "    3      -0.013867       1.0  0.298359 -1.013532  1.013031  1.834724   \n",
       "    4       3.454170       1.0  0.298359  2.084928  3.041390  0.104724   \n",
       " ...             ...       ...       ...       ...       ...       ...   \n",
       " 99 3      -1.075366       1.0  0.937389 -1.543976 -1.000913 -0.478862   \n",
       "    4      -1.664305       1.0  0.937389 -1.352240 -0.301531  0.045044   \n",
       "    5      -1.519237       1.0  0.937389  0.293441  0.427669 -0.471328   \n",
       "    6       1.193672       1.0  0.937389 -0.735118  0.225063  1.208368   \n",
       "    7       2.699464       1.0  0.937389  2.986717  1.738306  3.055116   \n",
       " \n",
       "                  y4        y5        y6        y7        y8        y9  \n",
       " id period                                                              \n",
       " 0  0       2.298179 -0.946178  1.375286  1.248054  2.087345  1.411677  \n",
       "    1      -0.723118 -0.234470  1.227024       NaN       NaN       NaN  \n",
       "    2       1.574554  2.158044  4.530563       NaN       NaN       NaN  \n",
       "    3       3.942327  6.191737  3.868887       NaN       NaN       NaN  \n",
       "    4       2.711605  2.781917  3.736716       NaN       NaN       NaN  \n",
       " ...             ...       ...       ...       ...       ...       ...  \n",
       " 99 3       0.149789 -1.318052 -4.527124       NaN       NaN       NaN  \n",
       "    4      -0.673134 -0.078867 -0.291433       NaN       NaN       NaN  \n",
       "    5       0.184078  2.369263  2.303318       NaN       NaN       NaN  \n",
       "    6       1.658026  0.270522  0.539931       NaN       NaN       NaN  \n",
       "    7       4.432087  4.728135  2.171939       NaN       NaN       NaN  \n",
       " \n",
       " [800 rows x 12 columns],\n",
       "                fac1      fac2      fac3\n",
       " id period                              \n",
       " 0  0       0.959071  0.177059  0.709121\n",
       "    1       0.118663 -0.064517  0.709121\n",
       "    2       0.381885  1.333967  0.709121\n",
       "    3      -0.435433  2.750866  0.709121\n",
       "    4       0.524866  1.521790  0.709121\n",
       " ...             ...       ...       ...\n",
       " 99 3      -2.480253 -3.034241 -0.058405\n",
       "    4      -2.337759 -1.363111 -0.058405\n",
       "    5      -2.465050 -0.913343 -0.058405\n",
       "    6      -1.548637 -0.727724 -0.058405\n",
       "    7      -0.019222  1.809962 -0.058405\n",
       " \n",
       " [800 rows x 3 columns])"
      ]
     },
     "execution_count": 4,
     "metadata": {},
     "output_type": "execute_result"
    }
   ],
   "source": [
    "initial_data =simulate_dataset(model_dict, params, n_obs=100, control_means=control_means,\n",
    "                             control_sds=control_sds, policies=None)\n",
    "initial_data "
   ]
  },
  {
   "cell_type": "markdown",
   "metadata": {},
   "source": [
    "##  Simulated data with policy"
   ]
  },
  {
   "cell_type": "code",
   "execution_count": 5,
   "metadata": {},
   "outputs": [],
   "source": [
    "policies = [\n",
    "        {\"period\": 0, \"factor\": \"fac1\", \"effect_size\": 0.2, \"standard_deviation\": 0.0},\n",
    "        {\"period\": 1, \"factor\": \"fac2\", \"effect_size\": 0.1, \"standard_deviation\": 0.0}]"
   ]
  },
  {
   "cell_type": "code",
   "execution_count": 6,
   "metadata": {},
   "outputs": [
    {
     "data": {
      "text/plain": [
       "(            Q1_fac1  constant        x1        y1        y2        y3  \\\n",
       " id period                                                               \n",
       " 0  0       3.392551       1.0  1.233778  1.088742  3.069778  2.313672   \n",
       "    1       0.320152       1.0  1.233778 -1.597029 -0.177177  0.787827   \n",
       "    2       0.636779       1.0  1.233778  0.285468  0.142373  2.350087   \n",
       "    3       1.421329       1.0  1.233778  0.095934  0.339438  1.299482   \n",
       "    4       1.573849       1.0  1.233778  1.134013  1.122015  1.445268   \n",
       " ...             ...       ...       ...       ...       ...       ...   \n",
       " 99 3       1.486454       1.0 -0.594728  2.220170  0.915202  1.636390   \n",
       "    4       1.457270       1.0 -0.594728  3.599744  3.636927  0.227899   \n",
       "    5       2.893405       1.0 -0.594728  2.648821 -0.794044  0.828340   \n",
       "    6       1.410918       1.0 -0.594728  0.237525  1.960261 -0.144451   \n",
       "    7       1.238352       1.0 -0.594728  1.676059  1.631343  0.657746   \n",
       " \n",
       "                  y4        y5        y6        y7        y8        y9  \n",
       " id period                                                              \n",
       " 0  0       2.008990  2.036494  2.953515  2.573699  5.900183  3.226503  \n",
       "    1      -0.001679  1.264932  3.091820       NaN       NaN       NaN  \n",
       "    2      -1.153797  2.292481  1.131881       NaN       NaN       NaN  \n",
       "    3      -0.607656  4.446207  0.780476       NaN       NaN       NaN  \n",
       "    4      -0.111732  1.391604  3.288816       NaN       NaN       NaN  \n",
       " ...             ...       ...       ...       ...       ...       ...  \n",
       " 99 3      -0.781397  1.439865  1.087736       NaN       NaN       NaN  \n",
       "    4       0.502188  2.434040  3.763221       NaN       NaN       NaN  \n",
       "    5       1.559253  1.126030  2.059333       NaN       NaN       NaN  \n",
       "    6      -0.529223  0.970495  1.085646       NaN       NaN       NaN  \n",
       "    7      -2.944851 -1.566873 -1.283458       NaN       NaN       NaN  \n",
       " \n",
       " [800 rows x 12 columns],\n",
       "                fac1      fac2      fac3\n",
       " id period                              \n",
       " 0  0       0.273585 -0.087837  0.512638\n",
       "    1      -2.225713 -0.625399  0.512638\n",
       "    2      -1.274128 -1.219459  0.512638\n",
       "    3      -1.132150 -0.026947  0.512638\n",
       "    4      -0.782646 -0.421321  0.512638\n",
       " ...             ...       ...       ...\n",
       " 99 3       0.775591 -0.015117 -0.215552\n",
       "    4       1.596458  1.404548 -0.215552\n",
       "    5       1.801512  1.517790 -0.215552\n",
       "    6       0.944342 -0.162613 -0.215552\n",
       "    7       0.351998 -1.552107 -0.215552\n",
       " \n",
       " [800 rows x 3 columns])"
      ]
     },
     "execution_count": 6,
     "metadata": {},
     "output_type": "execute_result"
    }
   ],
   "source": [
    "data_after_policies = simulate_dataset(model_dict, params, n_obs=100, control_means=control_means,\n",
    "                             control_sds=control_sds, policies=policies)\n",
    "data_after_policies"
   ]
  },
  {
   "cell_type": "code",
   "execution_count": null,
   "metadata": {},
   "outputs": [],
   "source": []
  }
 ],
 "metadata": {
  "kernelspec": {
   "display_name": "Python 3",
   "language": "python",
   "name": "python3"
  },
  "language_info": {
   "codemirror_mode": {
    "name": "ipython",
    "version": 3
   },
   "file_extension": ".py",
   "mimetype": "text/x-python",
   "name": "python",
   "nbconvert_exporter": "python",
   "pygments_lexer": "ipython3",
   "version": "3.8.8"
  }
 },
 "nbformat": 4,
 "nbformat_minor": 4
}
