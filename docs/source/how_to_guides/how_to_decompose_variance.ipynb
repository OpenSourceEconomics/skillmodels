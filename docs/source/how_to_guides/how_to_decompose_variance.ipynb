{
 "cells": [
  {
   "cell_type": "markdown",
   "metadata": {},
   "source": [
    "# Variance decomposition into the signal and the measurement error"
   ]
  },
  {
   "cell_type": "markdown",
   "metadata": {},
   "source": [
    "This notebook contains information on how to decompose variance of each skill measured into the measurement error and the signal. The calculations implemented follow section 4.2.2. The Empirical Importance of Measurement Error of CHS paper (*Cuhna, et al. 2010, 907*)."
   ]
  },
  {
   "cell_type": "code",
   "execution_count": 1,
   "metadata": {},
   "outputs": [],
   "source": [
    "import numpy as np\n",
    "import pandas as pd\n",
    "from skillmodels.config import TEST_DIR\n",
    "import yaml\n",
    "from skillmodels.likelihood_function import get_maximization_inputs\n",
    "from skillmodels.simulate_data import simulate_dataset\n",
    "from skillmodels.variance_decomposition import create_dataset_with_variance_decomposition"
   ]
  },
  {
   "cell_type": "code",
   "execution_count": 2,
   "metadata": {},
   "outputs": [],
   "source": [
    "with open(TEST_DIR/\"model2.yaml\") as y:\n",
    "        model_dict = yaml.load(y, Loader=yaml.FullLoader)\n",
    "\n",
    "params = pd.read_csv(TEST_DIR / \"regression_vault\" / f\"one_stage_anchoring.csv\")\n",
    "params = params.set_index([\"category\", \"period\", \"name1\", \"name2\"])\n",
    "\n",
    "data = pd.read_stata(TEST_DIR / \"model2_simulated_data.dta\")\n",
    "data.set_index([\"caseid\", \"period\"], inplace=True)"
   ]
  },
  {
   "cell_type": "code",
   "execution_count": 3,
   "metadata": {},
   "outputs": [
    {
     "name": "stderr",
     "output_type": "stream",
     "text": [
      "WARNING:absl:No GPU/TPU found, falling back to CPU. (Set TF_CPP_MIN_LOG_LEVEL=0 and rerun for more info.)\n",
      "/Users/sophie/Desktop/project skillmodels/skillmodels/skillmodels/process_data.py:60: FutureWarning: In a future version of pandas all arguments of MultiIndex.set_levels except for the argument 'levels' will be keyword-only\n",
      "  df.index = df.index.set_levels(range(len(df.index.levels[level])), level)\n"
     ]
    }
   ],
   "source": [
    "max_inputs = get_maximization_inputs(model_dict, data)\n",
    "debug_loglike = max_inputs[\"debug_loglike\"]\n",
    "debug_data = debug_loglike(params)\n",
    "filtered_states = debug_data[\"filtered_states\"]\n",
    "state_ranges = debug_data[\"state_ranges\"]"
   ]
  },
  {
   "cell_type": "markdown",
   "metadata": {},
   "source": [
    "The following formula from CHS paper (*Cuhna, et al. 2010, 907*) is used to decompose variance:"
   ]
  },
  {
   "cell_type": "markdown",
   "metadata": {},
   "source": [
    "$$\n",
    "\\begin{equation}\n",
    "Var(Z_{1,C,t,j}) = \\alpha^2_{1,C,t,j}*Var(ln\\theta_{C,t}) + Var(\\epsilon_{1,C,t,j})\n",
    "\\end{equation}\n",
    "$$"
   ]
  },
  {
   "cell_type": "markdown",
   "metadata": {},
   "source": [
    "The fraction of the variance due to measurement error and due to signal are the following:"
   ]
  },
  {
   "cell_type": "markdown",
   "metadata": {},
   "source": [
    "$$\n",
    "\\begin{equation}\n",
    "s^\\epsilon_{1,C,t,j}=\\frac{Var(\\epsilon_{1,C,t,j})}{\\alpha^2_{1,C,t,j}*Var(ln\\theta_{C,t}) + Var(\\epsilon_{1,C,t,j})}\n",
    "\\end{equation}\n",
    "$$\n",
    "\n",
    "$$\n",
    "\\begin{equation}\n",
    "s^\\theta_{1,C,t,j}=\\frac{\\alpha^2_{1,C,t,j}Var(ln\\theta_{C,t})}{\\alpha^2_{1,C,t,j}*Var(ln\\theta_{C,t}) + Var(\\epsilon_{1,C,t,j})}\n",
    "\\end{equation}\n",
    "$$\n",
    "\n"
   ]
  },
  {
   "cell_type": "markdown",
   "metadata": {},
   "source": [
    "where:\n",
    "* $Var(\\epsilon_{1,C,t,j})$ is variance of the standard error (**meas_sds^2** from the filtered states dataset)\n",
    "* $Var(ln\\theta_{C,t}$ is factor variance\n",
    "* $\\alpha$ is loadings from the filtered states dataset \n"
   ]
  },
  {
   "cell_type": "code",
   "execution_count": 4,
   "metadata": {},
   "outputs": [
    {
     "data": {
      "text/html": [
       "<div>\n",
       "<style scoped>\n",
       "    .dataframe tbody tr th:only-of-type {\n",
       "        vertical-align: middle;\n",
       "    }\n",
       "\n",
       "    .dataframe tbody tr th {\n",
       "        vertical-align: top;\n",
       "    }\n",
       "\n",
       "    .dataframe thead th {\n",
       "        text-align: right;\n",
       "    }\n",
       "</style>\n",
       "<table border=\"1\" class=\"dataframe\">\n",
       "  <thead>\n",
       "    <tr style=\"text-align: right;\">\n",
       "      <th></th>\n",
       "      <th></th>\n",
       "      <th></th>\n",
       "      <th>loadings</th>\n",
       "      <th>variance of factor</th>\n",
       "      <th>meas_sds</th>\n",
       "      <th>fraction due to meas error</th>\n",
       "      <th>fraction due to factor var</th>\n",
       "    </tr>\n",
       "    <tr>\n",
       "      <th>period</th>\n",
       "      <th>name1</th>\n",
       "      <th>name2</th>\n",
       "      <th></th>\n",
       "      <th></th>\n",
       "      <th></th>\n",
       "      <th></th>\n",
       "      <th></th>\n",
       "    </tr>\n",
       "  </thead>\n",
       "  <tbody>\n",
       "    <tr>\n",
       "      <th rowspan=\"5\" valign=\"top\">0</th>\n",
       "      <th>y1</th>\n",
       "      <th>fac1</th>\n",
       "      <td>1.000000</td>\n",
       "      <td>0.078080</td>\n",
       "      <td>0.868389</td>\n",
       "      <td>0.906174</td>\n",
       "      <td>0.093826</td>\n",
       "    </tr>\n",
       "    <tr>\n",
       "      <th>y2</th>\n",
       "      <th>fac1</th>\n",
       "      <td>0.890828</td>\n",
       "      <td>0.078080</td>\n",
       "      <td>1.189555</td>\n",
       "      <td>0.958049</td>\n",
       "      <td>0.041951</td>\n",
       "    </tr>\n",
       "    <tr>\n",
       "      <th>y3</th>\n",
       "      <th>fac1</th>\n",
       "      <td>1.418478</td>\n",
       "      <td>0.078080</td>\n",
       "      <td>1.111846</td>\n",
       "      <td>0.887244</td>\n",
       "      <td>0.112756</td>\n",
       "    </tr>\n",
       "    <tr>\n",
       "      <th>Q1_fac1</th>\n",
       "      <th>fac1</th>\n",
       "      <td>1.187757</td>\n",
       "      <td>0.078080</td>\n",
       "      <td>0.721278</td>\n",
       "      <td>0.825263</td>\n",
       "      <td>0.174737</td>\n",
       "    </tr>\n",
       "    <tr>\n",
       "      <th>y4</th>\n",
       "      <th>fac2</th>\n",
       "      <td>1.000000</td>\n",
       "      <td>0.054363</td>\n",
       "      <td>0.764474</td>\n",
       "      <td>0.914896</td>\n",
       "      <td>0.085104</td>\n",
       "    </tr>\n",
       "  </tbody>\n",
       "</table>\n",
       "</div>"
      ],
      "text/plain": [
       "                      loadings  variance of factor  meas_sds  \\\n",
       "period name1   name2                                           \n",
       "0      y1      fac1   1.000000            0.078080  0.868389   \n",
       "       y2      fac1   0.890828            0.078080  1.189555   \n",
       "       y3      fac1   1.418478            0.078080  1.111846   \n",
       "       Q1_fac1 fac1   1.187757            0.078080  0.721278   \n",
       "       y4      fac2   1.000000            0.054363  0.764474   \n",
       "\n",
       "                      fraction due to meas error  fraction due to factor var  \n",
       "period name1   name2                                                          \n",
       "0      y1      fac1                     0.906174                    0.093826  \n",
       "       y2      fac1                     0.958049                    0.041951  \n",
       "       y3      fac1                     0.887244                    0.112756  \n",
       "       Q1_fac1 fac1                     0.825263                    0.174737  \n",
       "       y4      fac2                     0.914896                    0.085104  "
      ]
     },
     "execution_count": 4,
     "metadata": {},
     "output_type": "execute_result"
    }
   ],
   "source": [
    "create_dataset_with_variance_decomposition(filtered_states, params).head()"
   ]
  },
  {
   "cell_type": "code",
   "execution_count": null,
   "metadata": {},
   "outputs": [],
   "source": []
  },
  {
   "cell_type": "markdown",
   "metadata": {},
   "source": [
    "Change in the measurement error affects the variance decomposition. Two cases where measurement error is equal to **0** and **10** respectively are presented below. In the first case all skill variance is related to the factor variance while in the second case most variance is reffered to the measurement error."
   ]
  },
  {
   "cell_type": "code",
   "execution_count": 5,
   "metadata": {},
   "outputs": [
    {
     "data": {
      "text/html": [
       "<div>\n",
       "<style scoped>\n",
       "    .dataframe tbody tr th:only-of-type {\n",
       "        vertical-align: middle;\n",
       "    }\n",
       "\n",
       "    .dataframe tbody tr th {\n",
       "        vertical-align: top;\n",
       "    }\n",
       "\n",
       "    .dataframe thead th {\n",
       "        text-align: right;\n",
       "    }\n",
       "</style>\n",
       "<table border=\"1\" class=\"dataframe\">\n",
       "  <thead>\n",
       "    <tr style=\"text-align: right;\">\n",
       "      <th></th>\n",
       "      <th></th>\n",
       "      <th></th>\n",
       "      <th>loadings</th>\n",
       "      <th>variance of factor</th>\n",
       "      <th>meas_sds</th>\n",
       "      <th>fraction due to meas error</th>\n",
       "      <th>fraction due to factor var</th>\n",
       "    </tr>\n",
       "    <tr>\n",
       "      <th>period</th>\n",
       "      <th>name1</th>\n",
       "      <th>name2</th>\n",
       "      <th></th>\n",
       "      <th></th>\n",
       "      <th></th>\n",
       "      <th></th>\n",
       "      <th></th>\n",
       "    </tr>\n",
       "  </thead>\n",
       "  <tbody>\n",
       "    <tr>\n",
       "      <th rowspan=\"5\" valign=\"top\">0</th>\n",
       "      <th>y1</th>\n",
       "      <th>fac1</th>\n",
       "      <td>1.000000</td>\n",
       "      <td>0.078080</td>\n",
       "      <td>0.0</td>\n",
       "      <td>0.0</td>\n",
       "      <td>1.0</td>\n",
       "    </tr>\n",
       "    <tr>\n",
       "      <th>y2</th>\n",
       "      <th>fac1</th>\n",
       "      <td>0.890828</td>\n",
       "      <td>0.078080</td>\n",
       "      <td>0.0</td>\n",
       "      <td>0.0</td>\n",
       "      <td>1.0</td>\n",
       "    </tr>\n",
       "    <tr>\n",
       "      <th>y3</th>\n",
       "      <th>fac1</th>\n",
       "      <td>1.418478</td>\n",
       "      <td>0.078080</td>\n",
       "      <td>0.0</td>\n",
       "      <td>0.0</td>\n",
       "      <td>1.0</td>\n",
       "    </tr>\n",
       "    <tr>\n",
       "      <th>Q1_fac1</th>\n",
       "      <th>fac1</th>\n",
       "      <td>1.187757</td>\n",
       "      <td>0.078080</td>\n",
       "      <td>0.0</td>\n",
       "      <td>0.0</td>\n",
       "      <td>1.0</td>\n",
       "    </tr>\n",
       "    <tr>\n",
       "      <th>y4</th>\n",
       "      <th>fac2</th>\n",
       "      <td>1.000000</td>\n",
       "      <td>0.054363</td>\n",
       "      <td>0.0</td>\n",
       "      <td>0.0</td>\n",
       "      <td>1.0</td>\n",
       "    </tr>\n",
       "  </tbody>\n",
       "</table>\n",
       "</div>"
      ],
      "text/plain": [
       "                      loadings  variance of factor  meas_sds  \\\n",
       "period name1   name2                                           \n",
       "0      y1      fac1   1.000000            0.078080       0.0   \n",
       "       y2      fac1   0.890828            0.078080       0.0   \n",
       "       y3      fac1   1.418478            0.078080       0.0   \n",
       "       Q1_fac1 fac1   1.187757            0.078080       0.0   \n",
       "       y4      fac2   1.000000            0.054363       0.0   \n",
       "\n",
       "                      fraction due to meas error  fraction due to factor var  \n",
       "period name1   name2                                                          \n",
       "0      y1      fac1                          0.0                         1.0  \n",
       "       y2      fac1                          0.0                         1.0  \n",
       "       y3      fac1                          0.0                         1.0  \n",
       "       Q1_fac1 fac1                          0.0                         1.0  \n",
       "       y4      fac2                          0.0                         1.0  "
      ]
     },
     "execution_count": 5,
     "metadata": {},
     "output_type": "execute_result"
    }
   ],
   "source": [
    "params.loc[('meas_sds')] = 0\n",
    "create_dataset_with_variance_decomposition(filtered_states, params).head()"
   ]
  },
  {
   "cell_type": "code",
   "execution_count": 6,
   "metadata": {},
   "outputs": [
    {
     "data": {
      "text/html": [
       "<div>\n",
       "<style scoped>\n",
       "    .dataframe tbody tr th:only-of-type {\n",
       "        vertical-align: middle;\n",
       "    }\n",
       "\n",
       "    .dataframe tbody tr th {\n",
       "        vertical-align: top;\n",
       "    }\n",
       "\n",
       "    .dataframe thead th {\n",
       "        text-align: right;\n",
       "    }\n",
       "</style>\n",
       "<table border=\"1\" class=\"dataframe\">\n",
       "  <thead>\n",
       "    <tr style=\"text-align: right;\">\n",
       "      <th></th>\n",
       "      <th></th>\n",
       "      <th></th>\n",
       "      <th>loadings</th>\n",
       "      <th>variance of factor</th>\n",
       "      <th>meas_sds</th>\n",
       "      <th>fraction due to meas error</th>\n",
       "      <th>fraction due to factor var</th>\n",
       "    </tr>\n",
       "    <tr>\n",
       "      <th>period</th>\n",
       "      <th>name1</th>\n",
       "      <th>name2</th>\n",
       "      <th></th>\n",
       "      <th></th>\n",
       "      <th></th>\n",
       "      <th></th>\n",
       "      <th></th>\n",
       "    </tr>\n",
       "  </thead>\n",
       "  <tbody>\n",
       "    <tr>\n",
       "      <th rowspan=\"5\" valign=\"top\">0</th>\n",
       "      <th>y1</th>\n",
       "      <th>fac1</th>\n",
       "      <td>1.000000</td>\n",
       "      <td>0.078080</td>\n",
       "      <td>10.0</td>\n",
       "      <td>0.999220</td>\n",
       "      <td>0.000780</td>\n",
       "    </tr>\n",
       "    <tr>\n",
       "      <th>y2</th>\n",
       "      <th>fac1</th>\n",
       "      <td>0.890828</td>\n",
       "      <td>0.078080</td>\n",
       "      <td>10.0</td>\n",
       "      <td>0.999381</td>\n",
       "      <td>0.000619</td>\n",
       "    </tr>\n",
       "    <tr>\n",
       "      <th>y3</th>\n",
       "      <th>fac1</th>\n",
       "      <td>1.418478</td>\n",
       "      <td>0.078080</td>\n",
       "      <td>10.0</td>\n",
       "      <td>0.998431</td>\n",
       "      <td>0.001569</td>\n",
       "    </tr>\n",
       "    <tr>\n",
       "      <th>Q1_fac1</th>\n",
       "      <th>fac1</th>\n",
       "      <td>1.187757</td>\n",
       "      <td>0.078080</td>\n",
       "      <td>10.0</td>\n",
       "      <td>0.998900</td>\n",
       "      <td>0.001100</td>\n",
       "    </tr>\n",
       "    <tr>\n",
       "      <th>y4</th>\n",
       "      <th>fac2</th>\n",
       "      <td>1.000000</td>\n",
       "      <td>0.054363</td>\n",
       "      <td>10.0</td>\n",
       "      <td>0.999457</td>\n",
       "      <td>0.000543</td>\n",
       "    </tr>\n",
       "  </tbody>\n",
       "</table>\n",
       "</div>"
      ],
      "text/plain": [
       "                      loadings  variance of factor  meas_sds  \\\n",
       "period name1   name2                                           \n",
       "0      y1      fac1   1.000000            0.078080      10.0   \n",
       "       y2      fac1   0.890828            0.078080      10.0   \n",
       "       y3      fac1   1.418478            0.078080      10.0   \n",
       "       Q1_fac1 fac1   1.187757            0.078080      10.0   \n",
       "       y4      fac2   1.000000            0.054363      10.0   \n",
       "\n",
       "                      fraction due to meas error  fraction due to factor var  \n",
       "period name1   name2                                                          \n",
       "0      y1      fac1                     0.999220                    0.000780  \n",
       "       y2      fac1                     0.999381                    0.000619  \n",
       "       y3      fac1                     0.998431                    0.001569  \n",
       "       Q1_fac1 fac1                     0.998900                    0.001100  \n",
       "       y4      fac2                     0.999457                    0.000543  "
      ]
     },
     "execution_count": 6,
     "metadata": {},
     "output_type": "execute_result"
    }
   ],
   "source": [
    "params.loc[('meas_sds')] = 10\n",
    "create_dataset_with_variance_decomposition(filtered_states, params).head()"
   ]
  },
  {
   "cell_type": "code",
   "execution_count": null,
   "metadata": {},
   "outputs": [],
   "source": []
  }
 ],
 "metadata": {
  "hide_input": false,
  "kernelspec": {
   "display_name": "Python 3",
   "language": "python",
   "name": "python3"
  },
  "language_info": {
   "codemirror_mode": {
    "name": "ipython",
    "version": 3
   },
   "file_extension": ".py",
   "mimetype": "text/x-python",
   "name": "python",
   "nbconvert_exporter": "python",
   "pygments_lexer": "ipython3",
   "version": "3.8.8"
  },
  "toc": {
   "base_numbering": 1,
   "nav_menu": {},
   "number_sections": false,
   "sideBar": true,
   "skip_h1_title": false,
   "title_cell": "Table of Contents",
   "title_sidebar": "Contents",
   "toc_cell": false,
   "toc_position": {
    "height": "calc(100% - 180px)",
    "left": "10px",
    "top": "150px",
    "width": "285px"
   },
   "toc_section_display": true,
   "toc_window_display": true
  }
 },
 "nbformat": 4,
 "nbformat_minor": 4
}
